{
  "nbformat": 4,
  "nbformat_minor": 0,
  "metadata": {
    "colab": {
      "provenance": [],
      "collapsed_sections": [
        "eh4izyI1d1l6",
        "BLQbyIjgjfjg",
        "uhWCxnmSpgs4",
        "9m3HDoB86G13",
        "SNjXm6rzGmmD",
        "C_6RZQ6istD-",
        "eq-kHAAMQaO2",
        "jEyakPJyJg8g"
      ]
    },
    "kernelspec": {
      "name": "python3",
      "display_name": "Python 3"
    },
    "language_info": {
      "name": "python"
    }
  },
  "cells": [
    {
      "cell_type": "markdown",
      "metadata": {
        "id": "tZW0qGdPW1XO"
      },
      "source": [
        "# Sistemas de Recomendação - IGTI\n",
        "\n",
        "Professor: [Matheus Mendonça](https://www.linkedin.com/in/matheusmendonca/)"
      ]
    },
    {
      "cell_type": "code",
      "metadata": {
        "id": "RLjCamNKAxuy"
      },
      "source": [
        "# importanto bibliotecas padrões\n",
        "import numpy as np\n",
        "import matplotlib.pyplot as plt\n",
        "import pandas as pd\n",
        "\n",
        "# distância\n",
        "from scipy.spatial.distance import pdist, hamming, cosine"
      ],
      "execution_count": null,
      "outputs": []
    },
    {
      "cell_type": "markdown",
      "metadata": {
        "id": "cnymYEVBXgOj"
      },
      "source": [
        "## Capítulo 2. Fundamentos"
      ]
    },
    {
      "cell_type": "markdown",
      "metadata": {
        "id": "gMRekuCvcfSY"
      },
      "source": [
        "### Aula 2.4 - Distância euclidiana"
      ]
    },
    {
      "cell_type": "markdown",
      "metadata": {
        "id": "_jo6Pm4qcrdb"
      },
      "source": [
        "Distância euclidiana entre os vetores $n$-dimensionais $x$ e $y$:\n",
        "\n",
        "$$d(x,y) = \\sqrt{\\sum_{i=1}^n(x_i-y_i)^2} = \\|x-y\\|_2.$$"
      ]
    },
    {
      "cell_type": "code",
      "metadata": {
        "id": "tO6rIg5LX08M"
      },
      "source": [
        "def euclidean_distance(x: np.array, y: np.array):\n",
        "  \"\"\"Calcula a distância euclidiana entre os arrays x e y.\"\"\"\n",
        "  \n",
        "  # distância\n",
        "  distance = np.sqrt(np.sum((x-y)**2))\n",
        "\n",
        "  return distance"
      ],
      "execution_count": null,
      "outputs": []
    },
    {
      "cell_type": "code",
      "metadata": {
        "id": "qP32M76XYml7"
      },
      "source": [
        "# exemplos arrays\n",
        "x = np.array([0, 1, 4])\n",
        "y = np.array([0, 1, 4])"
      ],
      "execution_count": null,
      "outputs": []
    },
    {
      "cell_type": "code",
      "metadata": {
        "colab": {
          "base_uri": "https://localhost:8080/"
        },
        "id": "r2d8QXc9ZARu",
        "outputId": "04429041-6e0a-4da4-d166-dd17597a2bd7"
      },
      "source": [
        "# calcula distância euclidina\n",
        "d = euclidean_distance(x, y)\n",
        "print(f\"A distância euclidiana entre x e y é {d}.\") "
      ],
      "execution_count": null,
      "outputs": [
        {
          "output_type": "stream",
          "name": "stdout",
          "text": [
            "A distância euclidiana entre x e y é 0.0.\n"
          ]
        }
      ]
    },
    {
      "cell_type": "markdown",
      "source": [
        "A Norma é geralmente calculada usando a seguinte operação numpy:"
      ],
      "metadata": {
        "id": "yUq1AjlVXTEG"
      }
    },
    {
      "cell_type": "code",
      "metadata": {
        "id": "GVvgxpiKcSBa"
      },
      "source": [
        "np.linalg.norm?"
      ],
      "execution_count": null,
      "outputs": []
    },
    {
      "cell_type": "code",
      "metadata": {
        "colab": {
          "base_uri": "https://localhost:8080/"
        },
        "id": "UEwTe55NZtAK",
        "outputId": "4828d319-cbb6-4044-f423-7d850058bd4f"
      },
      "source": [
        "# outras funções para cálculo de norma\n",
        "np.linalg.norm(x-y)"
      ],
      "execution_count": null,
      "outputs": [
        {
          "output_type": "execute_result",
          "data": {
            "text/plain": [
              "0.0"
            ]
          },
          "metadata": {},
          "execution_count": 6
        }
      ]
    },
    {
      "cell_type": "markdown",
      "metadata": {
        "id": "eh4izyI1d1l6"
      },
      "source": [
        "### Aula 2.5 - Distância de Hamming"
      ]
    },
    {
      "cell_type": "markdown",
      "metadata": {
        "id": "wWl3xbe4erjR"
      },
      "source": [
        "Distância de Hamming entre dois vetores binários $n$-dimensionais $x$ e $y$ é dada por:\n",
        "\n",
        "$$h(x,y) = \\sum_{i=1}^n |x_i-y_i|.$$\n",
        "\n",
        "É interessante dividir o resultado por $n$ para termos uma proporção dos elementos discordantes:\n",
        "\n",
        "$$\\bar{h}(x,y) = \\frac{1}{n}\\sum_{i=1}^n |x_i-y_i|,$$\n",
        "assim, a distância normalizada fica no intervalo $[0, 1]$."
      ]
    },
    {
      "cell_type": "code",
      "metadata": {
        "id": "_WE-9GRBd63t"
      },
      "source": [
        "def hamming_distance(x: np.array, y: np.array, normalize: bool = False):\n",
        "  \"\"\"Calcula a distância euclidiana entre os arrays x e y.\"\"\"\n",
        "  \n",
        "  # distãncia\n",
        "  factor = 1. if not normalize else 1/len(x)\n",
        "  distance = factor * np.sum(np.abs(x-y))\n",
        "\n",
        "  return distance"
      ],
      "execution_count": null,
      "outputs": []
    },
    {
      "cell_type": "code",
      "metadata": {
        "id": "sB2pJfnyhQxV"
      },
      "source": [
        "# exemplos arrays BINÁRIOS\n",
        "x = np.array([1, 0, 0, 1, 1, 0])\n",
        "y = np.array([1, 1, 0, 0, 0, 0])"
      ],
      "execution_count": null,
      "outputs": []
    },
    {
      "cell_type": "code",
      "metadata": {
        "colab": {
          "base_uri": "https://localhost:8080/"
        },
        "id": "HvI9O5A4hg4V",
        "outputId": "349383f0-6ebc-4153-90c6-fca09a996458"
      },
      "source": [
        "# calcula distância de hamming\n",
        "h = hamming_distance(x, y)\n",
        "print(f\"A distância de Hamming entre x e y é {h}.\") "
      ],
      "execution_count": null,
      "outputs": [
        {
          "output_type": "stream",
          "name": "stdout",
          "text": [
            "A distância de Hamming entre x e y é 3.0.\n"
          ]
        }
      ]
    },
    {
      "cell_type": "code",
      "metadata": {
        "colab": {
          "base_uri": "https://localhost:8080/"
        },
        "id": "vSYHdyo9hv1G",
        "outputId": "3dbe659c-2f9b-4054-c3b5-cfd7c1794615"
      },
      "source": [
        "# calcula distância de hamming\n",
        "h = hamming_distance(x, y, normalize=True)\n",
        "print(f\"A distância de Hamming normalizada entre x e y é {h}.\") "
      ],
      "execution_count": null,
      "outputs": [
        {
          "output_type": "stream",
          "name": "stdout",
          "text": [
            "A distância de Hamming normalizada entre x e y é 0.5.\n"
          ]
        }
      ]
    },
    {
      "cell_type": "markdown",
      "source": [
        "A distância de hamming é geralmente calculada utilizando a função hamming, da biblioteca scipy"
      ],
      "metadata": {
        "id": "PZ71yuyBXpHs"
      }
    },
    {
      "cell_type": "code",
      "metadata": {
        "id": "apjGy3hoizse"
      },
      "source": [
        "# outras funções para cálculo de distância de Hamming\n",
        "hamming?"
      ],
      "execution_count": null,
      "outputs": []
    },
    {
      "cell_type": "code",
      "metadata": {
        "colab": {
          "base_uri": "https://localhost:8080/"
        },
        "id": "_qM3CMm7jDT6",
        "outputId": "c9736c19-9f59-4188-81fc-0b23a438a7df"
      },
      "source": [
        "hamming(x, y)"
      ],
      "execution_count": null,
      "outputs": [
        {
          "output_type": "execute_result",
          "data": {
            "text/plain": [
              "0.5"
            ]
          },
          "metadata": {},
          "execution_count": 12
        }
      ]
    },
    {
      "cell_type": "markdown",
      "metadata": {
        "id": "BLQbyIjgjfjg"
      },
      "source": [
        "### Aula 2.6 - Produto interno e similaridade por cosseno"
      ]
    },
    {
      "cell_type": "markdown",
      "metadata": {
        "id": "QZfvq7KGkh3Z"
      },
      "source": [
        "O produto interno entre dois vetores binários $n$-dimensionais $x$ e $y$ é dada por:\n",
        "\n",
        "$$x \\cdot y = x^Ty = \\sum_{i=1}^nx_iy_i = \\|x\\|\\|y\\|\\cos(x,y).$$\n",
        "\n",
        "A similaridade de cossenos entre $x$ e $y$ é, então, dada por:\n",
        "$$cos(x,y) = \\frac{x \\cdot y}{\\|x\\|\\|y\\|}.$$"
      ]
    },
    {
      "cell_type": "code",
      "metadata": {
        "id": "j7V0F1QYkg_3"
      },
      "source": [
        "# exemplos arrays BINÁRIOS\n",
        "x = np.array([1, 0, 0, 1, 1, 1]).reshape(-1, 1)\n",
        "y = np.array([1, 1, 0, 0, 1, 0]).reshape(-1, 1)"
      ],
      "execution_count": null,
      "outputs": []
    },
    {
      "cell_type": "code",
      "metadata": {
        "colab": {
          "base_uri": "https://localhost:8080/"
        },
        "id": "JYo2zItJllvc",
        "outputId": "218b32a0-c5b3-49d3-c869-dadf294e484a"
      },
      "source": [
        "print(\"x:\\n\", x)\n",
        "print(\"y:\\n\", y)"
      ],
      "execution_count": null,
      "outputs": [
        {
          "output_type": "stream",
          "name": "stdout",
          "text": [
            "x:\n",
            " [[1]\n",
            " [0]\n",
            " [0]\n",
            " [1]\n",
            " [1]\n",
            " [1]]\n",
            "y:\n",
            " [[1]\n",
            " [1]\n",
            " [0]\n",
            " [0]\n",
            " [1]\n",
            " [0]]\n"
          ]
        }
      ]
    },
    {
      "cell_type": "markdown",
      "source": [
        "Primeiramente, como calcular o produto interno:"
      ],
      "metadata": {
        "id": "2xlXHgI8Waj7"
      }
    },
    {
      "cell_type": "code",
      "metadata": {
        "colab": {
          "base_uri": "https://localhost:8080/"
        },
        "id": "glCGyZellc-s",
        "outputId": "d7eedcf9-46e4-4e39-eb10-764f531ca9bf"
      },
      "source": [
        "# produto interno\n",
        "# OBS.: o '@' é um operador do numpy para multiplicação de matrizes\n",
        "x.T @ y"
      ],
      "execution_count": null,
      "outputs": [
        {
          "output_type": "execute_result",
          "data": {
            "text/plain": [
              "array([[2]])"
            ]
          },
          "metadata": {},
          "execution_count": 15
        }
      ]
    },
    {
      "cell_type": "code",
      "metadata": {
        "colab": {
          "base_uri": "https://localhost:8080/"
        },
        "id": "34YCUQkNmI_I",
        "outputId": "d36d156a-f97d-4220-d94c-adc17c3d6732"
      },
      "source": [
        "# produto interno\n",
        "np.sum(x * y)"
      ],
      "execution_count": null,
      "outputs": [
        {
          "output_type": "execute_result",
          "data": {
            "text/plain": [
              "2"
            ]
          },
          "metadata": {},
          "execution_count": 16
        }
      ]
    },
    {
      "cell_type": "markdown",
      "source": [
        "Ao realizar o produto interno, geralmente se usa a operação .dot do numpy:"
      ],
      "metadata": {
        "id": "TvoeAwCJXBSI"
      }
    },
    {
      "cell_type": "code",
      "metadata": {
        "id": "IlZry0a3m5kQ"
      },
      "source": [
        "np.dot?"
      ],
      "execution_count": null,
      "outputs": []
    },
    {
      "cell_type": "code",
      "metadata": {
        "colab": {
          "base_uri": "https://localhost:8080/"
        },
        "id": "8wUYVi0jmT9I",
        "outputId": "afc5c9be-4a7b-4aef-fbd3-0a1811944123"
      },
      "source": [
        "np.dot(x.ravel(), y.ravel()) # o '.ravel' transforma a array coluna no formato de linha"
      ],
      "execution_count": null,
      "outputs": [
        {
          "output_type": "execute_result",
          "data": {
            "text/plain": [
              "2"
            ]
          },
          "metadata": {},
          "execution_count": 18
        }
      ]
    },
    {
      "cell_type": "markdown",
      "source": [
        "Agora que sabemos como calcular o produto interno, podemos passar para a parte de 'Similaridade por Cossenos'."
      ],
      "metadata": {
        "id": "Xb9UPmenWfZt"
      }
    },
    {
      "cell_type": "code",
      "metadata": {
        "id": "h4Eo5rmduGsq"
      },
      "source": [
        "def cosine_similarity(x: np.array, y: np.array):\n",
        "  \"\"\"Calcula a similaridade de cossenos entre os arrays x e y.\"\"\"\n",
        "  \n",
        "  cosine_sim = np.dot(x, y)/(np.linalg.norm(x) * np.linalg.norm(y))\n",
        "\n",
        "  return cosine_sim "
      ],
      "execution_count": null,
      "outputs": []
    },
    {
      "cell_type": "code",
      "metadata": {
        "colab": {
          "base_uri": "https://localhost:8080/"
        },
        "id": "Utrq7zXtm2NN",
        "outputId": "6361c56f-241b-43d2-a585-98a2eef49882"
      },
      "source": [
        "# calcula a similaridade de cossenos\n",
        "c = cosine_similarity(x.ravel(), y.ravel())\n",
        "print(f\"A similaridade de cossenos entre x e y é {c}.\") "
      ],
      "execution_count": null,
      "outputs": [
        {
          "output_type": "stream",
          "name": "stdout",
          "text": [
            "A similaridade de cossenos entre x e y é 0.5773502691896258.\n"
          ]
        }
      ]
    },
    {
      "cell_type": "markdown",
      "source": [
        "A similaridade por cossenos é geralmente calculada utilizando a função '**cosine**', da biblioteca scipy"
      ],
      "metadata": {
        "id": "gofLu-UnYe03"
      }
    },
    {
      "cell_type": "code",
      "metadata": {
        "id": "7I1SSGWOoUkP"
      },
      "source": [
        "# outras funções para cálculo de similaridade de cossenos\n",
        "cosine?"
      ],
      "execution_count": null,
      "outputs": []
    },
    {
      "cell_type": "markdown",
      "source": [
        "Entretanto, a função cosine calcula a DISTÂNCIA dos cossenos.\n",
        "\n",
        "Conforme já visto, DISTÂNCIA e SIMILARIDADE são **complementares**. Quanto MAIOR a distância MENOR a similaridade.\n",
        "\n",
        "Assim, caso queira encontrar a similaridade usando a função **cosine**, faça **'1 - cosine(x,y)'**"
      ],
      "metadata": {
        "id": "vw2pVK9cYxvt"
      }
    },
    {
      "cell_type": "code",
      "metadata": {
        "colab": {
          "base_uri": "https://localhost:8080/"
        },
        "id": "wHO2f3pSoJqn",
        "outputId": "43c88e17-97d8-462e-8afb-08eeeae17386"
      },
      "source": [
        "1 - cosine(x.ravel(), y.ravel())"
      ],
      "execution_count": null,
      "outputs": [
        {
          "output_type": "execute_result",
          "data": {
            "text/plain": [
              "0.5773502691896257"
            ]
          },
          "metadata": {},
          "execution_count": 22
        }
      ]
    },
    {
      "cell_type": "markdown",
      "metadata": {
        "id": "i8TVbmcut2ge"
      },
      "source": [
        "### Aula 2.7 - Distância euclidiana vs similaridade por cossenos"
      ]
    },
    {
      "cell_type": "markdown",
      "metadata": {
        "id": "BW9ezHnFvkVu"
      },
      "source": [
        "Relembrando que:\n",
        "\n",
        "- Distância Euclidiana: é como se pegássemos uma régua e víssemos a DISTÂNCIA entre a laranja e a maçã.\n",
        "\n",
        "- Similaridade por Cossenos: olha mais para o ângulo entre os dois vetores. O cosseno permite entender se os dois vetores estão indo para o mesmo sentido e não olha muito para a magnitude desses vetores.\n",
        "\n",
        "Nesta prática, será entendido quando é melhor usar a Distância Euclidiana e quando usar Similaridade por Cossenos."
      ]
    },
    {
      "cell_type": "markdown",
      "metadata": {
        "id": "MxCtAV47uFep"
      },
      "source": [
        "![Screenshot from 2021-08-28 10-13-29.png](data:image/png;base64,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)"
      ]
    },
    {
      "cell_type": "markdown",
      "source": [
        "A prática será verificar a SIMILARIDADE entre dois textos."
      ],
      "metadata": {
        "id": "_69MoqXha0zb"
      }
    },
    {
      "cell_type": "code",
      "metadata": {
        "id": "b7HIEYjfxUDf",
        "colab": {
          "base_uri": "https://localhost:8080/"
        },
        "outputId": "1569d92a-7bd4-4c79-f62d-bd9b0a1b3216"
      },
      "source": [
        "# para instalar: descomentar a linha e executar a célula\n",
        "!pip install wikipedia"
      ],
      "execution_count": null,
      "outputs": [
        {
          "output_type": "stream",
          "name": "stdout",
          "text": [
            "Looking in indexes: https://pypi.org/simple, https://us-python.pkg.dev/colab-wheels/public/simple/\n",
            "Collecting wikipedia\n",
            "  Downloading wikipedia-1.4.0.tar.gz (27 kB)\n",
            "  Preparing metadata (setup.py) ... \u001b[?25l\u001b[?25hdone\n",
            "Requirement already satisfied: beautifulsoup4 in /usr/local/lib/python3.8/dist-packages (from wikipedia) (4.6.3)\n",
            "Requirement already satisfied: requests<3.0.0,>=2.0.0 in /usr/local/lib/python3.8/dist-packages (from wikipedia) (2.25.1)\n",
            "Requirement already satisfied: urllib3<1.27,>=1.21.1 in /usr/local/lib/python3.8/dist-packages (from requests<3.0.0,>=2.0.0->wikipedia) (1.26.14)\n",
            "Requirement already satisfied: certifi>=2017.4.17 in /usr/local/lib/python3.8/dist-packages (from requests<3.0.0,>=2.0.0->wikipedia) (2022.12.7)\n",
            "Requirement already satisfied: chardet<5,>=3.0.2 in /usr/local/lib/python3.8/dist-packages (from requests<3.0.0,>=2.0.0->wikipedia) (4.0.0)\n",
            "Requirement already satisfied: idna<3,>=2.5 in /usr/local/lib/python3.8/dist-packages (from requests<3.0.0,>=2.0.0->wikipedia) (2.10)\n",
            "Building wheels for collected packages: wikipedia\n",
            "  Building wheel for wikipedia (setup.py) ... \u001b[?25l\u001b[?25hdone\n",
            "  Created wheel for wikipedia: filename=wikipedia-1.4.0-py3-none-any.whl size=11695 sha256=39081d4d0084f22a1ca4008c7c0f0111ef1c4d05981c8e241bdc54fde24fccd1\n",
            "  Stored in directory: /root/.cache/pip/wheels/07/93/05/72c05349177dca2e0ba31a33ba4f7907606f7ddef303517c6a\n",
            "Successfully built wikipedia\n",
            "Installing collected packages: wikipedia\n",
            "Successfully installed wikipedia-1.4.0\n"
          ]
        }
      ]
    },
    {
      "cell_type": "code",
      "metadata": {
        "id": "daGGiW8FxAji"
      },
      "source": [
        "# wikipedia\n",
        "import wikipedia"
      ],
      "execution_count": null,
      "outputs": []
    },
    {
      "cell_type": "code",
      "metadata": {
        "id": "_HClLHnRyCYA"
      },
      "source": [
        "# configurando para o português\n",
        "wikipedia.set_lang(\"pt\")"
      ],
      "execution_count": null,
      "outputs": []
    },
    {
      "cell_type": "code",
      "metadata": {
        "id": "6XkdFdh9xg5c"
      },
      "source": [
        "# queries\n",
        "query_1 = wikipedia.page(\"Inteligência Artificial\")\n",
        "query_2 = wikipedia.page(\"Futebol\")\n",
        "query_3 = wikipedia.page(\"Aprendizado de máquinas\")\n",
        "query_4 = wikipedia.page(\"Voleibol\")"
      ],
      "execution_count": null,
      "outputs": []
    },
    {
      "cell_type": "code",
      "metadata": {
        "colab": {
          "base_uri": "https://localhost:8080/",
          "height": 35
        },
        "id": "Sy4o4ATlxnsG",
        "outputId": "cb37fd8e-6981-4c18-90a1-0e62486b5e19"
      },
      "source": [
        "query_1.title"
      ],
      "execution_count": null,
      "outputs": [
        {
          "output_type": "execute_result",
          "data": {
            "text/plain": [
              "'Inteligência artificial'"
            ],
            "application/vnd.google.colaboratory.intrinsic+json": {
              "type": "string"
            }
          },
          "metadata": {},
          "execution_count": 27
        }
      ]
    },
    {
      "cell_type": "code",
      "metadata": {
        "colab": {
          "base_uri": "https://localhost:8080/",
          "height": 35
        },
        "id": "jZZnigYUyS0r",
        "outputId": "98a608e9-2e93-4250-f4c6-109e63a95de8"
      },
      "source": [
        "query_1.url"
      ],
      "execution_count": null,
      "outputs": [
        {
          "output_type": "execute_result",
          "data": {
            "text/plain": [
              "'https://pt.wikipedia.org/wiki/Intelig%C3%AAncia_artificial'"
            ],
            "application/vnd.google.colaboratory.intrinsic+json": {
              "type": "string"
            }
          },
          "metadata": {},
          "execution_count": 28
        }
      ]
    },
    {
      "cell_type": "code",
      "metadata": {
        "colab": {
          "base_uri": "https://localhost:8080/",
          "height": 157
        },
        "id": "pMJMDaaqyW9K",
        "outputId": "5dbc3376-dc64-4e3a-9a3e-142595902240"
      },
      "source": [
        "query_1.content"
      ],
      "execution_count": null,
      "outputs": [
        {
          "output_type": "execute_result",
          "data": {
            "text/plain": [
              "'Na tecnologia, a Inteligência Artificial (de sigla: IA; do inglês: Artificial Intelligence, de sigla: AI) é a inteligência demonstrada por máquinas ao executar tarefas complexas associadas a seres inteligentes, além de também ser um campo de estudo acadêmico, no qual o principal objetivo é de executar funções de modo autônomo. \\nÉ um conceito amplo e que recebe tantas definições quanto significados diferentes à palavra inteligência. É possível considerar algumas características básicas desses sistemas, como a capacidade de raciocínio (aplicar regras lógicas a um conjunto de dados disponíveis para chegar a uma conclusão), aprendizagem (aprender com os erros e acertos para que no futuro possa agir de maneira mais eficaz), reconhecer padrões (tanto padrões visuais e sensoriais, como também padrões de comportamento) e inferência (capacidade de conseguir aplicar o raciocínio nas situações do nosso cotidiano).O desenvolvimento da área de estudo começou logo após a Segunda Guerra Mundial, com o artigo \"Computing Machinery and Intelligence\" do matemático inglês Alan Turing, e o próprio nome foi cunhado em 1956. Seus principais idealizadores foram os cientistas Herbert Simon, Allen Newell, John McCarthy, Warren McCulloch, Walter Pitts e Marvin Minsky. A construção de máquinas inteligentes interessa à humanidade há muito tempo, havendo na história tanto um registro significante de autômatos mecânicos (reais) quanto de personagens fictícios construídos pelo homem com inteligência própria, tais como o Golem e o Frankenstein. Tais relatos, lendas e ficções demonstram expectativas contrastantes do homem, de fascínio e de medo, em relação à Inteligência Artificial.Apenas recentemente, com o surgimento do computador moderno, é que a inteligência artificial ganhou meios e massa crítica para se estabelecer como ciência integral, com problemáticas e metodologias próprias. Desde então, seu desenvolvimento tem extrapolado os clássicos programas de xadrez ou de conversão e envolvido áreas como visão computacional, análise e síntese da voz, lógica difusa, redes neurais artificiais e muitas outras. Inicialmente, os modelos de IA visavam reproduzir o pensamento humano. Posteriormente, no entanto, tais modelos abraçaram a ideia de reproduzir capacidades humanas como criatividade, auto aperfeiçoamento e uso da linguagem. Porém, o conceito de inteligência artificial ainda é bastante difícil de se definir. Por essa razão, Inteligência Artificial foi (e continua sendo) uma noção que dispõe de múltiplas interpretações, não raro conflitantes ou circulares.\\n\\n\\n== Abordagens Principais ==\\nExistem duas abordagens principais para a criação de Sistemas de Inteligência Artificial: O Simbolismo e o Conexionismo. \\nA primeira, chamada de IA Simbólica, propõe a representação de conhecimento por meio da manipulação de símbolos, isto é, na forma de estruturas  construídas por seres humanos, normalmente baseadas em noçoes de Lógica. Ela teve grande impulso durante uma fase onde foram criados muitos Sistemas Especialistas, muitos deles basados em Lógica de Primeira Ordem, implementados em Prolog, ou em linguagens de programação derivadas desta ou especializadas, como CLIPS. Normalmente programas desse tipo têm o conhecimento programado diretamente por seres humanos, o que levou a trabalhos de elicitação de conhecimento. Apesar do sucesso inicial dos Sistemas Especialistas, a grande dificuldade de levantar e registrar conhecimento a partir de humanos e o sucesso dos processos de aprendizado de máquina a partir de dados levou a dimimuição da importância dessa vertente.\\nA segunda, chamada de IA Conexionista, se baseia em um modelo matemático inspirado no funcionamento dos neurônios, e depende do aprendizado de máquina baseado em grandes massas de dados para calibrar esse modelo, que normalmente começa com parâmetros aleatórios. Essa abordagem, apesar de proposta muito cedo, não encontrou computadores capazes de modelar problemas complexos, apesar de ter sucesso com problemas restritos de reconhecimento de padrão, o que só acontece a partir da década de 2010, com resultados extramemente fortes no final dessa década e no início da década de 2020, a partir de modelos contendo bilhões de parametros, como o GPT-3 e conceitos como Redes Neurais Profundas, Transformers,  e Atenção.Em torno de 2022, a maior parte da pesquisa em IA gira em torno  dos conceitos de Aprendizado de Máquina e Conexionismo, havendo também propostas para sistemas híbridos. \\n\\n\\n== Definição do termo ==\\nA questão sobre o que é \"inteligência artificial\", mesmo como definida anteriormente, pode ser separada em duas partes: \"qual a natureza do artificial\" e \"o que é inteligência\". A primeira questão é de resolução relativamente fácil, apontando no entanto para a questão de o que poderá o homem construir.\\nA segunda questão seria consideravelmente mais difícil, levantando a questão da consciência, identidade e mente (incluindo a mente inconsciente) juntamente com a questão de que componentes estão envolvidos no único tipo de inteligência que universalmente se aceita como estando ao alcance do nosso estudo: a inteligência do ser humano. O estudo de animais e de sistemas artificiais que não são modelos triviais começa a ser considerado como pauta de estudo na área da inteligência.\\nAo conceituar inteligência artificial, presume-se a interação com o ambiente, diante de necessidades reais como relações entre indivíduos semelhantes, a disputa entre indivíduos diferentes, perseguição e fuga; além da comunicação simbólica específica de causa e efeito em diversos níveis de compreensão intuitiva, consciente ou não.\\nSuponhamos uma competição de cara ou coroa, cujos resultados sejam observados ou não. Se na segunda tentativa der o mesmo resultado que a primeira, então não existiam as mesmas chances para ambas opções iniciais. Claro que a coleta de informação em apenas duas amostragens é confiável apenas porque a quantidade de tentativas é divisível pelo número de opções de resultados prováveis.\\nA verdade é que o conceito de cara ou coroa está associado a artigos de valor, como moedas e medalhas que podem evitar que as pessoas abandonem o jogo e induza os participantes a acompanhar os resultados até o final. Para manter a disposição do adversário em desafiar a máquina seria necessário aparentar fragilidade e garantir a continuidade da partida. Isso é muito utilizado em máquinas de cassino, sendo que vários apostadores podem ser induzidos a dispensar consideráveis quantias em apostas.\\nA utilização de uma máquina de resultados pode compensar a ausência de um adversário, mas numa partida de xadrez, por exemplo, para que a máquina não precise armazenar todas as informações que excedem a capacidade de próprio universo imaginável são necessárias fórmulas que possam ser armazenadas para que então sejam calculadas por princípios físicos, lógicos, geométricos, e estatísticos para refletir o sistema completo em cada uma das suas partes; como a integração do Google com Wikipédia, por exemplo.\\nUma popular e inicial definição de inteligência artificial, introduzida por John McCarthy na famosa conferência de Dartmouth em 1956 é \"fazer a máquina comportar-se de tal forma que seja chamada inteligente caso fosse este o comportamento de um ser humano.\" No entanto, esta definição parece ignorar a possibilidade de existir a IA forte (ver abaixo).\\nOutra definição de Inteligência Artificial é a inteligência que surge de um \"dispositivo artificial\". A maior parte das definições podem ser categorizadas em sistemas que: \"pensam como um humano; agem como um humano; pensam racionalmente ou agem racionalmente\".\\n\\n\\n== História ==\\n\\nO conceito de inteligência artificial não é contemporâneo. Aristóteles, professor de Alexandre, o Grande, almejava substituir a mão de obra escrava por objetos autônomos, sendo essa a primeira idealização de Inteligência Artificial relatada, uma ideia que seria explorada muito tempo depois pela ciência da computação. O desenvolvimento dessa ideia se deu de forma plena no Século XX, com enfoque nos anos 50, com pensadores como Herbert Simon e John McCarthy. Os primeiros anos da IA foram repletos de sucessos – mas de uma forma limitada. Considerando-se os primeiros computadores, as ferramentas de programação da época e o fato de que apenas alguns anos antes os computadores eram vistos como objetos capazes de efetuar operações aritméticas e nada mais, causava surpresa o fato de um computador realizar qualquer atividade remotamente inteligente.\\nO sucesso inicial prosseguiu com o General Problem Solver (Solucionador de problemas gerais) ou GPS, desenvolvido por Newell e Simon. Esse programa foi projetado para imitar protocolos humanos de resolução de problemas. Dentro da classe limitada de quebra-cabeças com a qual podia lidar, verificou-se que a ordem em que os seres humanos abordavam os mesmos problemas. Desse modo, o GPS talvez tenha sido o primeiro programa a incorporar a abordagem de “pensar de forma humana”.\\nDesde o início os fundamentos da inteligência artificial tiveram o suporte de várias disciplinas que contribuíram com ideias, pontos de vista e técnicas para a IA. Os filósofos (desde 400 a.C.) tornaram a IA concebível, considerando as ideias de que a mente é, em alguns aspectos, semelhante a uma máquina, de que ela opera sobre o conhecimento codificado em alguma linguagem interna e que o pensamento pode ser usado para escolher as ações que deverão ser executadas. Por sua vez, os matemáticos forneceram as ferramentas para manipular declarações de certeza lógica, bem como declarações incertas e probabilísticas. Eles também definiram a base para a compreensão da computação e do raciocínio sobre algoritmos.\\nOs economistas formalizaram o problema de tomar decisões que maximizam o resultado esperado para o tomador de decisões. Os psicólogos adotaram a ideia de que os seres humanos e os animais podem ser considerados máquinas de processamento de informações. Os linguistas mostraram que o uso da linguagem se ajusta a esse modelo. Os engenheiros de computação fornecem os artefatos que tornam possíveis as aplicações de IA. Os programas de IA tendem a ser extensos e não poderiam funcionar sem os grandes avanços em velocidade e memória que a indústria de informática tem proporcionado.\\nAtualmente, a IA abrange uma enorme variedade de subcampos. Dentre esses subcampos está o estudo de modelos conexionistas ou redes neurais. Uma rede neural pode ser vista como um modelo matemático simplificado do funcionamento do cérebro humano. Este consiste de um número muito grande de unidades elementares de processamento, ou neurônios, que recebem e enviam estímulos elétricos uns aos outros, formando uma rede altamente interconectada.\\nNo processamento, são compostos os estímulos recebidos conforme a intensidade de cada ligação, produzindo um único estímulo de saída. É o arranjo das interconexões entre os neurônios e as respectivas intensidades que define as principais propriedades e o funcionamento de uma RN. O estudo das redes neurais ou o conexionismo se relaciona com a capacidade dos computadores aprenderem e reconhecerem padrões. Podemos destacar também o estudo da biologia molecular na tentativa de construir vida artificial e a área da robótica, ligada à biologia e procurando construir máquinas que alojem vida artificial. Outro subcampo de estudo é a ligação da IA com a Psicologia, na tentativa de representar na máquina os mecanismos de raciocínio e de procura.\\nNos últimos anos, houve uma revolução no trabalho em inteligência artificial, tanto no conteúdo quanto na metodologia. Agora, é mais comum usar as teorias existentes como bases, em vez de propor teorias inteiramente novas, fundamentar as informações em teoremas rigorosos ou na evidência experimental rígida, em vez de utilizar como base a intuição e destacar a relevância de aplicações reais em vez de exemplos hipotéticos.\\nA utilização da IA permite obter não somente ganhos significativos de performance, mas também possibilita o desenvolvimento de aplicações inovadoras, capazes de expandir de forma extraordinária nossos sentidos e habilidades intelectuais. Cada vez mais presente, a inteligência artificial simula o pensamento humano e se alastra por nosso cotidiano. Em maio de 2017 no Brasil, foi criada a ABRIA (Associação Brasileira de Inteligência Artificial) com o objetivo de mapear iniciativas brasileiras no setor de  inteligência artificial, englobando os esforços entre as empresas nacionais e formação de mão de obra especializada. Esse passo reforça que, atualmente, a inteligência artificial é impactante no setor econômico.\\n\\n\\n=== Investigação na IA experimental ===\\nA inteligência artificial começou como um campo experimental nos anos 50 com pioneiros como Allen Newell e Herbert Simon, que fundaram o primeiro laboratório de inteligência artificial na Universidade Carnegie Mellon, e McCarty que juntamente com Marvin Minsky, que fundaram o MIT AI Lab em 1959. Foram eles alguns dos participantes na famosa conferência de verão de 1956 em Darthmouth College.Historicamente, existem dois grandes estilos de investigação em IA: IA \"neats\" e IA \"scruffies\".  A IA \"neats\", limpa, clássica ou simbólica. Envolve a manipulação de símbolos e de conceitos abstractos, e é a metodologia utilizada na maior parte dos sistemas periciais.\\nParalelamente a esta abordagem existe a abordagem IA \"scruffies\", ou  \"coneccionista\", da qual as redes neuronais são o melhor exemplo. Esta abordagem cria sistemas que tentam gerar inteligência pela aprendizagem e adaptação em vez da criação de sistemas desenhados com o objectivo especifico de resolver um problema. Ambas as abordagems apareceram num estágio inicial da história de IA. Nos anos 60s e 70s os coneccionistas foram retirados do primeiro plano da investigação em IA, mas o interesse por esta vertente da IA foi retomada nos anos 80s, quando as limitações da IA \"limpa\" começaram a ser percebidas.\\nPesquisas sobre inteligência artificial foram intensamente custeadas na década de 1980 pela Agência de Projetos de Pesquisas Avançadas sobre Defesa (“Defense Advanced Research Projects Agency”), nos Estados Unidos, e pelo Projeto da Quinta Geração (“Fifth Generation Project”), no Japão. O trabalho subsidiado fracassou no sentido de produzir resultados imediatos, a despeito das promessas grandiosas de alguns praticantes de IA, o que levou proporcionalmente a grandes cortes de verbas de agências governamentais no final dos anos 80, e em consequência a um arrefecimento da atividade no setor, fase conhecida como O inverno da IA. No decorrer da década seguinte, muitos pesquisadores de IA mudaram para áreas relacionadas com metas mais modestas, tais como aprendizado de máquinas, robótica e visão computacional, muito embora pesquisas sobre IA pura continuaram em níveis reduzidos.\\n\\n\\n== Campo de estudo ==\\nOs principais pesquisadores e livros didáticos definem o campo como \"o estudo e projeto de agentes inteligentes\", onde um agente inteligente é um sistema que percebe seu ambiente e toma atitudes que maximizam suas chances de sucesso. Andreas Kaplan e Michael Haenlein definem a inteligência artificial como “uma capacidade do sistema para interpretar corretamente dados externos, aprender a partir desses dados e utilizar essas aprendizagens para atingir objetivos e tarefas específicas através de adaptação flexível”. John McCarthy, quem cunhou o termo em 1956 (\"numa conferência de especialistas celebrada em Darmouth Colege\" Gubern, Román: O Eros Eletrónico), a define como \"a ciência e engenharia de produzir sistemas inteligentes\". É uma área de pesquisa da computação dedicada a buscar métodos ou dispositivos computacionais que possuam ou multipliquem a capacidade racional do ser humano de resolver problemas, pensar ou, de forma ampla, ser inteligente. Também pode ser definida como o ramo da ciência da computação que se ocupa do comportamento inteligente ou ainda, o estudo de como fazer os computadores realizarem coisas que, atualmente, os humanos fazem melhor.\\n\\n\\n== Abordagens filosóficas ==\\nNão existe uma teoria ou paradigma unificador que orienta a pesquisa de IA. Pesquisadores discordam sobre várias questões. Algumas das perguntas constantes mais longas que ficaram sem resposta são as seguintes: a inteligência artificial deve simular inteligência natural, estudando psicologia ou neurociência? Ou será que a biologia humana é tão irrelevante para a pesquisa de IA como a biologia das aves é para a engenharia aeronáutica? O comportamento inteligente pode ser descrito usando princípios simples e elegantes (como lógica ou otimização)? Ou ela necessariamente requer que se resolva um grande número de problemas completamente não relacionados? A inteligência pode ser reproduzida usando símbolos de alto nível, similares às palavras e ideias? Ou ela requer processamento \"sub-simbólico\"? John Haugeland, que cunhou o termo GOFAI (Good Old-Fashioned Artificial Intelligence - Boa Inteligência Artificial à Moda Antiga), também propôs que a IA deve ser mais apropriadamente chamada de inteligência sintética, um termo que já foi adotado por alguns pesquisadores não-GOFAI.\\n\\n\\n=== Cibernética e simulação cerebral ===\\nNos anos de 1940 e 1950, um número de pesquisadores exploraram a conexão entre neurologia, teoria da informação e cibernética. Alguns deles construíram máquinas que usaram redes eletrônicas para exibir inteligência rudimentar, como as tartarugas de W. Grey Walter e a Besta de Johns Hopkins. Muitos desses pesquisadores se reuniram para encontros da Sociedade teleológica da Universidade de Princeton e o Ratio Club na Inglaterra. Em 1960, esta abordagem foi abandonada, apesar de seus elementos serem revividos na década de 1980.\\n\\n\\n=== Sub-simbólica ===\\nInteligência computacionalInteresse em redes neurais e \"conexionismo\" foi revivida por David Rumelhart e outros em meados de 1980. Estas e outras abordagens sub-simbólicas, como sistemas de fuzzy e computação evolucionária, são agora estudados coletivamente pela disciplina emergente inteligência computacional.\\n\\n\\n== IA forte e IA fraca ==\\nEntre os teóricos que estudam o que é possível fazer com a IA existe uma discussão onde se consideram duas propostas básicas: uma conhecida como \"forte\" e outra conhecida como \"fraca\". Basicamente, a hipótese da IA forte considera ser possível criar uma máquina consciente, ou seja, afirma que os sistemas artificiais devem replicar a mentalidade humana.\\n\\n\\n=== Inteligência artificial forte ===\\nA investigação em Inteligência Artificial Forte aborda a criação da forma de inteligência baseada em computador que consiga raciocinar e resolver problemas; uma forma de IA forte é classificada como auto-consciente.\\nA IA forte é tema bastante controverso, pois envolve temas como consciência e fortes problemas éticos ligados ao que fazer com uma entidade que seja cognitivamente indistinguível de seres humanos.\\nA ficção científica tratou de muitos problemas desse tipo. Isaac Asimov, por exemplo, escreveu O Homem Bicentenário, onde um robô consciente e inteligente luta para possuir um status semelhante ao de um humano na sociedade. E Steven Spielberg dirigiu \"A.I. Inteligência Artificial\" onde um garoto-robô procura conquistar o amor de sua \"mãe\", procurando uma maneira de se tornar real. Por outro lado, o mesmo Asimov reduz os robôs a servos dos seres humanos ao propor as três leis da robótica.Stephen Hawking alertou sobre os perigos da inteligência artificial e considerou uma ameaça à sobrevivência da humanidade (ver: Rebelião das máquinas).\\n\\n\\n=== Inteligência artificial fraca ===\\nTrata-se da noção de como lidar com problemas não determinísticos. Uma contribuição prática de Alan Turing foi o que se chamou depois de Teste de Turing (TT), de 1950: em lugar de responder à pergunta \"podem-se ter computadores inteligentes?\" ele formulou seu teste, que se tornou praticamente o ponto de partida da pesquisa em \"Inteligência Artificial\".O teste consiste em se fazer perguntas a uma pessoa e um computador escondidos. Um computador e seus programas passam no TT se, pelas respostas, for impossível a alguém distinguir qual interlocutor é a máquina e qual é a pessoa. No seu artigo original ele fez a previsão de que até 2000 os computadores passariam seu teste. Pois bem, há um concurso anual de programas para o TT, e o resultado dos sistemas ganhadores é tão fraco (o último tem o nome \"Ella\") que com poucas perguntas logo percebe-se as limitações das respostas da máquina. É interessante notar que tanto a Máquina de Turing quanto o Teste de Turing talvez derivem da visão que Turing tinha de que o ser humano é uma máquina.\\nHá quem diga que essa visão está absolutamente errada, do ponto de vista linguístico, já que associamos à \"máquina\" um artefato inventado e eventualmente construído. Dizem eles: \"Nenhum ser humano foi inventado ou construído\". Afirma-se ainda que a comparação, feita por Turing, entre o homem e a máquina é sinônimo de sua \"ingenuidade social\", pois as máquinas são infinitamente mais simples do que o homem, apesar de, paradoxalmente, se afirmar que a vida é complexa. No entanto, esta linha de raciocínio é questionável, afinal de contas, os computadores modernos podem ser considerados \"complexos\" quando comparados ao COLOSSUS (computador cujo desenvolvimento foi liderado por Tommy Flowers, em 1943), ou a qualquer máquina do início do século XX.\\nA inteligência artificial fraca centra a sua investigação na criação de inteligência artificial que não é capaz de verdadeiramente raciocinar e resolver problemas. Uma tal máquina com esta característica de inteligência agiria como se fosse inteligente, mas não tem autoconsciência ou noção de si. O teste clássico para aferição da inteligência em máquinas é o Teste de Turing.Há diversos campos dentro da IA fraca, e um deles é o Processamento de linguagem natural, que trata de estudar e tentar reproduzir os processos de desenvolvimento que resultaram no funcionamento normal da língua. Muitos destes campos utilizam softwares específicos e linguagens de programação criadas para suas finalidades. Um exemplo bastante conhecido é o programa A.L.I.C.E. (Artificial Linguistic Internet Computer Entity, ou Entidade Computadorizada de Linguagem Artificial para Internet), um software que simula uma conversa humana. Programado em Java e desenvolvido com regras heurísticas para os caracteres de conversação, seu desenvolvimento resultou na AIML (Artificial Intelligence Markup Language), uma linguagem específica para tais programas e seus vários clones, chamados de Alicebots.\\nMuito do trabalho neste campo tem sido feito com simulações em computador de inteligência baseado num conjunto predefinido de regras. Poucos têm sido os progressos na IA forte. Mas dependendo da definição de IA utilizada, pode-se dizer que avanços consideráveis na IA fraca já foram alcançados.\\n\\n\\n=== Impossibilidade de Simulação Qualitativa ===\\nFoi provado que um simulador qualitativo, completo e robusto não pode existir, ou seja, desde que o vocabulário entrada-saída seja usado (como num algoritmo QSIM), haverá sempre modelos de entrada que causam predições erradas na sua saída. Por exemplo, a noção de infinito é impossível ser tida por uma máquina finita (computador ou neurónios se produzirem apenas um número finito de resultados num número finito de tempo). Neste caso é um simples paradoxo matemático, porque são em número finito as combinações saídas de qualquer conjunto finito. Se a noção de infinito pudesse ser obtida por uma certa combinação finita, isso significaria que o infinito seria equivalente a essa sequência finita, o que é obviamente uma contradição. Por isso, o infinito e outras noções abstractas têm que ser pré-adquiridas numa máquina finita, não são aí programáveis.\\n\\n\\n=== Críticas filosóficas e a argumentação de uma IA forte ===\\n\\nMuitos filósofos, sobretudo John Searle e Hubert Dreyfus, inseriram no debate questões de ordem filosófica e epistemológica, questionando qualquer possibilidade efetiva da IA forte. Seriam falsos, assim, os próprios pressupostos da construção de uma inteligência ou consciência semelhante à humana em uma máquina.Searle é bastante conhecido por seu contra-argumento sobre o Quarto Chinês (ou  Sala Chinesa), que inverte a questão colocada por Minsky a respeito do Teste de Turing. Seu argumento diz que ainda que uma máquina possa parecer falar chinês por meio de recursos de exame comparativo com mostras e tabelas de referência, binárias, isso não implica que tal máquina fale e entenda efetivamente a língua. Ou seja, demonstrar que uma máquina possa passar no Teste de Turing não necessariamente implica um ser consciente, tal como entendido em seu sentido humano. Dreyfus, em seu livro O que os computadores ainda não conseguem fazer: Uma crítica ao raciocínio artificial, argumenta que a consciência não pode ser adquirida por sistemas baseados em regras ou lógica; tampouco por sistemas que não façam parte de um corpo físico. No entanto, este último autor deixa aberta a possibilidade de um sistema robótico baseado em Redes Neuronais, ou em mecanismos semelhantes, alcançar a inteligência artificial.Mas já não seria a referida IA forte, mas sim um correlato bem mais próximo do que se entende por IA fraca. Os revezes que a acepção primeira de Inteligência Artificial vem levando nos últimos tempos contribuíram para a imediata relativização de todo seu legado. O papel de Marvin Minsky, figura proeminente do MIT e autor de Sociedade da Mente, fora central para a acepção de uma IA linear que imitaria com perfeição a mente humana, mas seu principal feito foi construir o primeiro computador baseado em redes neurais, conhecido como Snark, tendo simplesmente fracassado pois nunca executou qualquer função interessante, apenas consumiu recursos de outras pesquisas mais promissoras.         O primeiro neuro computador a obter sucesso (Mark I Perceptron) surgiu em 1957 e 1958, criado por Frank Rosenblatt, Charles Wightman e outros. Atualmente, no entanto, as vertentes que trabalham com os pressupostos da emergência e com elementos da IA fraca parecem ter ganhado proeminência do campo.\\nAs críticas sobre a impossibilidade de criar uma inteligência em um composto artificial podem ser encontradas em Jean-François Lyotard (O Pós-humano) e Lucien Sfez (Crítica da Comunicação); uma contextualização didática do debate encontra-se em Sherry Turkle (O segundo Eu: os computadores e o espírito humano). Pode-se resumir o argumento central no fato de que a própria concepção de inteligência é humana e, nesse sentido, animal e biológica. A possibilidade de transportá-la para uma base plástica, artificial, encontra um limite claro e preciso: se uma inteligência puder ser gerada a partir destes elementos, deverá ser necessariamente diferente da humana, na medida em que o seu resultado provém da emergência de elementos totalmente diferentes dos encontrados nos humanos. A inteligência, tal como a entendemos, é essencialmente o fruto do cruzamento da uma base biológica com um complexo simbólico e cultural, impossível de ser reproduzido artificialmente.\\nOutros filósofos sustentam visões diferentes. Ainda que não vejam problemas com a IA fraca, entendem que há elementos suficientes para se crer na IA forte também. Daniel Dennett argumenta em Consciência Explicada que se não há uma centelha mágica ou alma nos seres humanos, então o Homem é apenas uma outra máquina. Dennett questiona por que razão o Homem-máquina deve ter uma posição privilegiada sobre todas as outras possíveis máquinas quando provido de inteligência.\\nAlguns autores sustentam que se a IA fraca é possível, então também o é a forte. O argumento da IA fraca, de uma inteligência imitada mas não real, desvelaria assim uma suposta validação da IA forte. Isso se daria porque, tal como entende Simon Blackburn em seu livro Think, dentre outros, não existe a possibilidade de verificar se uma inteligência é verdadeira ou não. Estes autores argumentam que toda inteligência apenas parece inteligência, sem necessariamente o ser. Parte-se do princípio que é impossível separar o que é inteligência de fato do que é apenas simulação: apenas acredita-se ser.\\nEstes autores rebatem os argumentos contra a IA forte dizendo que seus críticos reduzem-se a arrogantes que não podem entender a origem da vida sem uma centelha mágica, um Deus ou uma posição superior qualquer. Eles entenderiam, em última instância, máquina como algo essencialmente incapaz e sequer conseguem supô-la como capaz de inteligência. Nos termos de Minsky, a crítica contra a IA forte erra ao supor que toda inteligência derive de um sujeito - tal como indicado por Searle - e assim desconsidera a possibilidade de uma maquinaria complexa que pudesse pensar. Mas Minsky desconsidera o simples fato de que os maiores avanços na área foram conseguidos com \"maquinaria complexa\", também chamada por pesquisadores mais importantes de Inteligência Artificial Conexista. Se a crítica de Minsky fosse válida a maquina criada por Rosenblatt e Bernard Widrow não estaria em uso ainda hoje, e o Mark I Perceptron não seria o fundador da neuro-computação. Alguns pesquisadores importantes afirmam que um dos motivos das críticas de Minsky foi o fato de ter falhado com Snark. A partir daí começou a criticar essa área por não compreende-la completamente, prejudicando desde então pesquisas importantes sobre o assunto.\\nO debate sobre a IA reflete, em última instância, a própria dificuldade da ciência contemporânea em lidar efetivamente com a ausência de um primado superior. Os argumentos pró-IA forte são esclarecedores dessa questão, pois são os próprios cientistas, que durante décadas tentaram e falharam ao criar uma IA forte, que ainda procuram a existência de uma ordem superior. Ainda que a IA forte busque uma ordem dentro da própria conjugação dos elementos internos, trata-se ainda da suposição de que existe na inteligência humana uma qualidade superior que deve ser buscada, emulada e recriada. Reflete, assim, a difícil digestão do legado radical da Teoria da Evolução, onde não existe positividade alguma em ser humano e ser inteligente; trata-se apenas de um complexo de relações que propiciaram um estado particular, produto de um cruzamento temporal entre o extrato biológico e uma complexidade simbólica.\\n\\n\\n== Resoluções de problemas com IA ==\\nUma das áreas mais estudadas por cientistas sobre Inteligência Artificial, é o processo de Resolução de Problemas, desde os mais simples até os mais complexos. Com base no estudos de comportamentos de indivíduos que resolvem problemas simples em laboratório, Allen Newell e Herbert Simon desenvolveram alguns programas para simular aspectos do comportamento inteligente e racional. Um de seus principais programas desenvolvidos, chamado \\'General Problem Solver\\' (Solucionador de Problemas Gerais) pode ser resumido em poucas etapas: a primeira etapa consiste em gravar as declarações realizadas por alguns indivíduos que verbalizam seu pensamento enquanto resolvem os problemas. A seguir, o teórico ensaia algumas hipóteses acerca dos processos mentais que possivelmente estariam envolvidos no processo de elaboração de uma solução para o problema dado. A partir dessas hipóteses ele estrutura um programa que, em sua opinião, simulará o relato gravado. Finalmente, após processar esse programa no computador digital, ele compara o relato do indivíduo com o roteiro da máquina. Se os fluxos de palavras registrados no roteiro e no relatório forem razoavelmente semelhantes, então considera-se que uma explicação para o comportamento sob estudo foi obtida. Os pesquisadores do Projeto de Simulação Cognitiva admitem, neste caso, que as estratégias utilizadas pelo computador são análogas àquelas realizadas pelo indivíduo humano. Caso contrário, o programa deverá ser modificado com base nas discrepâncias encontradas durante o confronto de palavras. O mesmo procedimento é repetido até que um ajuste satisfatório seja obtido e o programa consiga passar pelo teste de Turing. Ou seja, até que os fluxos de palavras produzidas pelo computador e pelo sujeito humano sejam praticamente indistinguíveis para um examinador humano.\\n\\n\\n== Aplicações Práticas de Técnicas de IA ==\\nEnquanto que o progresso direcionado ao objetivo final de uma inteligência similar à humana tem sido lento,  muitas derivações surgiram no processo.  Exemplos notáveis incluem as linguagens Lisp e Prolog, as quais foram desenvolvidas para pesquisa em IA, embora também sejam usadas para outros propósitos. A cultura hacker surgiu primeiramente em laboratórios de IA, em particular no MIT AI Lab, lar várias vezes de celebridades tais como McCarthy, Minsky, Seymour Papert (que desenvolveu a linguagem Logo), Terry Winograd (que abandonou IA depois de desenvolver SHRDLU).\\nMuitos outros sistemas úteis têm sido construídos usando tecnologias que ao menos uma vez eram áreas ativas em pesquisa de IA. Alguns exemplos incluem:\\n\\nSistemas Cognitivos Multi-Modais permitem que agentes conversacionais de software, também conhecidos como Chatbots, possam interagir através do raciocínio feito com dados Multi-Modais, isto é, além do texto da fala, o tom de voz, a orientação da cabeça, do corpo, expressões faciais, entre outras modalidades. Recentemente, Maira Gatti de Bayser e Jeffrey O. Kephart da IBM Research organizaram em conjunto com Rahul Divekar e Hui Su, do Instituto Politécnico Rensselaer, NY, a competição inovadora HUMAINE, que estreou na ANAC, IJCAI 2020. Nesta primera edição da competição, 2 agentes inteligentes interagem com um humano em um diálogo de negociação em uma plataforma Multi-Modal adaptada para a competição.\\nPlanejamento automatizado e escalonamento: a uma centena de milhões de quilômetros da Terra, o programa Remote Agent da NASA se tornou o primeiro programa de planejamento automatizado (autônomo) de bordo a controlar o escalonamento de operações de uma nave espacial. O Remote Agent gerou planos de metas de alto nível especificadas a partir do solo e monitorou a operação da nave espacial à medida que os planos eram executados – efetuando a detecção, o diagnóstico e a recuperação de problemas conforme eles ocorriam.\\nAplicações de Raciocínio baseado em casos: RBC tem sido utilizado em diversas aplicações como análise financeira, assessoramento de riscos, controle de processos, etc. Exemplos de aplicações de RBC incluem KRITIK, o CLAVIER na Lockheed, o CASELine na British Airways, PROTOS, CASEY, CASCADE, COMPOSER, etc..\\nAplicações de Algoritmos genéticos: AG são aplicáveis em diversos problemas como escalonamento de horários, sistemas de potência e filogenética. O CS-1 foi o primeiro sistema de classificação aplicando AG.\\nAvanço no processamento: o Deep Blue da IBM se tornou o primeiro programa de computador a derrotar o campeão mundial em uma partida de xadrez, ao vencer Garry Kasparov por um placar de 3,5 a 2,5 em um match de exibição em 11 de maio de 1997. Kasparov disse que sentiu “uma nova espécie de inteligência” do outro lado do tabuleiro. O valor das ações da IBM teve um aumento de 18 bilhões de dólares.\\nControle autônomo: o sistema de visão de computador ALVINN foi treinado para dirigir um automóvel, mantendo-o na pista. Ele foi colocado na minivan controlada por computador NAVLAB da CMU e foi utilizado para percorrer os Estados Unidos – ao longo de quase 4.600 km o ALVINN manteve o controle da direção do veículo durante 98% do tempo. Um ser humano assumiu o comando nos outros 2%, principalmente na saída de declives. A NAVLAB tem câmeras e vídeo que transmitem imagens da estrada para ALVINN, que então calcula a melhor forma de guiar, baseado na experiência obtida em sessões de treinamento anteriores.\\nDiagnóstico: programas de diagnóstico médico baseados na analise probabilística foram capazes de executar tarefas no nível de um médico especialista em diversas áreas da medicina. Heckerman (1991) descreve um caso em que um importante especialista em patologia de gânglios linfáticos ridiculariza o diagnóstico de um programa em um caso especialmente difícil. Os criadores do programa sugeriram que ele pedisse ao computador uma explicação do diagnóstico. A máquina destacou os principais fatores que influenciaram sua decisão e explicou a interação sutil de vários sintomas nesse caso. Mais tarde, o especialista concordou com o programa.\\nPlanejamento logístico: durante a crise do Golfo Pérsico em 1991, as forças armadas dos Estados Unidos distribuíram uma ferramenta denominada Dynamic Analysis and Replanning Tool, ou DART, a fim de realizar o planejamento logístico automatizado e a programação de execução do transporte. Isso envolveu até 50 000 veículos, transporte de carga aérea e de pessoal ao mesmo tempo, e teve de levar em conta os pontos de partida, destinos, rotas e resolução de conflitos entre todos os parâmetros. As técnicas de planejamento da IA permitiram a geração em algumas horas de um plano que exigiria semanas com outros métodos. A Defense Advanced Research Project Agency (DARPA) declarou que essa única aplicação compensou com folga os 30 anos de investimentos da DARPA em IA.\\nRobótica: muitos cirurgiões agora utilizam robôs assistentes em microcirurgias. O HipNav é um sistema que emprega técnicas de visão computacional para criar um modelo tridimensional da anatomia interna de um paciente, e depois utiliza controle robótico para orientar a inserção de uma prótese de substituição do quadril.\\nReconhecimento de linguagem e resolução de problemas: o PROVERB é um programa computador que resolve quebra-cabeças de palavras cruzadas melhor que a maioria dos seres humanos, utilizando restrições sobre possíveis preenchimentos de palavras, um grande banco de dados de quebra-cabeças anteriores e uma variedade fonte de informações que incluem dicionários e bancos de dados on-line, como uma lista de filmes e dos atores que participam deles. Por exemplo, ele descobre que a pista “Nice Story” pode ser resolvido por “ETAGE”, porque seu banco de dados inclui o par pista/solução ”Story in France/ETAGE” e porque reconhece que os padrões “Nice X” e “X in France” com frequência tem mesma solução. O programa não sabe que Nice é uma cidade da França, mas consegue resolver o quebra-cabeça. * Chinook foi declarado o campeão Homem-Máquina em Damas em 1994.\\nLógica incerta, uma técnica para raciocinar dentro de incertezas, tem sido amplamento usada em sistemas de controles industriais.\\nSistemas especialistas vêm sendo usados a uma certa escala industrial. Os sistemas especialistas foram um dos primeiros sucessos da IA, com o software Mycin. Os principais componentes de um Sistema especialista são uma base de conhecimento alimentada por um especialista, uma máquina de inferência e uma memória de trabalho. Sistemas especialistas em uso como o XCON/R1 da Digital Equipment Coporation sabem hoje muito mais do que um especialista humano em como configurar os seus sistemas de computação.\\nSistemas Tutoriais Inteligentes vem sendo usados para o aprendizado. Uma característica distintiva desta técnica é o modelo do estudante. * Sistemas tradutores, tais como SYSTRAN, têm sido largamente usados (no entanto, os resultados não são ainda comparáveis com tradutores humanos).\\nRedes Neurais vêm sendo usadas em uma larga variedade de tarefas, de Sistema de detecção de intrusos a jogos de computadores.\\nSistemas de reconhecimento óptico de caracteres (OCR) podem traduzir letra escrita de forma arbitrária em texto.\\nReconhecimento de escrita a mão é usada em muitos Assistentes Pessoais Digitais. Atualmente existe um sistema de comparação de escrita forense a mão chamado CEDAR-FOX. * Reconhecimento de voz está disponível comercialmente e é amplamente usado.\\nSistemas de álgebra computacional, tais como Mathematica e Macsyma, são bons exemplos de aplicações de IA na solução de problemas algébricos.\\nSistemas com Visão computacional são usados em muitas aplicações industriais.\\nAplicações utilizando Vida Artificial são utilizados na indústria de entretenimento e no desenvolvimento da Computação Gráfica.\\nSistemas baseados na ideia de agentes artificiais, denominados Sistemas Multiagentes, têm se tornado comuns para a resolução de problemas complexos.\\nChatterbots (robôs de software para conversação), personagens virtuais que conversam em linguagem natural como se fossem humanos de verdade, são cada vez mais comuns na Internet. Eles podem ser criados com uma interface Web que permite programar a detecção de intenção da frase através de Algoritmos baseados em Aprendizagem de Máquina, tal como IBM Watson Assistant.\\nCompliance & Mitigação de riscos, empresas como Experian, Dun and Bradstreet, Equifax, LexisNexis, UpLexis, Montax Big Data e eStracta utilizam IA na análise do risco de contratações a partir de consultas automáticas de megadados sobre pessoas e organizações disponíveis em bancos de dados públicos e privados.\\nAplicação na área da saúde, a introdução na medicina com a criação da IAM (Inteligência artificial na Medicina) propôs a ajuda mútua entre profissionais da saúde e da computação com a ideia de realizarem uma revolução na área médica. A partir dos anos 70 e 80, grandes universidades americanas iniciaram projetos para auxiliar no processo de diagnósticos, como MIT, Tufts University, Pittsburgh, entre outras. Esses programas rapidamente atraíram vários dos melhores cientistas da época, com os primeiros anos da realização dos projetos sendo até hoje referências na história da IAM, por terem sido extremamente ricos e produtivos.A visão da Inteligência Artificial substituindo julgamento humano profissional tem surgido muitas vezes na história do campo, em ficção científica e, hoje em dia, em algumas áreas especializadas onde \"Sistemas Especialistas\" são usados para melhorar ou para substituir julgamento profissional em engenharia e medicina, por exemplo.\\n\\n\\n== Aplicações no governo ==\\nOs usos potenciais de IA no governo são amplos e variados, com a Deloitte considerando que \"as tecnologias cognitivas podem eventualmente revolucionar todas as facetas das operações do governo\". Mehr sugere que seis tipos de problemas governamentais são apropriados para aplicações de IA:\\nAlocação de recursos - por exemplo, quando o suporte administrativo é necessário para concluir as tarefas mais rapidamente.\\nGrandes conjuntos de dados - onde eles são muito grandes para os funcionários trabalharem de forma eficiente e vários conjuntos de dados podem ser combinados para fornecer maiores insights.\\nFalta de especialistas - incluindo onde perguntas básicas podem ser respondidas e questões de nicho podem ser aprendidas.\\nCenário previsível - os dados históricos tornam a situação previsível.\\nProcedural - tarefas repetitivas em que as entradas ou saídas têm uma resposta binária.\\nDados diversos - onde os dados assumem uma variedade de formas (como visuais e linguísticas) e precisam ser resumidos regularmente.Mehr afirma que \"Embora as aplicações de IA no trabalho do governo não tenham acompanhado a rápida expansão da IA \\u200b\\u200bno setor privado, os casos de uso em potencial no setor público refletem as aplicações comuns no setor privado.\"Os usos potenciais e reais da IA \\u200b\\u200bno governo podem ser divididos em três categorias amplas: aqueles que contribuem para os objetivos de políticas públicas; aqueles que auxiliam nas interações públicas com o governo; e outros usos.\\n\\n\\n=== Contribuição para os objetivos de políticas públicas ===\\nHá uma série de exemplos de onde a IA pode contribuir para os objetivos de políticas públicas. Esses incluem:\\n\\nReceber benefícios por perda de emprego, aposentadoria, luto e nascimento de um filho quase imediatamente, de forma automatizada (portanto, sem exigir qualquer ação dos cidadãos)\\nPrestação de serviços de seguro social\\nClassificar chamadas de emergência com base em sua urgência (como o sistema usado pelo Corpo de Bombeiros de Cincinnati nos Estados Unidos)\\nDetectando e prevenindo a propagação de doenças\\nAuxiliar os funcionários públicos a fazer pagamentos de previdência e decisões de imigração\\nJulgando audiências de fiança\\nTriagem de casos de saúde\\nMonitorar as redes sociais para obter feedback público sobre as políticas\\nMonitorar as redes sociais para identificar situações de emergência\\nIdentificar reivindicações de benefícios fraudulentas\\nPrevendo um crime e recomendando a presença policial ideal\\nPrevisão de congestionamento de trânsito e acidentes de carro\\nAntecipando os requisitos de manutenção de estradas\\nIdentificação de violações de regulamentos de saúde\\nOferecendo educação personalizada aos alunos\\nAvaliação de provas\\nAuxiliar na defesa e segurança nacional (ver Inteligência artificial § Militares e Aplicações da inteligência artificial § Outros, respectivamente).\\nCriando um Chatbot de saúde baseado em sintomas para diagnóstico\\n\\n\\n=== Auxiliando nas interações públicas com o governo ===\\nA IA pode ser usada para ajudar os membros do público a interagir com o governo e acessar serviços governamentais, por exemplo:\\nResponder a perguntas usando assistentes virtuais ou chatbots (veja abaixo)\\nDirecionar solicitações para a área apropriada dentro do governo\\nPreencher formulários\\nAuxiliar na pesquisa de documentos (por exemplo, pesquisa de marca registrada da IP Australia)\\nAgendamento de compromissosExemplos de assistentes virtuais ou chatbots usados \\u200b\\u200bpelo governo incluem o seguinte:\\n\\nLançado em fevereiro de 2016, o Australian Taxation Office tem um assistente virtual em seu site chamado \"Alex\". Em 30 de junho de 2017, Alex podia responder a mais de 500 perguntas, participou de 1,5 milhão de conversas e resolveu mais de 81% das dúvidas no primeiro contato.\\nO National Disability Insurance Scheme (NDIS) da Austrália está desenvolvendo um assistente virtual chamado \"Nadia\", que assume a forma de um avatar usando a voz do ator Cate Blanchett. O objetivo do Nadia é auxiliar os usuários do NDIS a navegar no serviço. Custando cerca de US $ 4,5 milhões, o projeto foi adiado devido a uma série de questões. O Nadia foi desenvolvido usando o IBM Watson, no entanto, o governo australiano está considerando outras plataformas, como a Microsoft Cortana, para seu desenvolvimento posterior.\\nO Departamento de Serviços Humanos do governo australiano usa assistentes virtuais em partes de seu site para responder a perguntas e incentivar os usuários a permanecer no canal digital. Em dezembro de 2018, um assistente virtual chamado \"Sam\" poderia responder a perguntas gerais sobre família, candidatos a emprego e pagamentos de estudantes e informações relacionadas. O Departamento também introduziu um assistente virtual voltado para o ambiente interno, denominado \"MelissHR\", para facilitar o acesso da equipe departamental às informações de recursos humanos.\\nA Estônia está construindo um assistente virtual que orientará os cidadãos em todas as interações que eles tiverem com o governo. Serviços automatizados e proativos \"empurram\" os serviços para os cidadãos em eventos importantes de suas vidas (incluindo nascimentos, luto, desemprego, ...). Um exemplo é o registro automatizado de bebês quando nascem.\\n\\n\\n=== Outros usos ===\\nOutros usos da inteligência artificial pelo governo incluem:\\n\\nTradução\\nInterpretação de linguagem, pioneira pela Direção Geral de Interpretação da Comissão Europeia e Florika Fink-Hooijer.\\nElaboração de documentos\\n\\n\\n=== Forças armadas ===\\n\\nOs Estados Unidos e outras nações estão desenvolvendo aplicativos de IA para uma série de funções militares. As principais aplicações militares de Inteligência Artificial e Aprendizado de Máquina são para aprimorar as Comunicações, Sensores, Integração e Interoperabilidade. A pesquisa de IA está em andamento nas áreas de coleta e análise de inteligência, logística, operações cibernéticas, operações de informação, comando e controle e em uma variedade de veículos semi-autônomos e autônomos. As tecnologias de Inteligência Artificial permitem a coordenação de sensores e efetores, detecção e identificação de ameaças, marcação de posições inimigas, aquisição de alvos, coordenação e deconflição de disparos de junção distribuídos entre veículos de combate e tanques em rede também dentro de equipes tripuladas e não tripuladas (MUM-T). A IA foi incorporada às operações militares no Iraque e na Síria.Os gastos militares anuais mundiais com robótica aumentaram de US$ 5,1 bilhões em 2010 para US$ 7,5 bilhões em 2015. Drones militares capazes de ação autônoma são amplamente considerados um ativo útil. Muitos pesquisadores de inteligência artificial procuram se distanciar das aplicações militares da IA.\\n\\n\\n== Aplicações na área da saúde ==\\n\\n\\n=== Assistência médica ===\\n\\nA IA na área da saúde é frequentemente usada para classificação, seja para automatizar a avaliação inicial de uma tomografia computadorizada ou EKG ou para identificar pacientes de alto risco para a saúde da população. A amplitude de aplicações está aumentando rapidamente. Como exemplo, a IA está sendo aplicada ao problema de alto custo das questões de dosagem - onde as descobertas sugeriram que a IA poderia economizar US $ 16 bilhões. Em 2016, um estudo inovador na Califórnia descobriu que uma fórmula matemática desenvolvida com a ajuda de IA determinava corretamente a dose exata de medicamentos imunossupressores a serem administrados a pacientes com órgãos.A inteligência artificial está ajudando os médicos. De acordo com a Bloomberg Technology, a Microsoft desenvolveu IA para ajudar os médicos a encontrar os tratamentos certos para o câncer. Há uma grande quantidade de pesquisas e medicamentos desenvolvidos relacionados ao câncer. Em detalhe, são mais de 800 medicamentos e vacinas para tratar o câncer. Isso afeta negativamente os médicos, porque há muitas opções de escolha, tornando mais difícil escolher os medicamentos certos para os pacientes. A Microsoft está trabalhando em um projeto para desenvolver uma máquina chamada \"Hanover\". Seu objetivo é memorizar todos os papéis necessários ao câncer e ajudar a prever quais combinações de medicamentos serão mais eficazes para cada paciente. Um projeto que está sendo trabalhado no momento é o de combate à leucemia mielóide, um câncer fatal cujo tratamento não melhora há décadas. Outro estudo descobriu que a inteligência artificial era tão boa quanto médicos treinados na identificação de câncer de pele. Outro estudo está usando inteligência artificial para tentar monitorar vários pacientes de alto risco, e isso é feito perguntando a cada paciente várias perguntas com base em dados adquiridos de médico ao vivo para interações com o paciente. Um estudo foi feito com transferência de aprendizagem, a máquina realizava um diagnóstico semelhante a um oftalmologista bem treinado, e podia gerar uma decisão em 30 segundos sobre se o paciente deveria ou não ser encaminhado para tratamento, com mais de 95% de acerto.De acordo com a CNN, um estudo recente realizado por cirurgiões do Children\\'s National Medical Center em Washington demonstrou com sucesso a cirurgia com um robô autônomo. A equipe supervisionou o robô enquanto ele realizava a cirurgia de tecidos moles, costurando o intestino de um porco durante a cirurgia aberta, e fazendo isso melhor do que um cirurgião humano, afirmou a equipe. A IBM criou seu próprio computador de inteligência artificial, o IBM Watson, que venceu a inteligência humana (em alguns níveis). O Watson tem se esforçado para obter sucesso e adoção na área de saúde.As redes neurais artificiais são usadas como sistemas de apoio à decisão clínica para diagnóstico médico, como em tecnologia de processamento de conceito em software EMR.\\nOutras tarefas na medicina que podem ser potencialmente realizadas por inteligência artificial e estão começando a ser desenvolvidas incluem:\\n\\nInterpretação de imagens médicas auxiliada por computador. Esses sistemas ajudam a digitalizar imagens digitais, por exemplo, da tomografia computadorizada, para aspectos típicos e para destacar cortes conspícuos, como possíveis doenças. Uma aplicação típica é a detecção de tumores.\\nAnálise de batimentos cardíacos.\\nRobôs companheiros para cuidar dos idosos\\nAnálise de registros médicos para fornecer informações mais úteis.\\nProjetar planos de tratamento.\\nAuxiliar em trabalhos repetitivos, incluindo o gerenciamento de medicamentos.\\nAuxiliar deficientes visuais.\\nFornecer consultas.\\nFabricação e desenvolvimento de fármacos.\\nUsando avatares no lugar de pacientes para treinamento clínico\\nEstimar a probabilidade de morte em procedimentos cirúrgicos\\nEstimar a progressão do HIV.\\n\\n\\n=== Saúde e segurança no local de trabalho ===\\nA IA pode aumentar o escopo das tarefas de trabalho em que um trabalhador pode ser removido de uma situação que acarreta riscos, como estresse, excesso de trabalho, lesões musculoesqueléticas, fazendo com que a IA execute as tarefas. Isso pode expandir a gama de setores de trabalho afetados, além da automação tradicional, para empregos de colarinho branco e de serviços, como medicina, finanças e tecnologia da informação. Por exemplo, os trabalhadores do call center enfrentam grandes riscos à saúde e segurança devido à sua natureza repetitiva e exigente e às suas altas taxas de micro vigilância. Os chatbots habilitados para IA reduzem a necessidade de humanos realizarem as tarefas mais básicas do call center.O aprendizado de máquina usado para análises de pessoas para fazer previsões sobre o comportamento do trabalhador pode ser usado para melhorar a saúde do trabalhador. Por exemplo, a análise de sentimento pode ser usada para detectar a fadiga e evitar o excesso de trabalho. Os sistemas de apoio à decisão têm uma capacidade semelhante de ser usado para, por exemplo, prevenir desastres industriais ou tornar a resposta a desastres mais eficiente. Para trabalhadores de manuseio manual de materiais, análises preditivas e inteligência artificial podem ser usadas para reduzir lesões musculoesqueléticas. Sensores vestíveis também podem permitir uma intervenção precoce contra a exposição a substâncias tóxicas, e os grandes conjuntos de dados gerados podem melhorar a vigilância da saúde no local de trabalho, avaliação de risco e pesquisa.A IA também pode ser usada para tornar o fluxo de trabalho de segurança e saúde no local de trabalho mais eficiente. Um exemplo é a codificação de pedidos de indenização trabalhista. Os sistemas de realidade virtual habilitados para IA podem ser úteis para treinamento de segurança para reconhecimento de perigo. A inteligência artificial pode ser usada para detectar com mais eficiência os quase acidentes, que são importantes na redução das taxas de acidentes, mas geralmente são subnotificados.\\n\\n\\n== Mídia e comércio eletrônico ==\\n\\nAlgumas aplicações de IA são voltadas para a análise de conteúdo de mídia audiovisual, como filmes, programas de TV, vídeos publicitários ou conteúdo gerado pelo usuário. As soluções geralmente envolvem visão computacional, que é uma das principais áreas de aplicação da IA.\\nOs cenários de caso de uso típicos incluem a análise de imagens usando técnicas de reconhecimento de objetos ou de rosto, ou a análise de vídeo para reconhecer cenas, objetos ou rostos relevantes. A motivação para usar a análise de mídia baseada em IA pode ser - entre outras coisas - a facilitação da pesquisa de mídia, a criação de um conjunto de palavras-chave descritivas para um item de mídia, monitoramento de política de conteúdo de mídia (como verificar a adequação do conteúdo para um determinado Tempo de exibição de TV), fala em texto para arquivamento ou outros fins, e a detecção de logotipos, produtos ou rostos de celebridades para a colocação de anúncios relevantes.\\nAs empresas de IA de análise de mídia geralmente fornecem seus serviços por meio de uma API REST que permite o acesso automático baseado em máquina à tecnologia e permite a leitura dos resultados por máquina. Por exemplo, IBM, Microsoft e Amazon permitem acesso a sua tecnologia de reconhecimento de mídia usando APIs RESTful.\\n\\n\\n=== Deepfakes ===\\n\\nEm junho de 2016, uma equipe de pesquisa do grupo de computação visual da Universidade Técnica de Munique e da Universidade de Stanford desenvolveu o Face2Face, um programa que anima o rosto de uma pessoa alvo, transpondo as expressões faciais de uma fonte externa. A tecnologia foi demonstrada animando os lábios de pessoas, incluindo Barack Obama e Vladimir Putin. Desde então, outros métodos foram demonstrados com base na rede neural profunda, da qual o nome \"deepfake\" foi tirado.\\nEm setembro de 2018, o senador americano Mark Warner propôs penalizar as empresas de mídia social que permitem o compartilhamento de documentos provenientes de deepfakes em sua plataforma.Vincent Nozick, pesquisador do Institut Gaspard Monge, encontrou uma maneira de detectar documentos fraudados analisando os movimentos da pálpebra. O DARPA (um grupo de pesquisa associado ao Departamento de Defesa dos EUA) doou 68 milhões de dólares para trabalhar na detecção de deepfakes. Na Europa, o programa Horizonte 2020 financiou o InVid, software desenvolvido para ajudar jornalistas a detectar documentos falsos.Deepfakes podem ser usados \\u200b\\u200bpara fins cômicos, mas são mais conhecidos por serem usados \\u200b\\u200bpara notícias falsas e boatos. Deepfakes de áudio e software de IA capaz de detectar deepfakes e clonar vozes humanas após 5 segundos de escuta também existem.\\n\\n\\n=== Música ===\\nEmbora a evolução da música sempre tenha sido afetada pela tecnologia, a inteligência artificial permitiu, por meio de avanços científicos, emular, em certa medida, a composição semelhante à humana.\\nEntre os esforços iniciais notáveis, David Cope criou uma IA chamada Emily Howell que conseguiu se tornar bem conhecida no campo de Algorithmic Computer Music. O algoritmo por trás de Emily Howell é registrado como uma patente dos Estados Unidos.O AI Iamus criou em 2012 o primeiro álbum clássico completo totalmente composto por um computador.\\nOutros empreendimentos, como AIVA (Artificial Intelligence Virtual Artist), se concentram na composição de música sinfônica, principalmente música clássica para trilhas sonoras de filmes. Alcançou uma estreia mundial ao se tornar o primeiro compositor virtual a ser reconhecido por uma associação profissional musical.Inteligências artificiais podem até mesmo produzir música utilizável em um ambiente médico, com o esforço do Melomics de usar música gerada por computador para o alívio do estresse e da dor.Além disso, iniciativas como o Google Magenta, conduzido pela equipe do Google Brain, querem descobrir se uma inteligência artificial pode ser capaz de criar arte convincente.No Sony CSL Research Laboratory, o software Flow Machines criou canções pop aprendendo estilos musicais a partir de um enorme banco de dados de canções. Ao analisar combinações únicas de estilos e técnicas de otimização, ele pode compor em qualquer estilo.\\nOutro projeto de composição musical de inteligência artificial, The Watson Beat, escrito pela IBM Research, não precisa de um grande banco de dados de música como os projetos Google Magenta e Flow Machines, uma vez que usa Reinforcement Learning e Deep Belief Networks para compor música em uma simples entrada inicial melodia e um estilo selecionado. Desde que o software foi de código aberto, músicos, como Taryn Southern, têm colaborado com o projeto para criar música.\\nA canção de estreia da cantora sul-coreana Hayeon, \"Eyes on You\", foi composta usando IA que também foi supervisionada por compositores reais, incluindo NUVO.\\n\\n\\n=== Publicação de notícias e redação ===\\nA empresa Narrative Science disponibiliza comercialmente notícias e relatórios gerados por computador, incluindo resumos de eventos esportivos coletivos com base em dados estatísticos do jogo em inglês. Também cria relatórios financeiros e análises imobiliárias. Da mesma forma, a empresa Automated Insights gera recapitulações e visualizações personalizadas para o Yahoo Sports Fantasy Football. A empresa está projetada para gerar um bilhão de histórias em 2014, contra 350 milhões em 2013. A organização OpenAI também criou uma IA capaz de escrever textos.A Echobox é uma empresa de software que ajuda os editores a aumentar o tráfego postando artigos de forma \"inteligente\" em plataformas de mídia social, como Facebook e Twitter. Ao analisar grandes quantidades de dados, ele aprende como públicos específicos respondem a diferentes artigos em diferentes momentos do dia. Em seguida, ele escolhe as melhores histórias para postar e os melhores horários para postá-las. Ele usa dados históricos e em tempo real para entender o que funcionou bem no passado, bem como o que é tendência atualmente na web.Outra empresa, chamada Yseop, usa inteligência artificial para transformar dados estruturados em comentários e recomendações inteligentes em linguagem natural. Yseop é capaz de escrever relatórios financeiros, resumos executivos, vendas personalizadas ou documentos de marketing e muito mais a uma velocidade de milhares de páginas por segundo e em vários idiomas, incluindo inglês, espanhol, francês e alemão.O Boomtrain\\'s é outro exemplo de IA projetado para aprender a melhor forma de envolver cada leitor individual com os artigos exatos - enviados pelo canal certo na hora certa - que serão mais relevantes para o leitor. É como contratar um editor pessoal para cada leitor individual para selecionar a experiência de leitura perfeita.\\nA IRIS.TV está ajudando empresas de mídia com sua plataforma de programação e personalização de vídeo alimentada por IA. Ele permite que editores e proprietários de conteúdo apresentem conteúdo contextualmente relevante para o público com base nos padrões de visualização do consumidor.Além da automação de tarefas de escrita com entrada de dados, a IA mostrou um potencial significativo para os computadores se engajarem em trabalhos criativos de alto nível. AI Storytelling tem sido um campo ativo de pesquisa desde o desenvolvimento de TALESPIN por James Meehan, que inventou histórias semelhantes às fábulas de Esopo. O programa começaria com um conjunto de personagens que queriam atingir certos objetivos, com a história como uma narração das tentativas dos personagens de executar planos para satisfazer esses objetivos. Desde Meehan, outros pesquisadores trabalharam em AI Storytelling usando abordagens semelhantes ou diferentes. Mark Riedl e Vadim Bulitko argumentaram que a essência da narrativa era um problema de gerenciamento de experiência, ou \"como equilibrar a necessidade de uma progressão coerente da história com a agência do usuário, o que geralmente está em desacordo\".Embora a maioria das pesquisas sobre narração de histórias de IA tenha se concentrado na geração de histórias (por exemplo, personagem e enredo), também houve uma investigação significativa na comunicação de histórias. Em 2002, pesquisadores da North Carolina State University desenvolveram uma estrutura arquitetônica para a geração de prosa narrativa. Sua implementação particular foi capaz de reproduzir fielmente a variedade e complexidade de texto de uma série de histórias, como o capuz vermelho, com habilidade humana. Este campo específico continua a ganhar interesse. Em 2016, uma IA japonesa co-escreveu um conto e quase ganhou um prêmio literário.Hanteo Global, a organização que opera o único gráfico de registro em tempo real na Coreia do Sul, também utiliza um bot de jornalismo automatizado, que escreve artigos.\\n\\n\\n=== Videogames ===\\nEm videogames, a inteligência artificial é rotineiramente usada para gerar comportamento dinâmico e intencional em personagens não-jogadores (NPCs). Além disso, técnicas de IA bem conhecidas são usadas rotineiramente para encontrar caminhos. Alguns pesquisadores consideram a NPC AI em jogos um \"problema resolvido\" para a maioria das tarefas de produção. Jogos com IA mais atípica incluem o diretor de IA de Left 4 Dead (2008) e o treinamento neuroevolucionário de pelotões em Supreme Commander 2 (2010). AI também é usada em Alien Isolation (2014) como uma forma de controlar quais ações o Alien executará a seguir. Devido à forma como a inteligência do Alien é configurada, pode-se dizer que o Alien parece aprender mais sobre o jogador conforme o jogo continua e o Alien começa a agir de acordo\\n\\n\\n=== Arte ===\\nA inteligência artificial inspirou inúmeras aplicações criativas, incluindo seu uso para produzir arte visual. A exposição \"Thinking Machines: Art and Design in Computer Age, 1959-1989\" no MoMA oferece uma boa visão geral das aplicações históricas da IA \\u200b\\u200bpara arte, arquitetura e design. Exposições recentes que mostram o uso de IA para produzir arte incluem o benefício patrocinado pelo Google e o leilão na Gray Area Foundation em San Francisco, onde artistas experimentaram o algoritmo DeepDream e a exposição \"Unhuman: Art in the Age of AI\", que teve em Los Angeles e Frankfurt no outono de 2017. Na primavera de 2018, a Association of Computing Machinery dedicou uma edição de revista especial ao assunto de computadores e arte, destacando o papel do aprendizado de máquina nas artes. Em junho de 2018, \"Duet for Human and Machine\", uma obra de arte que permite aos espectadores interagir com uma inteligência artificial, estreou no Beall Center for Art + Technology. A Ars Electronica austríaca e o Museu de Artes Aplicadas de Viena abriram exposições sobre IA em 2019. O festival de 2019 da Ars Electronica \"Fora da caixa\" tematizou extensivamente o papel das artes para uma transformação social sustentável com IA.\\n\\n\\n== Pesquisadores ==\\nAtualmente existem diversos pesquisadores de IA ao redor do mundo em várias instituições e companhias de pesquisa. Entre os muitos que fizeram contribuições significativas estão:\\n\\n\\n=== Alan Turing (1912-1954) ===\\nFoi um dos homens de maior importância não só para seu tempo, como para a atualidade. Com estudos que não só foram base para a existência da inteligência artificial, mas de quase todos os aparelhos eletrônicos já feitos. Criou seu famoso teste, o “Teste de Turing”, usado até hoje para descobrir o nível de inteligência de um programa de inteligência artificial. Esse teste não foi criado para analisar a capacidade de um computador de pensar por si mesmo, já que as máquinas são completamente incapazes disso, mas sim de identificar o quão bem ele pode imitar o cérebro humano.\\n\\n\\n=== John McCarthy (1927-2011) ===\\nMatemático, cientista, o criador do termo “inteligência artificial” e também o pai da linguagem de programação LISP. McCarthy foi considerado um dos primeiros homens a trabalhar no desenvolvimento da inteligência artificial e sempre disse que ela deveria interagir com o homem. Nascido na cidade de Boston, trabalhou na Universidade de Stanford e no Massachusetts Institute of Technology (MIT), além de ter vencido o prêmio Turing em 1972 e a Medalha Nacional de Ciência em 1991. Já a programação LISP, uma das maiores conquistas de McCarthy, surgiu em 1958 e serviu para facilitar o desenvolvimento da inteligência artificial. A linguagem é das mais antigas ainda em uso e foi usada pela primeira vez ao colocar um computador para jogar xadrez contra um adversário humano.\\n\\n\\n=== Marvin Minsky (1927-2016) ===\\nNatural de Nova Iorque, onde nasceu, o cientista recebeu diversos prémios internacionais pelo seu trabalho pioneiro no campo da inteligência artificial, incluindo em 1969, o Prêmio Turing, o maior prêmio em ciência informática. O cientista explorou a forma de dotar as máquinas de percepção e inteligência semelhantes à humana, criou mãos robóticas com capacidade para manipular objetos, desenvolveu novos marcos de programação e escreveu sobre assuntos filosóficos relacionados com a inteligência artificial. Minsky estava convencido de que o homem, um dia, desenvolveria máquinas que competiriam com a sua inteligência e via o cérebro como uma máquina cujo funcionamento pode ser estudado e reproduzido num computador, o que poderia ajudar a compreender melhor o cérebro humano e as funções mentais superiores.\\n\\n\\n=== Raj Reddy (1937) ===\\nInformático indiano naturalizado estadunidense, foi o primeiro asiático a vencer o Prêmio Turing. Entre suas contribuições para a IA estão a criação do Instituto de Robótica da CMU e demonstrações de diversos sistemas que usam alguma forma de IA. Entre esses sistemas, estão sistemas de: fala, controlados por voz, reconhecimento de voz, reconhecimento de voz independente do interlocutor, etc. Para Reddy, ao invés de substituir a humanidade, a tecnologia irá criar um novo tipo de humano que irá coexistir com seus antecessores enquanto se aproveita das vantagens de uma nova classe de ferramentas viabilizada pela tecnologia.\\n\\n\\n=== Terry Winograd (1946) ===\\nWinograd é um cientista da computação estadunidense, professor da Universidade Stanford, e codiretor do grupo de interação humano-computador de Stanford. É conhecido nas áreas de filosofia da mente e inteligência artificial por seu trabalho sobre língua natural usando o programa SHRDLU. Para Terry, não restam dúvidas de que a tecnologia da informática, mais precisamente a área de inteligência artificial, transformará as sociedades, introduzindo modificações socioeconômicas irreversíveis. Esse especialista procura saber se os seres humanos seriam capazes de construir máquinas que poderiam compreende-los, resolver seus problemas e dirigir suas vidas, além de buscar respostas sobre o que aconteceria se, algum dia, essas máquinas se tornassem mais inteligentes do que os próprios humanos que as criaram.\\n\\n\\n=== Douglas Lenat (1950) ===\\nNascido na Filadélfia, Pensilvânia, se formou na Universidade da Pensilvânia. Douglas Bruce Lenat é o Diretor Executivo do Cycorp e foi também um pesquisador proeminente em inteligência artificial, recebendo o prêmio bianual IJCAI Computers and Thought em 1976 pela criação do programa de aprendizado de máquinas. Ele também trabalhou em  simulações militares e em numerosos projetos para organizações governamentais, militares, científicas e de inteligência dos EUA. A missão de Lenat, no longo ciclo do projeto Cyc, iniciado em 1984, era de construir a base de uma inteligência artificial geral ao representar manualmente o conhecimento como axiomas lógicos contextualizados na linguagem formal com base em extensões ao cálculo de predicados de primeira ordem e em seguida, usar esse enorme motor de inferência de ontologia e a base de conhecimento contextualizada como um viés indutivo para automatizar e acelerar cada vez mais a educação contínua do próprio Cyc, via aprendizagem em máquina e compreensão da linguagem natural.\\n\\n\\n== Vantagens e Desvantagens da utilização da inteligência artificial ==\\n\\n\\n=== Vantagens ===\\nRedução de erros: Uma vez que são máquinas, a inteligência artificial é mais resistente e tem maior capacidade de suportar ambientes hostis, reduzindo as chances de falharem em seus propósitos, tendo a possibilidade de alcançar um maior grau de precisão.\\nExploração: Devido à programação dos robôs, eles podem realizar um trabalho mais laborioso e duro com maior responsabilidade. Assim, são capazes de ser utilizadas também em processos de exploração de minérios e de outros combustíveis, no fundo do oceano e, portanto, superar as limitações humanas.\\nAplicações diárias: Inteligência Artificial é amplamente empregada por instituições financeiras e instituições bancárias para organizar e gerenciar dados. A sua utilização está presente em vários mecanismos do nosso cotidiano como o GPS (global positioning system), a correção nos erros de digitação na ortografia, entre outros.\\nSem pausas: As máquinas, ao contrário dos seres humanos, não precisam de intervalos frequentes. Elas conseguem exercer vários horas de trabalho sem ficarem cansadas, distraídas ou entendiadas, apenas pela sua programação.\\n\\n\\n=== Desvantagens ===\\nAlto custo: o custo de produção das máquinas de IA são demasiados, o que se deve a complexidade e dificuldade de manutenção. O processo de recuperação de códigos perdidos, por exemplo, requer muito tempo e recursos.\\nFalta de criatividade: A inteligência artificial não é desenvolvida ao ponto de atuar como o cérebro humano, de forma criativa. Ademais, o cérebro humano ainda não é suficientemente compreendido para que um dia possa ser simulado fielmente em uma forma artificial. Portanto, a ideia de replicar funções do cérebro humano é intangível.\\nCausa o desemprego: Como são capazes de executar tarefas antes exclusivas aos humanos de maneira mais otimizada e eficiente, os mecanismos de inteligência artificial tendem a substituir a atividade humana em larga escala. O trabalho de uma máquina que possui inteligência artificial é, muitas vezes, mais viável que o trabalho humano, logo, a projeção de um crescimento no desemprego em função disso é coerente.\\n\\n\\n== Mitos sobre Inteligência Artificial ==\\n\\n\\n=== Inteligência Artificial pode funcionar como nosso cérebro ===\\nA IA, nas mais diversas áreas, acaba realizando apenas tarefas específicas ao contexto em que é aplicada. Cada sistema criado é limitado a um conjunto de atividades de cada finalidade: um bot. (diminutivo de robot) de atendimento vai trabalhar com ofertas de produtos, responder a dúvidas, negociar dívidas mas esse mesmo bot. não vai conseguir jogar xadrez ou guiar um veículo autônomo, por exemplo, já que não consegue elaborar estratégias funcionais e sim apenas executar comandos com base em alguma análise de dados relativa à sua função. Um sistema tão complexo e abrangente como o cérebro humano ainda é uma realidade distante. Os extraordinários avanços da neurociência mostram que o ser humano ainda está longe de compreender alguns mistérios do cérebro humano, entre eles, a incrível capacidade de criar, destruir e refinar ideias, ou seja, a criatividade. A IA é mais competente do que as pessoas em tarefas de análise, organização e até resolução de alguns problemas, mas ainda não é capaz de melhorar a si mesma, em diversos campos, e aprender coisas novas sem informações prévias. Grandes empresas já estão trabalhando na chamada ‘deep learning’ (aprendizagem profunda), um dos mais promissores campos da IA, que pretende fazer dos sistemas entidades capazes de aprender evolutivamente. Mas, ainda não é possível, e talvez nunca será, eliminar o fator humano, entre outros pontos, da própria avaliação de progresso dessa disciplina tecnológica.\\n\\n\\n=== Inteligência Artificial eliminará todos os cargos de trabalho ===\\nUm sistema que utiliza inteligência artificial pode armazenar e analisar bilhões de dados, realizar automaticamente tarefas com base nessa análise, fechar acordos, vender, controlar uma linha de produção etc., mas não é capaz de criar estratégias do zero. Além disso, tudo o que envolve humanização, sentimentos como empatia ou características como dedicação, mesmo em um contexto onde a IA se espalhe, ainda dependerá de uma interação entre o homem e a máquina. Empregos como os conhecemos hoje se transformarão, muitos inclusive deixarão de existir, mas tantos outros novos surgirão.\\n\\n\\n=== Inteligência Artificial mudará o mundo em poucos anos ===\\nApesar de uma grande porcentagem das funções terem parte de seus processos automatizada, nos dias de hoje, menos de 10% das atividades podem ser inteiramente substituídas por tecnologia. Nas indústrias haverá uma ampla troca da mão de obra humana pela força de trabalho de máquinas automáticas e programas de computador que possam executar, automaticamente, tarefas repetitivas sem qualquer tipo de adversidade, já que não sofrem com todas as vulnerabilidades que um ser humano detém como cansaço, riscos de sofrer acidentes e mobilidade, além do fato de não gerar despesas para a organização a não ser com sua manutenção e funcionamento. Porém, como se trata de um ramo da ciência relativamente novo e que está em uma fase de desenvolvimento lenta e gradual, ainda pode demorar para que a inteligência artificial cause algum impacto, realmente, significativo para as relações dentro da sociedade.\\n\\n\\n== Ver também ==\\nInteligência artificial geral\\nTransferência de energia sem fio\\nOpenAI\\nRealidade simulada\\nRedes neurais\\nRobocode\\n\\n\\n== Referências ==\\n\\n\\n== Ligações externas ==\\n\\n\\n=== Organizações relacionadas a IA ===\\n«Programa do governo para defender suas questões». (em português) \\n«American Association for Artificial Intelligence»'"
            ],
            "application/vnd.google.colaboratory.intrinsic+json": {
              "type": "string"
            }
          },
          "metadata": {},
          "execution_count": 29
        }
      ]
    },
    {
      "cell_type": "markdown",
      "source": [
        "Usaremos uma classe do sklearn ('CountVectorizer') que tokeniza o texto. "
      ],
      "metadata": {
        "id": "ATow2ngWbyyR"
      }
    },
    {
      "cell_type": "code",
      "metadata": {
        "id": "bspV0yC1y0CH"
      },
      "source": [
        "from sklearn.feature_extraction.text import CountVectorizer\n",
        "\n",
        "# extração de características de um texto\n",
        "cv = CountVectorizer()\n",
        "X = np.array(cv.fit_transform([query_1.content,\n",
        "                               query_2.content,\n",
        "                               query_3.content,\n",
        "                               query_4.content]).todense())"
      ],
      "execution_count": null,
      "outputs": []
    },
    {
      "cell_type": "code",
      "metadata": {
        "colab": {
          "base_uri": "https://localhost:8080/"
        },
        "id": "qMyUHKVZzfNT",
        "outputId": "0d4e41a9-2b12-4099-9d58-a76b5f1a34d7"
      },
      "source": [
        "# número de palavras em cada página\n",
        "print(\"Inteligência Artificial \", len(query_1.content.split()), \"\\n\"\n",
        "      \"Futebol \\t\\t\", len(query_2.content.split()), \"\\n\"\n",
        "      \"Aprendizado de Máquinas \", len(query_3.content.split()), \"\\n\"\n",
        "      \"Voleibol \\t\\t\", len(query_4.content.split()))"
      ],
      "execution_count": null,
      "outputs": [
        {
          "output_type": "stream",
          "name": "stdout",
          "text": [
            "Inteligência Artificial  11555 \n",
            "Futebol \t\t 10657 \n",
            "Aprendizado de Máquinas  4135 \n",
            "Voleibol \t\t 4829\n"
          ]
        }
      ]
    },
    {
      "cell_type": "markdown",
      "source": [
        "Cálculo da distância euclidiana e similaridade por cossenos usando as funções que estruturamos anteriormente neste notebook."
      ],
      "metadata": {
        "id": "YYkWr49GdRNc"
      }
    },
    {
      "cell_type": "code",
      "metadata": {
        "colab": {
          "base_uri": "https://localhost:8080/"
        },
        "id": "DrWMrK2T0oJl",
        "outputId": "9ca5f4c6-f7ad-46ac-d5f4-f82d22b3c463"
      },
      "source": [
        "# distância euclidiana\n",
        "print(\"Inteligência Artificial - Futebol \\t\\t\\t\", euclidean_distance(X[0], X[1]), \"\\n\"\n",
        "      \"Inteligência Artificial - Aprendizado de Máquinas \\t\", euclidean_distance(X[0], X[2]), \"\\n\"\n",
        "      \"Inteligência Artificial - Voleibol \\t\\t\\t\", euclidean_distance(X[0], X[3]))"
      ],
      "execution_count": null,
      "outputs": [
        {
          "output_type": "stream",
          "name": "stdout",
          "text": [
            "Inteligência Artificial - Futebol \t\t\t 501.76189572345965 \n",
            "Inteligência Artificial - Aprendizado de Máquinas \t 648.5823000976823 \n",
            "Inteligência Artificial - Voleibol \t\t\t 714.2723570179655\n"
          ]
        }
      ]
    },
    {
      "cell_type": "markdown",
      "source": [
        "Calculando a distância euclidiana, esperamos que textos similares tenham uma distância MENOR.\n",
        "\n",
        "Entretanto, como podemos ver acima, isso não acontece: a menor distância aparece entre 'Inteligência Artificial - Futebol' e não 'Inteligência Artificial - Aprendizado de Máquinas'.\n",
        "\n",
        "Isso acontece pois a distância euclidiana leva em consideração basicamente a distância (uma régua) entre dois pontos. Se esses dois pontos estão mais próximos em relação à sua magnitude (tamanho), naturalmente eles terão uma distância menor, mesmo que seus vetores estejam com ângulos mais distintos. Ou seja, como os textos de Inteligência Artificial e Futebol possuem mais palavras, eles naturalmente terão uma magnitude maior e a chance de terem uma distância menor é alta."
      ],
      "metadata": {
        "id": "84JlxoSSd02K"
      }
    },
    {
      "cell_type": "code",
      "metadata": {
        "colab": {
          "base_uri": "https://localhost:8080/"
        },
        "id": "rhjbF3Ys1NxD",
        "outputId": "ab3cfcef-283f-4ad9-cb71-1f254f3dc0f6"
      },
      "source": [
        "# similaridade por cossenos\n",
        "print(\"Inteligência Artificial - Futebol \\t\\t\\t\", cosine_similarity(X[0], X[1]), \"\\n\"\n",
        "      \"Inteligência Artificial - Aprendizado de Máquinas \\t\", cosine_similarity(X[0], X[2]), \"\\n\"\n",
        "      \"Inteligência Artificial - Voleibol \\t\\t\\t\", cosine_similarity(X[0], X[3]))"
      ],
      "execution_count": null,
      "outputs": [
        {
          "output_type": "stream",
          "name": "stdout",
          "text": [
            "Inteligência Artificial - Futebol \t\t\t 0.8657123785865856 \n",
            "Inteligência Artificial - Aprendizado de Máquinas \t 0.9166482753612866 \n",
            "Inteligência Artificial - Voleibol \t\t\t 0.8257818771512007\n"
          ]
        }
      ]
    },
    {
      "cell_type": "markdown",
      "source": [
        "Quando calculamos a similaridade por cossenos nós não ficamos preocupados com a quantidade de palavras de cada texto e sim com seu CONTEÚDO.\n",
        "\n",
        "Se um texto está falando sobre futebol mas possui apenas um parágrafo e um outro texto também fala de futebol mas é um livro, eu quero que esses dois vetores tenham uma similaridade ALTA! O conteúdo dos dois é o mesmo embora a quantidade de palavras se difira.\n",
        "\n",
        "Ao calcularmos a similaridade por cossenos acima vemos que, agora sim, a similaridade é maior entre 'Inteligência Artificial - Aprendizado de Máquinas'."
      ],
      "metadata": {
        "id": "dSwbNDl5fDAV"
      }
    },
    {
      "cell_type": "markdown",
      "source": [
        "Agora vamos exercitar com um exemplo de tweet sobre futebol.\n",
        "\n",
        "Veremos com que texto ele terá mais similaridade por cossenos."
      ],
      "metadata": {
        "id": "oL_Da11VgKi3"
      }
    },
    {
      "cell_type": "code",
      "metadata": {
        "id": "UEneVt5c2z_m"
      },
      "source": [
        "# categorizanto um tweet\n",
        "tweet = \"romário e ronaldo são os melhores atacantes que já vi jogar... dentro da pequena área era sempre gol!\"\n",
        "t = np.array(cv.transform([tweet]).todense())[0]"
      ],
      "execution_count": null,
      "outputs": []
    },
    {
      "cell_type": "markdown",
      "source": [
        "Por conta da magnitude de textos, sabemos que a distância euclidiana não é uma boa para se verificar a frase:"
      ],
      "metadata": {
        "id": "r8wHEQCnggZu"
      }
    },
    {
      "cell_type": "code",
      "metadata": {
        "colab": {
          "base_uri": "https://localhost:8080/"
        },
        "id": "tb7b9HOm3kwV",
        "outputId": "27b2fc4f-a743-4e97-f318-699383428cab"
      },
      "source": [
        "# tweet vs páginas com distância euclidiana\n",
        "print(\"tweet - Inteligência Artificial \\t\", euclidean_distance(t, X[0]), \"\\n\"\n",
        "      \"tweet - Futebol \\t\\t\\t\", euclidean_distance(t, X[1]), \"\\n\"\n",
        "      \"tweet - Aprendizado de Máquinas \\t\", euclidean_distance(t, X[2]), \"\\n\"\n",
        "      \"tweet - Voleibol \\t\\t\\t\", euclidean_distance(t, X[3]))"
      ],
      "execution_count": null,
      "outputs": [
        {
          "output_type": "stream",
          "name": "stdout",
          "text": [
            "tweet - Inteligência Artificial \t 998.190863512585 \n",
            "tweet - Futebol \t\t\t 821.0408028837544 \n",
            "tweet - Aprendizado de Máquinas \t 403.92078431296403 \n",
            "tweet - Voleibol \t\t\t 384.912977177959\n"
          ]
        }
      ]
    },
    {
      "cell_type": "markdown",
      "source": [
        "Veremos então pela similaridade por cossenos:"
      ],
      "metadata": {
        "id": "TKZJXxvNgqem"
      }
    },
    {
      "cell_type": "code",
      "metadata": {
        "colab": {
          "base_uri": "https://localhost:8080/"
        },
        "id": "sR63wITK4E4J",
        "outputId": "b0b5aef0-fa45-40b5-c563-63ceede44361"
      },
      "source": [
        "# tweet vs páginas com similaridade por cossenos\n",
        "print(\"tweet - Inteligência Artificial \\t\", cosine_similarity(t, X[0]), \"\\n\"\n",
        "      \"tweet - Futebol \\t\\t\\t\", cosine_similarity(t, X[1]), \"\\n\"\n",
        "      \"tweet - Aprendizado de Máquinas \\t\", cosine_similarity(t, X[2]), \"\\n\"\n",
        "      \"tweet - Voleibol \\t\\t\\t\", cosine_similarity(t, X[3]))"
      ],
      "execution_count": null,
      "outputs": [
        {
          "output_type": "stream",
          "name": "stdout",
          "text": [
            "tweet - Inteligência Artificial \t 0.15045738229580527 \n",
            "tweet - Futebol \t\t\t 0.18287014432287246 \n",
            "tweet - Aprendizado de Máquinas \t 0.11430235112545817 \n",
            "tweet - Voleibol \t\t\t 0.17611644436368035\n"
          ]
        }
      ]
    },
    {
      "cell_type": "markdown",
      "metadata": {
        "id": "0IYITMUconbJ"
      },
      "source": [
        "### Aula 2.8 - O mal da dimensionalidade"
      ]
    },
    {
      "cell_type": "code",
      "metadata": {
        "id": "knc8moQ_A4aU"
      },
      "source": [
        "# distâncias entre [1]^n e [0]^n,\n",
        "# onde [x]^n é o vetor composto apenas por x n-dimensional (tamanho n)\n",
        "# a distância Euclidiana entre esses vetores é dada por sqrt(n)\n",
        "\n",
        "# users\n",
        "n = 1000\n",
        "user_a = np.ones(n)\n",
        "user_b = np.zeros(n)\n",
        "\n",
        "# distance for each dimension\n",
        "euclidean_distance = np.sqrt(np.cumsum((user_a - user_b)**2))  # sqrt(n)"
      ],
      "execution_count": null,
      "outputs": []
    },
    {
      "cell_type": "markdown",
      "source": [
        "Neste exemplo, vemos a partir do gráfico que a distância não para de aumentar. Ou seja, quanto maior a quantidade de atributos (n's) menor a similaridade fica.\n",
        "\n",
        "Assim, à medida que a dimensão vai aumentando, algumas medidas de DISTÂNCIA deixam de ser representativas."
      ],
      "metadata": {
        "id": "L9Xwd9BCq2ux"
      }
    },
    {
      "cell_type": "code",
      "metadata": {
        "colab": {
          "base_uri": "https://localhost:8080/",
          "height": 355
        },
        "id": "mT0l-_dIDHqz",
        "outputId": "e2ef597b-ef8b-4cb7-c4e3-1e4210e24b52"
      },
      "source": [
        "# plot\n",
        "plt.figure(figsize=(10, 5))\n",
        "plt.plot(euclidean_distance, '.', label='Distância euclidiana')\n",
        "plt.xlabel(\"Dimensão, $n$\")\n",
        "plt.ylabel(\"Distância\")\n",
        "plt.title('Distância euclidiana entre $[1]^n$ e $[0]^n$')\n",
        "plt.grid()\n",
        "plt.show()"
      ],
      "execution_count": null,
      "outputs": [
        {
          "output_type": "display_data",
          "data": {
            "text/plain": [
              "<Figure size 720x360 with 1 Axes>"
            ],
            "image/png": "[encoded data removed]"
          },
          "metadata": {
            "needs_background": "light"
          }
        }
      ]
    },
    {
      "cell_type": "markdown",
      "source": [
        "Outro exemplo do mal da dimensionalidade:"
      ],
      "metadata": {
        "id": "APVYtFILrTGb"
      }
    },
    {
      "cell_type": "code",
      "metadata": {
        "id": "gCt4E3JyDR2w"
      },
      "source": [
        "def distance_distribution(number_points = 5000, distance_type='euclidean'):\n",
        "\n",
        "  # parameters\n",
        "  n_range = [2, 8, 16, 32, 64, 256, 512, 1024]\n",
        "\n",
        "  # plot\n",
        "  plt.figure(figsize=(20, 10))\n",
        "  for i, n in enumerate(n_range):\n",
        "\n",
        "    # distance computation\n",
        "    points = np.random.uniform(size=(number_points, n)) \n",
        "    pairwise_distance = pdist(points, metric=distance_type)\n",
        "  \n",
        "    # compute normalized distance distribution\n",
        "    max_distance = np.max(pairwise_distance)\n",
        "    distribution = pairwise_distance/max_distance\n",
        "    xlabel_text = \"Euclidean distance/Max distance\"\n",
        "    \n",
        "    # standard deviation\n",
        "    std = np.std(distribution)\n",
        "\n",
        "    # plot\n",
        "    plt.subplot(2, 4, i+1)\n",
        "    plt.subplots_adjust(hspace=.3)\n",
        "    plt.hist(distribution, density=True)\n",
        "    plt.title(f'Dimension {n}, $\\sigma$ = {std:.3f}')\n",
        "    plt.xlabel(xlabel_text)\n",
        "    plt.xticks(np.linspace(0, 1, 5))\n",
        "  \n",
        "  plt.show()"
      ],
      "execution_count": null,
      "outputs": []
    },
    {
      "cell_type": "code",
      "metadata": {
        "colab": {
          "base_uri": "https://localhost:8080/",
          "height": 589
        },
        "id": "wRJyIQdAy0Aq",
        "outputId": "79807a4b-1c7c-4407-b955-80f88f48e7b5"
      },
      "source": [
        "# plot experiment\n",
        "distance_distribution()"
      ],
      "execution_count": null,
      "outputs": [
        {
          "output_type": "display_data",
          "data": {
            "text/plain": [
              "<Figure size 1440x720 with 8 Axes>"
            ],
            "image/png": "[encoded data removed]"
          },
          "metadata": {
            "needs_background": "light"
          }
        }
      ]
    },
    {
      "cell_type": "markdown",
      "source": [
        "Quanto maior a dimensão, mais concentrado ficam os resultados das distâncias euclidianas.\n",
        "\n",
        "Em modelos de machine learning, a variabilidade é ótima, porém o que vemos aqui é que quanto maior a dimensão, menos variabilidade temos. E não só isso, os resultados ficam todos concentrados \"na borda\" (próximo de 1)."
      ],
      "metadata": {
        "id": "RLKiltINslZo"
      }
    },
    {
      "cell_type": "markdown",
      "metadata": {
        "id": "uhWCxnmSpgs4"
      },
      "source": [
        "## Capítulo 3. Recomendação baseada em conteúdo"
      ]
    },
    {
      "cell_type": "markdown",
      "metadata": {
        "id": "9m3HDoB86G13"
      },
      "source": [
        "### Aula 3.2 - Similaridade entre itens"
      ]
    },
    {
      "cell_type": "code",
      "metadata": {
        "id": "m45cRFuV6OMy"
      },
      "source": [
        "# dados\n",
        "movies = ['Avatar 2009',\n",
        "          'The Matrix',\n",
        "          'Toy Story',\n",
        "          'Ther Dark Knight',\n",
        "          'Frozen',\n",
        "          'The Incredibles']"
      ],
      "execution_count": null,
      "outputs": []
    },
    {
      "cell_type": "markdown",
      "source": [
        "Utilizaremos novamente o Wikipedia para verificar a listagem de filmes acima."
      ],
      "metadata": {
        "id": "8LqFfA4E16sy"
      }
    },
    {
      "cell_type": "code",
      "metadata": {
        "id": "vJwG5LZp8qRL"
      },
      "source": [
        "def feature_extraction(movies: list):\n",
        "\n",
        "  # voltando para o inglês\n",
        "  wikipedia.set_lang(\"en\")\n",
        "\n",
        "  # query na wikipedia\n",
        "  contents = []\n",
        "  for movie in movies:\n",
        "    # busca página\n",
        "    print(\"Search item:\", movie)\n",
        "    page = wikipedia.page(movie+' movie') # Concatenando o título do filme com a palavra 'movie' para pesquisar\n",
        "\n",
        "    # log\n",
        "    print(\"Página:\", page.title, page.url)\n",
        "\n",
        "    # save content\n",
        "    contents.append(page.content)\n",
        "\n",
        "  # extração de features\n",
        "  features = np.array(cv.fit_transform(contents).todense())\n",
        "\n",
        "  return features"
      ],
      "execution_count": null,
      "outputs": []
    },
    {
      "cell_type": "code",
      "metadata": {
        "colab": {
          "base_uri": "https://localhost:8080/"
        },
        "id": "_NXjbjR-9kYU",
        "outputId": "8fb3a573-9ed6-4c54-ecc3-e2c048ea7f9d"
      },
      "source": [
        "# extração de features dos filmes baseado no conteúdo da wikipedia\n",
        "features = feature_extraction(movies)"
      ],
      "execution_count": null,
      "outputs": [
        {
          "output_type": "stream",
          "name": "stdout",
          "text": [
            "Search item: Avatar 2009\n",
            "Página: Avatar (2009 film) https://en.wikipedia.org/wiki/Avatar_(2009_film)\n",
            "Search item: The Matrix\n",
            "Página: The Matrix https://en.wikipedia.org/wiki/The_Matrix\n",
            "Search item: Toy Story\n",
            "Página: Toy Story https://en.wikipedia.org/wiki/Toy_Story\n",
            "Search item: Ther Dark Knight\n",
            "Página: The Dark Knight https://en.wikipedia.org/wiki/The_Dark_Knight\n",
            "Search item: Frozen\n",
            "Página: Frozen (2013 film) https://en.wikipedia.org/wiki/Frozen_(2013_film)\n",
            "Search item: The Incredibles\n",
            "Página: The Incredibles https://en.wikipedia.org/wiki/The_Incredibles\n"
          ]
        }
      ]
    },
    {
      "cell_type": "code",
      "metadata": {
        "colab": {
          "base_uri": "https://localhost:8080/"
        },
        "id": "NuOqot5TCRgN",
        "outputId": "911b606b-ddc5-4467-b6f3-577e6cdafc0a"
      },
      "source": [
        "# dimensão\n",
        "features.shape"
      ],
      "execution_count": null,
      "outputs": [
        {
          "output_type": "execute_result",
          "data": {
            "text/plain": [
              "(6, 8402)"
            ]
          },
          "metadata": {},
          "execution_count": 44
        }
      ]
    },
    {
      "cell_type": "code",
      "metadata": {
        "colab": {
          "base_uri": "https://localhost:8080/"
        },
        "id": "2WbH4S2WCczW",
        "outputId": "56531dc4-1f1a-4f6b-870b-bdde3d5ae9ce"
      },
      "source": [
        "# similaridade por cossenos\n",
        "print(f\"{movies[2]} - {movies[0]} \\t\\t\", cosine_similarity(features[2], features[0]), \"\\n\"\n",
        "      f\"{movies[2]} - {movies[1]} \\t\\t\", cosine_similarity(features[2], features[1]), \"\\n\"\n",
        "      f\"{movies[2]} - {movies[3]} \\t\", cosine_similarity(features[2], features[3]), \"\\n\"\n",
        "      f\"{movies[2]} - {movies[4]} \\t\\t\", cosine_similarity(features[2], features[4]), \"\\n\"\n",
        "      f\"{movies[2]} - {movies[5]} \\t\", cosine_similarity(features[2], features[5]), \"\\n\")"
      ],
      "execution_count": null,
      "outputs": [
        {
          "output_type": "stream",
          "name": "stdout",
          "text": [
            "Toy Story - Avatar 2009 \t\t 0.9304595971230148 \n",
            "Toy Story - The Matrix \t\t 0.9262458402585291 \n",
            "Toy Story - Ther Dark Knight \t 0.914026717668736 \n",
            "Toy Story - Frozen \t\t 0.9436556598416788 \n",
            "Toy Story - The Incredibles \t 0.942221397619796 \n",
            "\n"
          ]
        }
      ]
    },
    {
      "cell_type": "markdown",
      "metadata": {
        "id": "SNjXm6rzGmmD"
      },
      "source": [
        "### Aula 3.3 - Mapeamento de perfil de usuários"
      ]
    },
    {
      "cell_type": "code",
      "metadata": {
        "id": "Cf_DjFDVH6ET"
      },
      "source": [
        "# perfil dos filmes\n",
        "movies_genres = {'Action': [1, 1, 0, 1, 0],\n",
        "                 'Adventure': [1, 0, 1, 1, 0],\n",
        "                 'Comedy': [0, 0, 1, 0, 0],\n",
        "                 'Drama': [0, 0, 0, 0, 1]}\n",
        "                 \n",
        "movies = ['Avatar', 'Matrix', 'Toy Story', 'Batman', 'Pulp Fiction']"
      ],
      "execution_count": null,
      "outputs": []
    },
    {
      "cell_type": "code",
      "metadata": {
        "id": "697gkJ0WJTm8"
      },
      "source": [
        "# avaliações do usuário\n",
        "user_ratings = {'Avatar': 1,\n",
        "                'Matrix': 4,\n",
        "                'Toy Story': 3,\n",
        "                'Batman': 5,\n",
        "                'Pulp Fiction': 2}"
      ],
      "execution_count": null,
      "outputs": []
    },
    {
      "cell_type": "code",
      "metadata": {
        "id": "XwMQQvqYJI4s"
      },
      "source": [
        "# criando dataframe de filmes/gêneros\n",
        "movies_profile = pd.DataFrame(movies_genres, index=movies)"
      ],
      "execution_count": null,
      "outputs": []
    },
    {
      "cell_type": "code",
      "metadata": {
        "colab": {
          "base_uri": "https://localhost:8080/",
          "height": 206
        },
        "id": "A1wqBFyEJiLj",
        "outputId": "e75aeb71-db95-4daf-a8db-3e2b3d3f8648"
      },
      "source": [
        "movies_profile"
      ],
      "execution_count": null,
      "outputs": [
        {
          "output_type": "execute_result",
          "data": {
            "text/plain": [
              "              Action  Adventure  Comedy  Drama\n",
              "Avatar             1          1       0      0\n",
              "Matrix             1          0       0      0\n",
              "Toy Story          0          1       1      0\n",
              "Batman             1          1       0      0\n",
              "Pulp Fiction       0          0       0      1"
            ],
            "text/html": [
              "\n",
              "  <div id=\"df-67470800-ac8d-49ec-83b4-2afc617d2703\">\n",
              "    <div class=\"colab-df-container\">\n",
              "      <div>\n",
              "<style scoped>\n",
              "    .dataframe tbody tr th:only-of-type {\n",
              "        vertical-align: middle;\n",
              "    }\n",
              "\n",
              "    .dataframe tbody tr th {\n",
              "        vertical-align: top;\n",
              "    }\n",
              "\n",
              "    .dataframe thead th {\n",
              "        text-align: right;\n",
              "    }\n",
              "</style>\n",
              "<table border=\"1\" class=\"dataframe\">\n",
              "  <thead>\n",
              "    <tr style=\"text-align: right;\">\n",
              "      <th></th>\n",
              "      <th>Action</th>\n",
              "      <th>Adventure</th>\n",
              "      <th>Comedy</th>\n",
              "      <th>Drama</th>\n",
              "    </tr>\n",
              "  </thead>\n",
              "  <tbody>\n",
              "    <tr>\n",
              "      <th>Avatar</th>\n",
              "      <td>1</td>\n",
              "      <td>1</td>\n",
              "      <td>0</td>\n",
              "      <td>0</td>\n",
              "    </tr>\n",
              "    <tr>\n",
              "      <th>Matrix</th>\n",
              "      <td>1</td>\n",
              "      <td>0</td>\n",
              "      <td>0</td>\n",
              "      <td>0</td>\n",
              "    </tr>\n",
              "    <tr>\n",
              "      <th>Toy Story</th>\n",
              "      <td>0</td>\n",
              "      <td>1</td>\n",
              "      <td>1</td>\n",
              "      <td>0</td>\n",
              "    </tr>\n",
              "    <tr>\n",
              "      <th>Batman</th>\n",
              "      <td>1</td>\n",
              "      <td>1</td>\n",
              "      <td>0</td>\n",
              "      <td>0</td>\n",
              "    </tr>\n",
              "    <tr>\n",
              "      <th>Pulp Fiction</th>\n",
              "      <td>0</td>\n",
              "      <td>0</td>\n",
              "      <td>0</td>\n",
              "      <td>1</td>\n",
              "    </tr>\n",
              "  </tbody>\n",
              "</table>\n",
              "</div>\n",
              "      <button class=\"colab-df-convert\" onclick=\"convertToInteractive('df-67470800-ac8d-49ec-83b4-2afc617d2703')\"\n",
              "              title=\"Convert this dataframe to an interactive table.\"\n",
              "              style=\"display:none;\">\n",
              "        \n",
              "  <svg xmlns=\"http://www.w3.org/2000/svg\" height=\"24px\"viewBox=\"0 0 24 24\"\n",
              "       width=\"24px\">\n",
              "    <path d=\"M0 0h24v24H0V0z\" fill=\"none\"/>\n",
              "    <path d=\"M18.56 5.44l.94 2.06.94-2.06 2.06-.94-2.06-.94-.94-2.06-.94 2.06-2.06.94zm-11 1L8.5 8.5l.94-2.06 2.06-.94-2.06-.94L8.5 2.5l-.94 2.06-2.06.94zm10 10l.94 2.06.94-2.06 2.06-.94-2.06-.94-.94-2.06-.94 2.06-2.06.94z\"/><path d=\"M17.41 7.96l-1.37-1.37c-.4-.4-.92-.59-1.43-.59-.52 0-1.04.2-1.43.59L10.3 9.45l-7.72 7.72c-.78.78-.78 2.05 0 2.83L4 21.41c.39.39.9.59 1.41.59.51 0 1.02-.2 1.41-.59l7.78-7.78 2.81-2.81c.8-.78.8-2.07 0-2.86zM5.41 20L4 18.59l7.72-7.72 1.47 1.35L5.41 20z\"/>\n",
              "  </svg>\n",
              "      </button>\n",
              "      \n",
              "  <style>\n",
              "    .colab-df-container {\n",
              "      display:flex;\n",
              "      flex-wrap:wrap;\n",
              "      gap: 12px;\n",
              "    }\n",
              "\n",
              "    .colab-df-convert {\n",
              "      background-color: #E8F0FE;\n",
              "      border: none;\n",
              "      border-radius: 50%;\n",
              "      cursor: pointer;\n",
              "      display: none;\n",
              "      fill: #1967D2;\n",
              "      height: 32px;\n",
              "      padding: 0 0 0 0;\n",
              "      width: 32px;\n",
              "    }\n",
              "\n",
              "    .colab-df-convert:hover {\n",
              "      background-color: #E2EBFA;\n",
              "      box-shadow: 0px 1px 2px rgba(60, 64, 67, 0.3), 0px 1px 3px 1px rgba(60, 64, 67, 0.15);\n",
              "      fill: #174EA6;\n",
              "    }\n",
              "\n",
              "    [theme=dark] .colab-df-convert {\n",
              "      background-color: #3B4455;\n",
              "      fill: #D2E3FC;\n",
              "    }\n",
              "\n",
              "    [theme=dark] .colab-df-convert:hover {\n",
              "      background-color: #434B5C;\n",
              "      box-shadow: 0px 1px 3px 1px rgba(0, 0, 0, 0.15);\n",
              "      filter: drop-shadow(0px 1px 2px rgba(0, 0, 0, 0.3));\n",
              "      fill: #FFFFFF;\n",
              "    }\n",
              "  </style>\n",
              "\n",
              "      <script>\n",
              "        const buttonEl =\n",
              "          document.querySelector('#df-67470800-ac8d-49ec-83b4-2afc617d2703 button.colab-df-convert');\n",
              "        buttonEl.style.display =\n",
              "          google.colab.kernel.accessAllowed ? 'block' : 'none';\n",
              "\n",
              "        async function convertToInteractive(key) {\n",
              "          const element = document.querySelector('#df-67470800-ac8d-49ec-83b4-2afc617d2703');\n",
              "          const dataTable =\n",
              "            await google.colab.kernel.invokeFunction('convertToInteractive',\n",
              "                                                     [key], {});\n",
              "          if (!dataTable) return;\n",
              "\n",
              "          const docLinkHtml = 'Like what you see? Visit the ' +\n",
              "            '<a target=\"_blank\" href=https://colab.research.google.com/notebooks/data_table.ipynb>data table notebook</a>'\n",
              "            + ' to learn more about interactive tables.';\n",
              "          element.innerHTML = '';\n",
              "          dataTable['output_type'] = 'display_data';\n",
              "          await google.colab.output.renderOutput(dataTable, element);\n",
              "          const docLink = document.createElement('div');\n",
              "          docLink.innerHTML = docLinkHtml;\n",
              "          element.appendChild(docLink);\n",
              "        }\n",
              "      </script>\n",
              "    </div>\n",
              "  </div>\n",
              "  "
            ]
          },
          "metadata": {},
          "execution_count": 49
        }
      ]
    },
    {
      "cell_type": "code",
      "metadata": {
        "colab": {
          "base_uri": "https://localhost:8080/"
        },
        "id": "6_hB-pVrJovX",
        "outputId": "c2ef97a8-761d-4110-ef89-01004300b8d6"
      },
      "source": [
        "# construindo o perfil do usuário pela média\n",
        "user_profile = movies_profile.mean(axis=0)\n",
        "user_profile"
      ],
      "execution_count": null,
      "outputs": [
        {
          "output_type": "execute_result",
          "data": {
            "text/plain": [
              "Action       0.6\n",
              "Adventure    0.6\n",
              "Comedy       0.2\n",
              "Drama        0.2\n",
              "dtype: float64"
            ]
          },
          "metadata": {},
          "execution_count": 50
        }
      ]
    },
    {
      "cell_type": "code",
      "metadata": {
        "colab": {
          "base_uri": "https://localhost:8080/"
        },
        "id": "7HFNRHkcJ7hN",
        "outputId": "bbec170c-a029-4d51-de6e-d2473130bc35"
      },
      "source": [
        "# gerando recomendações: similaridade por produto interno\n",
        "similarity = movies_profile.values @ user_profile.values.reshape(-1, 1)\n",
        "similarity"
      ],
      "execution_count": null,
      "outputs": [
        {
          "output_type": "execute_result",
          "data": {
            "text/plain": [
              "array([[1.2],\n",
              "       [0.6],\n",
              "       [0.8],\n",
              "       [1.2],\n",
              "       [0.2]])"
            ]
          },
          "metadata": {},
          "execution_count": 51
        }
      ]
    },
    {
      "cell_type": "code",
      "metadata": {
        "id": "aOIZtnmwKhCH"
      },
      "source": [
        "# ordenando as similaridades\n",
        "i_sort = np.argsort(-similarity.ravel())"
      ],
      "execution_count": null,
      "outputs": []
    },
    {
      "cell_type": "code",
      "metadata": {
        "colab": {
          "base_uri": "https://localhost:8080/"
        },
        "id": "a78iYD0hKvy7",
        "outputId": "ac69d53e-d20b-4208-db46-b5168bac3fcb"
      },
      "source": [
        "# recomendações ordenadas\n",
        "recommendations = np.array(movies)[i_sort].reshape(-1, 1)\n",
        "print(recommendations)"
      ],
      "execution_count": null,
      "outputs": [
        {
          "output_type": "stream",
          "name": "stdout",
          "text": [
            "[['Avatar']\n",
            " ['Batman']\n",
            " ['Toy Story']\n",
            " ['Matrix']\n",
            " ['Pulp Fiction']]\n"
          ]
        }
      ]
    },
    {
      "cell_type": "markdown",
      "source": [
        "Agora veremos como ficaria a ordenação de filmes a partir também da avaliação que o usuário deu."
      ],
      "metadata": {
        "id": "w3Xpamj0-QGw"
      }
    },
    {
      "cell_type": "code",
      "metadata": {
        "id": "N5una-sKLd3N"
      },
      "source": [
        "# construindo o perfil pela média das notas normalizadas\n",
        "ratings_array = np.array([user_ratings[movie] for movie in user_ratings.keys()])"
      ],
      "execution_count": null,
      "outputs": []
    },
    {
      "cell_type": "code",
      "metadata": {
        "id": "8aGl6FNsL-2F"
      },
      "source": [
        "# normalizando as avaliações\n",
        "ratings_array_n = ratings_array - ratings_array.mean()"
      ],
      "execution_count": null,
      "outputs": []
    },
    {
      "cell_type": "code",
      "metadata": {
        "colab": {
          "base_uri": "https://localhost:8080/"
        },
        "id": "V2XN2GXEOgzo",
        "outputId": "8e64b884-2a44-4a89-94f3-f8134098ed85"
      },
      "source": [
        "ratings_array_n"
      ],
      "execution_count": null,
      "outputs": [
        {
          "output_type": "execute_result",
          "data": {
            "text/plain": [
              "array([-2.,  1.,  0.,  2., -1.])"
            ]
          },
          "metadata": {},
          "execution_count": 56
        }
      ]
    },
    {
      "cell_type": "code",
      "metadata": {
        "colab": {
          "base_uri": "https://localhost:8080/"
        },
        "id": "g7DP43tCNA4S",
        "outputId": "8faac2e0-c0d7-4935-89dd-22bac9a01be2"
      },
      "source": [
        "# matriz de perfil dos filmes\n",
        "profile_matrix = movies_profile.values\n",
        "profile_matrix"
      ],
      "execution_count": null,
      "outputs": [
        {
          "output_type": "execute_result",
          "data": {
            "text/plain": [
              "array([[1, 1, 0, 0],\n",
              "       [1, 0, 0, 0],\n",
              "       [0, 1, 1, 0],\n",
              "       [1, 1, 0, 0],\n",
              "       [0, 0, 0, 1]])"
            ]
          },
          "metadata": {},
          "execution_count": 57
        }
      ]
    },
    {
      "cell_type": "code",
      "metadata": {
        "id": "SpuHBpx1L-9U"
      },
      "source": [
        "# gerando o perfil\n",
        "\n",
        "# soma das avaliações normalizadas\n",
        "sum = profile_matrix.T @ ratings_array_n.reshape(-1 , 1)\n",
        "\n",
        "# número de filmes assistidos por gênero\n",
        "non_zero = np.sum(profile_matrix > 0, axis=0)\n",
        "\n",
        "# perfil\n",
        "user_profile = sum.ravel()/non_zero"
      ],
      "execution_count": null,
      "outputs": []
    },
    {
      "cell_type": "code",
      "metadata": {
        "colab": {
          "base_uri": "https://localhost:8080/"
        },
        "id": "wORk956lOrZk",
        "outputId": "4816b9b2-03c4-48f1-e703-b38cac5055e6"
      },
      "source": [
        "user_profile"
      ],
      "execution_count": null,
      "outputs": [
        {
          "output_type": "execute_result",
          "data": {
            "text/plain": [
              "array([ 0.33333333,  0.        ,  0.        , -1.        ])"
            ]
          },
          "metadata": {},
          "execution_count": 59
        }
      ]
    },
    {
      "cell_type": "code",
      "metadata": {
        "colab": {
          "base_uri": "https://localhost:8080/"
        },
        "id": "Shhmm0TPPfBK",
        "outputId": "3b4b3593-f71e-47e8-f5f6-d85a03873eaf"
      },
      "source": [
        "# gerando recomendações: similaridade por produto interno\n",
        "similarity = movies_profile.values @ user_profile.reshape(-1, 1)\n",
        "similarity"
      ],
      "execution_count": null,
      "outputs": [
        {
          "output_type": "execute_result",
          "data": {
            "text/plain": [
              "array([[ 0.33333333],\n",
              "       [ 0.33333333],\n",
              "       [ 0.        ],\n",
              "       [ 0.33333333],\n",
              "       [-1.        ]])"
            ]
          },
          "metadata": {},
          "execution_count": 60
        }
      ]
    },
    {
      "cell_type": "code",
      "metadata": {
        "id": "iKdr2t2jP92D"
      },
      "source": [
        "# ordendando as similaridades\n",
        "i_sort = np.argsort(-similarity.ravel())"
      ],
      "execution_count": null,
      "outputs": []
    },
    {
      "cell_type": "code",
      "metadata": {
        "colab": {
          "base_uri": "https://localhost:8080/"
        },
        "id": "vftOvWaaP_37",
        "outputId": "effb0700-9608-485e-8558-35b4ba8dd060"
      },
      "source": [
        "# recomendações ordenadas\n",
        "recommendations = np.array(movies)[i_sort].reshape(-1, 1)\n",
        "print(recommendations)"
      ],
      "execution_count": null,
      "outputs": [
        {
          "output_type": "stream",
          "name": "stdout",
          "text": [
            "[['Avatar']\n",
            " ['Matrix']\n",
            " ['Batman']\n",
            " ['Toy Story']\n",
            " ['Pulp Fiction']]\n"
          ]
        }
      ]
    },
    {
      "cell_type": "markdown",
      "metadata": {
        "id": "C_6RZQ6istD-"
      },
      "source": [
        "## Capítulo 4. Filtragem colaborativa"
      ]
    },
    {
      "cell_type": "markdown",
      "metadata": {
        "id": "eq-kHAAMQaO2"
      },
      "source": [
        "### Aula 4.3 - Cálculo da similaridade entre usuários"
      ]
    },
    {
      "cell_type": "markdown",
      "source": [
        "Para estudar a similaridade entre usuários, será criado um Dataframe de Matriz de Avaliações, onde temos:\n",
        "- 5 usuários (U1,U2,U3,U4,U5);\n",
        "- 7 itens (M1,M2,M3,...,M7).\n",
        "\n",
        "OBS.: Os zeros da matriz não são referentes a notas negativas e sim à ausência de uma avaliação."
      ],
      "metadata": {
        "id": "7jjVdWeRUhYq"
      }
    },
    {
      "cell_type": "code",
      "source": [
        "# gera a matriz de avaliações\n",
        "ratings = {'I1': [4.0, 5.0, 0.0, 4.1, 1.0],\n",
        "           'I2': [0.0, 4.5, 0.0, 3.0, 4.0],\n",
        "           'I3': [0.0, 4.0, 0.0, 0.0, 0.0],\n",
        "           'I4': [4.7, 0.0, 1.5, 4.9, 2.5],\n",
        "           'I5': [1.0, 0.0, 5.0, 0.0, 3.8],\n",
        "           'I6': [0.0, 0.0, 4.0, 0.0, 1.0],\n",
        "           'I7': [0.0, 0.0, 0.0, 3.0, 5.0]}\n",
        "ratings = pd.DataFrame(ratings, index = ['U1', 'U2', 'U3', 'U4', 'U5'], dtype=float)"
      ],
      "metadata": {
        "id": "Cm4eV2cZtz3K"
      },
      "execution_count": null,
      "outputs": []
    },
    {
      "cell_type": "code",
      "metadata": {
        "colab": {
          "base_uri": "https://localhost:8080/",
          "height": 206
        },
        "id": "lfrFmCRut8G0",
        "outputId": "1b0741e7-a83d-4f31-d0a7-411e0f74d392"
      },
      "source": [
        "ratings"
      ],
      "execution_count": null,
      "outputs": [
        {
          "output_type": "execute_result",
          "data": {
            "text/plain": [
              "     I1   I2   I3   I4   I5   I6   I7\n",
              "U1  4.0  0.0  0.0  4.7  1.0  0.0  0.0\n",
              "U2  5.0  4.5  4.0  0.0  0.0  0.0  0.0\n",
              "U3  0.0  0.0  0.0  1.5  5.0  4.0  0.0\n",
              "U4  4.1  3.0  0.0  4.9  0.0  0.0  3.0\n",
              "U5  1.0  4.0  0.0  2.5  3.8  1.0  5.0"
            ],
            "text/html": [
              "\n",
              "  <div id=\"df-1725be2b-cf53-4c9a-aadd-80b1bcdd5fed\">\n",
              "    <div class=\"colab-df-container\">\n",
              "      <div>\n",
              "<style scoped>\n",
              "    .dataframe tbody tr th:only-of-type {\n",
              "        vertical-align: middle;\n",
              "    }\n",
              "\n",
              "    .dataframe tbody tr th {\n",
              "        vertical-align: top;\n",
              "    }\n",
              "\n",
              "    .dataframe thead th {\n",
              "        text-align: right;\n",
              "    }\n",
              "</style>\n",
              "<table border=\"1\" class=\"dataframe\">\n",
              "  <thead>\n",
              "    <tr style=\"text-align: right;\">\n",
              "      <th></th>\n",
              "      <th>I1</th>\n",
              "      <th>I2</th>\n",
              "      <th>I3</th>\n",
              "      <th>I4</th>\n",
              "      <th>I5</th>\n",
              "      <th>I6</th>\n",
              "      <th>I7</th>\n",
              "    </tr>\n",
              "  </thead>\n",
              "  <tbody>\n",
              "    <tr>\n",
              "      <th>U1</th>\n",
              "      <td>4.0</td>\n",
              "      <td>0.0</td>\n",
              "      <td>0.0</td>\n",
              "      <td>4.7</td>\n",
              "      <td>1.0</td>\n",
              "      <td>0.0</td>\n",
              "      <td>0.0</td>\n",
              "    </tr>\n",
              "    <tr>\n",
              "      <th>U2</th>\n",
              "      <td>5.0</td>\n",
              "      <td>4.5</td>\n",
              "      <td>4.0</td>\n",
              "      <td>0.0</td>\n",
              "      <td>0.0</td>\n",
              "      <td>0.0</td>\n",
              "      <td>0.0</td>\n",
              "    </tr>\n",
              "    <tr>\n",
              "      <th>U3</th>\n",
              "      <td>0.0</td>\n",
              "      <td>0.0</td>\n",
              "      <td>0.0</td>\n",
              "      <td>1.5</td>\n",
              "      <td>5.0</td>\n",
              "      <td>4.0</td>\n",
              "      <td>0.0</td>\n",
              "    </tr>\n",
              "    <tr>\n",
              "      <th>U4</th>\n",
              "      <td>4.1</td>\n",
              "      <td>3.0</td>\n",
              "      <td>0.0</td>\n",
              "      <td>4.9</td>\n",
              "      <td>0.0</td>\n",
              "      <td>0.0</td>\n",
              "      <td>3.0</td>\n",
              "    </tr>\n",
              "    <tr>\n",
              "      <th>U5</th>\n",
              "      <td>1.0</td>\n",
              "      <td>4.0</td>\n",
              "      <td>0.0</td>\n",
              "      <td>2.5</td>\n",
              "      <td>3.8</td>\n",
              "      <td>1.0</td>\n",
              "      <td>5.0</td>\n",
              "    </tr>\n",
              "  </tbody>\n",
              "</table>\n",
              "</div>\n",
              "      <button class=\"colab-df-convert\" onclick=\"convertToInteractive('df-1725be2b-cf53-4c9a-aadd-80b1bcdd5fed')\"\n",
              "              title=\"Convert this dataframe to an interactive table.\"\n",
              "              style=\"display:none;\">\n",
              "        \n",
              "  <svg xmlns=\"http://www.w3.org/2000/svg\" height=\"24px\"viewBox=\"0 0 24 24\"\n",
              "       width=\"24px\">\n",
              "    <path d=\"M0 0h24v24H0V0z\" fill=\"none\"/>\n",
              "    <path d=\"M18.56 5.44l.94 2.06.94-2.06 2.06-.94-2.06-.94-.94-2.06-.94 2.06-2.06.94zm-11 1L8.5 8.5l.94-2.06 2.06-.94-2.06-.94L8.5 2.5l-.94 2.06-2.06.94zm10 10l.94 2.06.94-2.06 2.06-.94-2.06-.94-.94-2.06-.94 2.06-2.06.94z\"/><path d=\"M17.41 7.96l-1.37-1.37c-.4-.4-.92-.59-1.43-.59-.52 0-1.04.2-1.43.59L10.3 9.45l-7.72 7.72c-.78.78-.78 2.05 0 2.83L4 21.41c.39.39.9.59 1.41.59.51 0 1.02-.2 1.41-.59l7.78-7.78 2.81-2.81c.8-.78.8-2.07 0-2.86zM5.41 20L4 18.59l7.72-7.72 1.47 1.35L5.41 20z\"/>\n",
              "  </svg>\n",
              "      </button>\n",
              "      \n",
              "  <style>\n",
              "    .colab-df-container {\n",
              "      display:flex;\n",
              "      flex-wrap:wrap;\n",
              "      gap: 12px;\n",
              "    }\n",
              "\n",
              "    .colab-df-convert {\n",
              "      background-color: #E8F0FE;\n",
              "      border: none;\n",
              "      border-radius: 50%;\n",
              "      cursor: pointer;\n",
              "      display: none;\n",
              "      fill: #1967D2;\n",
              "      height: 32px;\n",
              "      padding: 0 0 0 0;\n",
              "      width: 32px;\n",
              "    }\n",
              "\n",
              "    .colab-df-convert:hover {\n",
              "      background-color: #E2EBFA;\n",
              "      box-shadow: 0px 1px 2px rgba(60, 64, 67, 0.3), 0px 1px 3px 1px rgba(60, 64, 67, 0.15);\n",
              "      fill: #174EA6;\n",
              "    }\n",
              "\n",
              "    [theme=dark] .colab-df-convert {\n",
              "      background-color: #3B4455;\n",
              "      fill: #D2E3FC;\n",
              "    }\n",
              "\n",
              "    [theme=dark] .colab-df-convert:hover {\n",
              "      background-color: #434B5C;\n",
              "      box-shadow: 0px 1px 3px 1px rgba(0, 0, 0, 0.15);\n",
              "      filter: drop-shadow(0px 1px 2px rgba(0, 0, 0, 0.3));\n",
              "      fill: #FFFFFF;\n",
              "    }\n",
              "  </style>\n",
              "\n",
              "      <script>\n",
              "        const buttonEl =\n",
              "          document.querySelector('#df-1725be2b-cf53-4c9a-aadd-80b1bcdd5fed button.colab-df-convert');\n",
              "        buttonEl.style.display =\n",
              "          google.colab.kernel.accessAllowed ? 'block' : 'none';\n",
              "\n",
              "        async function convertToInteractive(key) {\n",
              "          const element = document.querySelector('#df-1725be2b-cf53-4c9a-aadd-80b1bcdd5fed');\n",
              "          const dataTable =\n",
              "            await google.colab.kernel.invokeFunction('convertToInteractive',\n",
              "                                                     [key], {});\n",
              "          if (!dataTable) return;\n",
              "\n",
              "          const docLinkHtml = 'Like what you see? Visit the ' +\n",
              "            '<a target=\"_blank\" href=https://colab.research.google.com/notebooks/data_table.ipynb>data table notebook</a>'\n",
              "            + ' to learn more about interactive tables.';\n",
              "          element.innerHTML = '';\n",
              "          dataTable['output_type'] = 'display_data';\n",
              "          await google.colab.output.renderOutput(dataTable, element);\n",
              "          const docLink = document.createElement('div');\n",
              "          docLink.innerHTML = docLinkHtml;\n",
              "          element.appendChild(docLink);\n",
              "        }\n",
              "      </script>\n",
              "    </div>\n",
              "  </div>\n",
              "  "
            ]
          },
          "metadata": {},
          "execution_count": 95
        }
      ]
    },
    {
      "cell_type": "markdown",
      "source": [
        "Cálculo da Similaridade de Cossenos entre o Usuário 1 e os demais."
      ],
      "metadata": {
        "id": "Xb4FHHXDzWpP"
      }
    },
    {
      "cell_type": "code",
      "source": [
        "u1 = ratings.loc['U1'].values\n",
        "u2 = ratings.loc['U2'].values\n",
        "u3 = ratings.loc['U3'].values\n",
        "u4 = ratings.loc['U4'].values\n",
        "u5 = ratings.loc['U5'].values\n",
        "\n",
        "# Similaridade entre cossenos dos usuários U1 e U2\n",
        "cos_sim_U12 = cosine_similarity(u1, u2)\n",
        "print(f\"A similaridade de cossenos entre U1 e U2 é {cos_sim_U12:.2f}.\") \n",
        "\n",
        "# Similaridade entre cossenos dos usuários U1 e U3\n",
        "cos_sim_U13 = cosine_similarity(u1, u3)\n",
        "print(f\"A similaridade de cossenos entre U1 e U3 é {cos_sim_U13:.2f}.\") \n",
        "\n",
        "# Similaridade entre cossenos dos usuários U1 e U4\n",
        "cos_sim_U14 = cosine_similarity(u1, u4)\n",
        "print(f\"A similaridade de cossenos entre U1 e U4 é {cos_sim_U14:.2f}.\") \n",
        "\n",
        "# Similaridade entre cossenos dos usuários U1 e U5\n",
        "cos_sim_U15 = cosine_similarity(u1, u5)\n",
        "print(f\"A similaridade de cossenos entre U1 e U5 é {cos_sim_U15:.2f}.\") "
      ],
      "metadata": {
        "colab": {
          "base_uri": "https://localhost:8080/"
        },
        "id": "3OQb7Rvdyagl",
        "outputId": "a0d7e8d0-5f16-4ffe-fe2a-edf33b0f2671"
      },
      "execution_count": null,
      "outputs": [
        {
          "output_type": "stream",
          "name": "stdout",
          "text": [
            "A similaridade de cossenos entre U1 e U2 é 0.41.\n",
            "A similaridade de cossenos entre U1 e U3 é 0.29.\n",
            "A similaridade de cossenos entre U1 e U4 é 0.82.\n",
            "A similaridade de cossenos entre U1 e U5 é 0.39.\n"
          ]
        }
      ]
    },
    {
      "cell_type": "markdown",
      "source": [
        "Definição das funções para cálculo da similaridade por cossenos centralizada."
      ],
      "metadata": {
        "id": "VzKE9xn_zvlu"
      }
    },
    {
      "cell_type": "code",
      "metadata": {
        "id": "XYiJhb1kwFUc"
      },
      "source": [
        "def array_centering(v: np.array):\n",
        "  \"\"\"Subtraindo dos elementos não nulos pela média.\"\"\"\n",
        "  # cópia para evitar sobrescrita\n",
        "  v = v.copy()\n",
        "\n",
        "  # idexação para extrair elementos não nulos\n",
        "  non_zeros = v > 0\n",
        "\n",
        "  # substituição pela média\n",
        "  v[non_zeros] = v[non_zeros] - np.mean(v[non_zeros]) + 1e-6\n",
        "\n",
        "  return v\n",
        "\n",
        "def centered_cosine_similarity(x: np.array, y: np.array):\n",
        "  \"\"\"Calcula a similaridade de cossenos centralizada entre os arrays x e y.\"\"\"\n",
        "\n",
        "  # subtraindo a média\n",
        "  x = array_centering(x)\n",
        "  y = array_centering(y)\n",
        "  \n",
        "  # similaridade por cossenos\n",
        "  centered_cosine_sim = cosine_similarity(x, y)\n",
        "\n",
        "  return centered_cosine_sim "
      ],
      "execution_count": null,
      "outputs": []
    },
    {
      "cell_type": "markdown",
      "source": [
        "Cálculo da Similaridade de Cossenos Centralizada entre o Usuários 1 e os demais."
      ],
      "metadata": {
        "id": "vUoDk_d-z9uY"
      }
    },
    {
      "cell_type": "code",
      "metadata": {
        "colab": {
          "base_uri": "https://localhost:8080/"
        },
        "id": "NPqhL5r6-vTy",
        "outputId": "298c829a-b137-4a82-e21d-7a134fdf7e28"
      },
      "source": [
        "# Similaridade de cossenos centralizada dos usuários U1 e U2\n",
        "centered_cos_sim_U12 = centered_cosine_similarity(u1, u2)\n",
        "print(f\"A similaridade de cossenos centralizada entre U1 e U2 é {centered_cos_sim_U12:.2f}.\") \n",
        "\n",
        "# Similaridade de cossenos centralizada dos usuários U1 e U3\n",
        "centered_cos_sim_U13 = centered_cosine_similarity(u1, u3)\n",
        "print(f\"A similaridade de cossenos centralizada entre U1 e U3 é {centered_cos_sim_U13:.2f}.\")\n",
        "\n",
        "# Similaridade de cossenos centralizada dos usuários U1 e U4\n",
        "centered_cos_sim_U14 = centered_cosine_similarity(u1, u4)\n",
        "print(f\"A similaridade de cossenos centralizada entre U1 e U4 é {centered_cos_sim_U14:.2f}.\")\n",
        "\n",
        "# Similaridade de cossenos centralizada dos usuários U1 e U5\n",
        "centered_cos_sim_U15 = centered_cosine_similarity(u1, u5)\n",
        "print(f\"A similaridade de cossenos centralizada entre U1 e U5 é {centered_cos_sim_U15:.2f}.\") "
      ],
      "execution_count": null,
      "outputs": [
        {
          "output_type": "stream",
          "name": "stdout",
          "text": [
            "A similaridade de cossenos centralizada entre U1 e U2 é 0.20.\n",
            "A similaridade de cossenos centralizada entre U1 e U3 é -0.89.\n",
            "A similaridade de cossenos centralizada entre U1 e U4 é 0.44.\n",
            "A similaridade de cossenos centralizada entre U1 e U5 é -0.39.\n"
          ]
        }
      ]
    },
    {
      "cell_type": "markdown",
      "source": [
        "Considerando uma filtragem colaborativa User-User, com agregação \n",
        "pela média simples e número de vizinhos igual a 2, qual a predição \n",
        "para a avaliação do usuário U1 ao item I2?"
      ],
      "metadata": {
        "id": "_y-BP6_b2TRd"
      }
    },
    {
      "cell_type": "code",
      "source": [
        "# índices que possuem avaliação\n",
        "i, j = np.where(ratings > 0)"
      ],
      "metadata": {
        "id": "mlIkQbfF2Y6_"
      },
      "execution_count": null,
      "outputs": []
    },
    {
      "cell_type": "code",
      "source": [
        "# seperando o conjunto de test: p% dos n itens com avaliações\n",
        "n = len(i)\n",
        "p = .1      # Separando 10% dos dados que temos para TESTE\n",
        "np.random.seed(25)\n",
        "idx_test = np.random.choice(n, size = int(p*n))"
      ],
      "metadata": {
        "id": "IisnrMDT2cjc"
      },
      "execution_count": null,
      "outputs": []
    },
    {
      "cell_type": "code",
      "source": [
        "# mascarando os dados\n",
        "ratings_train = ratings.copy()\n",
        "ratings_train.iloc[i[idx_test], j[idx_test]] = 0."
      ],
      "metadata": {
        "id": "tTiaViDK2j24"
      },
      "execution_count": null,
      "outputs": []
    },
    {
      "cell_type": "code",
      "source": [
        "# predição\n",
        "y_pred = []\n",
        "for k in range(len(idx_test)):\n",
        "  y_pred.append(estimate_rating(ratings_train,\n",
        "                user_index=j[idx_test][k],\n",
        "                item_index=i[idx_test][k],\n",
        "                aggregation='mean'))\n",
        "y_pred = np.array(y_pred)"
      ],
      "metadata": {
        "colab": {
          "base_uri": "https://localhost:8080/"
        },
        "id": "xqaP5-XF2kXG",
        "outputId": "50f06101-937a-48b9-e08f-c23fc0e1f0e5"
      },
      "execution_count": null,
      "outputs": [
        {
          "output_type": "stream",
          "name": "stdout",
          "text": [
            "Predição para user_index=1, item_index=1,k=2, aggregation=mean é: 3.50\n"
          ]
        }
      ]
    },
    {
      "cell_type": "markdown",
      "metadata": {
        "id": "jEyakPJyJg8g"
      },
      "source": [
        "### Aula 4.4 - Filtragem colaborativa Item-Item"
      ]
    },
    {
      "cell_type": "markdown",
      "source": [
        "Será criada nova matriz de avaliações onde as colunas representam os usuários e os índices serão os itens.\n",
        "\n",
        "Será feita abordagem item-item.\n",
        "\n",
        "OBS.: Valores nulos são avaliações que não temos registros e não avaliações negativas."
      ],
      "metadata": {
        "id": "tMZauA5aag39"
      }
    },
    {
      "cell_type": "code",
      "metadata": {
        "id": "1hRCLzMRJutW"
      },
      "source": [
        "# matriz de avaliações\n",
        "ratings = np.array([[1, 0, 3, 0, 0, 5, 0, 0, 5, 0, 4, 0],\n",
        "                    [0, 0, 5, 4, 0, 0, 4, 0, 0, 2, 1, 3],\n",
        "                    [2, 4, 0, 1, 2, 0, 3, 0, 4, 3, 5, 0],\n",
        "                    [0, 2, 4, 0, 5, 0, 0, 4, 0, 0, 2, 0],\n",
        "                    [0, 0, 4, 3, 4, 2, 0, 0, 0, 0, 2, 5],\n",
        "                    [1, 0, 3, 0, 3, 0, 0, 2, 0, 0, 4, 0]])\n",
        "columns = ['U'+str(i) for i in range(ratings.shape[1])]\n",
        "index = ['M'+str(i) for i in range(ratings.shape[0])]"
      ],
      "execution_count": null,
      "outputs": []
    },
    {
      "cell_type": "code",
      "metadata": {
        "id": "phNtNEm7K9pW"
      },
      "source": [
        "# gerando o dataframe\n",
        "ratings = pd.DataFrame(data=ratings, columns=columns, index=index, dtype=float)"
      ],
      "execution_count": null,
      "outputs": []
    },
    {
      "cell_type": "code",
      "metadata": {
        "colab": {
          "base_uri": "https://localhost:8080/",
          "height": 238
        },
        "id": "8lVuDcUpLltN",
        "outputId": "6e9549b7-99e7-443e-d060-76cc4b165563"
      },
      "source": [
        "ratings"
      ],
      "execution_count": null,
      "outputs": [
        {
          "output_type": "execute_result",
          "data": {
            "text/plain": [
              "     U0   U1   U2   U3   U4   U5   U6   U7   U8   U9  U10  U11\n",
              "M0  1.0  0.0  3.0  0.0  0.0  5.0  0.0  0.0  5.0  0.0  4.0  0.0\n",
              "M1  0.0  0.0  5.0  4.0  0.0  0.0  4.0  0.0  0.0  2.0  1.0  3.0\n",
              "M2  2.0  4.0  0.0  1.0  2.0  0.0  3.0  0.0  4.0  3.0  5.0  0.0\n",
              "M3  0.0  2.0  4.0  0.0  5.0  0.0  0.0  4.0  0.0  0.0  2.0  0.0\n",
              "M4  0.0  0.0  4.0  3.0  4.0  2.0  0.0  0.0  0.0  0.0  2.0  5.0\n",
              "M5  1.0  0.0  3.0  0.0  3.0  0.0  0.0  2.0  0.0  0.0  4.0  0.0"
            ],
            "text/html": [
              "\n",
              "  <div id=\"df-853f224a-1d8e-4bfc-9810-a94da9058830\">\n",
              "    <div class=\"colab-df-container\">\n",
              "      <div>\n",
              "<style scoped>\n",
              "    .dataframe tbody tr th:only-of-type {\n",
              "        vertical-align: middle;\n",
              "    }\n",
              "\n",
              "    .dataframe tbody tr th {\n",
              "        vertical-align: top;\n",
              "    }\n",
              "\n",
              "    .dataframe thead th {\n",
              "        text-align: right;\n",
              "    }\n",
              "</style>\n",
              "<table border=\"1\" class=\"dataframe\">\n",
              "  <thead>\n",
              "    <tr style=\"text-align: right;\">\n",
              "      <th></th>\n",
              "      <th>U0</th>\n",
              "      <th>U1</th>\n",
              "      <th>U2</th>\n",
              "      <th>U3</th>\n",
              "      <th>U4</th>\n",
              "      <th>U5</th>\n",
              "      <th>U6</th>\n",
              "      <th>U7</th>\n",
              "      <th>U8</th>\n",
              "      <th>U9</th>\n",
              "      <th>U10</th>\n",
              "      <th>U11</th>\n",
              "    </tr>\n",
              "  </thead>\n",
              "  <tbody>\n",
              "    <tr>\n",
              "      <th>M0</th>\n",
              "      <td>1.0</td>\n",
              "      <td>0.0</td>\n",
              "      <td>3.0</td>\n",
              "      <td>0.0</td>\n",
              "      <td>0.0</td>\n",
              "      <td>5.0</td>\n",
              "      <td>0.0</td>\n",
              "      <td>0.0</td>\n",
              "      <td>5.0</td>\n",
              "      <td>0.0</td>\n",
              "      <td>4.0</td>\n",
              "      <td>0.0</td>\n",
              "    </tr>\n",
              "    <tr>\n",
              "      <th>M1</th>\n",
              "      <td>0.0</td>\n",
              "      <td>0.0</td>\n",
              "      <td>5.0</td>\n",
              "      <td>4.0</td>\n",
              "      <td>0.0</td>\n",
              "      <td>0.0</td>\n",
              "      <td>4.0</td>\n",
              "      <td>0.0</td>\n",
              "      <td>0.0</td>\n",
              "      <td>2.0</td>\n",
              "      <td>1.0</td>\n",
              "      <td>3.0</td>\n",
              "    </tr>\n",
              "    <tr>\n",
              "      <th>M2</th>\n",
              "      <td>2.0</td>\n",
              "      <td>4.0</td>\n",
              "      <td>0.0</td>\n",
              "      <td>1.0</td>\n",
              "      <td>2.0</td>\n",
              "      <td>0.0</td>\n",
              "      <td>3.0</td>\n",
              "      <td>0.0</td>\n",
              "      <td>4.0</td>\n",
              "      <td>3.0</td>\n",
              "      <td>5.0</td>\n",
              "      <td>0.0</td>\n",
              "    </tr>\n",
              "    <tr>\n",
              "      <th>M3</th>\n",
              "      <td>0.0</td>\n",
              "      <td>2.0</td>\n",
              "      <td>4.0</td>\n",
              "      <td>0.0</td>\n",
              "      <td>5.0</td>\n",
              "      <td>0.0</td>\n",
              "      <td>0.0</td>\n",
              "      <td>4.0</td>\n",
              "      <td>0.0</td>\n",
              "      <td>0.0</td>\n",
              "      <td>2.0</td>\n",
              "      <td>0.0</td>\n",
              "    </tr>\n",
              "    <tr>\n",
              "      <th>M4</th>\n",
              "      <td>0.0</td>\n",
              "      <td>0.0</td>\n",
              "      <td>4.0</td>\n",
              "      <td>3.0</td>\n",
              "      <td>4.0</td>\n",
              "      <td>2.0</td>\n",
              "      <td>0.0</td>\n",
              "      <td>0.0</td>\n",
              "      <td>0.0</td>\n",
              "      <td>0.0</td>\n",
              "      <td>2.0</td>\n",
              "      <td>5.0</td>\n",
              "    </tr>\n",
              "    <tr>\n",
              "      <th>M5</th>\n",
              "      <td>1.0</td>\n",
              "      <td>0.0</td>\n",
              "      <td>3.0</td>\n",
              "      <td>0.0</td>\n",
              "      <td>3.0</td>\n",
              "      <td>0.0</td>\n",
              "      <td>0.0</td>\n",
              "      <td>2.0</td>\n",
              "      <td>0.0</td>\n",
              "      <td>0.0</td>\n",
              "      <td>4.0</td>\n",
              "      <td>0.0</td>\n",
              "    </tr>\n",
              "  </tbody>\n",
              "</table>\n",
              "</div>\n",
              "      <button class=\"colab-df-convert\" onclick=\"convertToInteractive('df-853f224a-1d8e-4bfc-9810-a94da9058830')\"\n",
              "              title=\"Convert this dataframe to an interactive table.\"\n",
              "              style=\"display:none;\">\n",
              "        \n",
              "  <svg xmlns=\"http://www.w3.org/2000/svg\" height=\"24px\"viewBox=\"0 0 24 24\"\n",
              "       width=\"24px\">\n",
              "    <path d=\"M0 0h24v24H0V0z\" fill=\"none\"/>\n",
              "    <path d=\"M18.56 5.44l.94 2.06.94-2.06 2.06-.94-2.06-.94-.94-2.06-.94 2.06-2.06.94zm-11 1L8.5 8.5l.94-2.06 2.06-.94-2.06-.94L8.5 2.5l-.94 2.06-2.06.94zm10 10l.94 2.06.94-2.06 2.06-.94-2.06-.94-.94-2.06-.94 2.06-2.06.94z\"/><path d=\"M17.41 7.96l-1.37-1.37c-.4-.4-.92-.59-1.43-.59-.52 0-1.04.2-1.43.59L10.3 9.45l-7.72 7.72c-.78.78-.78 2.05 0 2.83L4 21.41c.39.39.9.59 1.41.59.51 0 1.02-.2 1.41-.59l7.78-7.78 2.81-2.81c.8-.78.8-2.07 0-2.86zM5.41 20L4 18.59l7.72-7.72 1.47 1.35L5.41 20z\"/>\n",
              "  </svg>\n",
              "      </button>\n",
              "      \n",
              "  <style>\n",
              "    .colab-df-container {\n",
              "      display:flex;\n",
              "      flex-wrap:wrap;\n",
              "      gap: 12px;\n",
              "    }\n",
              "\n",
              "    .colab-df-convert {\n",
              "      background-color: #E8F0FE;\n",
              "      border: none;\n",
              "      border-radius: 50%;\n",
              "      cursor: pointer;\n",
              "      display: none;\n",
              "      fill: #1967D2;\n",
              "      height: 32px;\n",
              "      padding: 0 0 0 0;\n",
              "      width: 32px;\n",
              "    }\n",
              "\n",
              "    .colab-df-convert:hover {\n",
              "      background-color: #E2EBFA;\n",
              "      box-shadow: 0px 1px 2px rgba(60, 64, 67, 0.3), 0px 1px 3px 1px rgba(60, 64, 67, 0.15);\n",
              "      fill: #174EA6;\n",
              "    }\n",
              "\n",
              "    [theme=dark] .colab-df-convert {\n",
              "      background-color: #3B4455;\n",
              "      fill: #D2E3FC;\n",
              "    }\n",
              "\n",
              "    [theme=dark] .colab-df-convert:hover {\n",
              "      background-color: #434B5C;\n",
              "      box-shadow: 0px 1px 3px 1px rgba(0, 0, 0, 0.15);\n",
              "      filter: drop-shadow(0px 1px 2px rgba(0, 0, 0, 0.3));\n",
              "      fill: #FFFFFF;\n",
              "    }\n",
              "  </style>\n",
              "\n",
              "      <script>\n",
              "        const buttonEl =\n",
              "          document.querySelector('#df-853f224a-1d8e-4bfc-9810-a94da9058830 button.colab-df-convert');\n",
              "        buttonEl.style.display =\n",
              "          google.colab.kernel.accessAllowed ? 'block' : 'none';\n",
              "\n",
              "        async function convertToInteractive(key) {\n",
              "          const element = document.querySelector('#df-853f224a-1d8e-4bfc-9810-a94da9058830');\n",
              "          const dataTable =\n",
              "            await google.colab.kernel.invokeFunction('convertToInteractive',\n",
              "                                                     [key], {});\n",
              "          if (!dataTable) return;\n",
              "\n",
              "          const docLinkHtml = 'Like what you see? Visit the ' +\n",
              "            '<a target=\"_blank\" href=https://colab.research.google.com/notebooks/data_table.ipynb>data table notebook</a>'\n",
              "            + ' to learn more about interactive tables.';\n",
              "          element.innerHTML = '';\n",
              "          dataTable['output_type'] = 'display_data';\n",
              "          await google.colab.output.renderOutput(dataTable, element);\n",
              "          const docLink = document.createElement('div');\n",
              "          docLink.innerHTML = docLinkHtml;\n",
              "          element.appendChild(docLink);\n",
              "        }\n",
              "      </script>\n",
              "    </div>\n",
              "  </div>\n",
              "  "
            ]
          },
          "metadata": {},
          "execution_count": 73
        }
      ]
    },
    {
      "cell_type": "code",
      "metadata": {
        "id": "vrz0Uv7VQlSx"
      },
      "source": [
        "def estimate_rating(ratings,\n",
        "                    user_index=0,\n",
        "                    item_index=0, \n",
        "                    k=2,\n",
        "                    similarity=centered_cosine_similarity,\n",
        "                    aggregation='mean'):\n",
        "  \"\"\"\n",
        "  Estima a avaliação de um par (usuário, item) pela filtragem colaborativa\n",
        "  Item-Item com a vizinhança de tamanho k.\n",
        "  \"\"\"\n",
        " \n",
        "  # vetor de avaliações do item\n",
        "  item_rating = ratings.iloc[item_index].values\n",
        " \n",
        "  # calcula a similaridade entre item_index e os demais índices.\n",
        "  items_indexes = np.array([i for i in range(ratings.shape[0]) if i != item_index])\n",
        "  similarities = np.array([similarity(x=item_rating, y=ratings.iloc[i].values) for i in items_indexes])\n",
        "  \n",
        "  # acha os k itens mais semelhantes e que possuem avaliação\n",
        "  items_rated = np.where(ratings.iloc[items_indexes, user_index] > 0)[0]\n",
        "  sorted_similarities = np.argsort(-1*similarities[items_rated]) # array que ordena descrescente a similaridade\n",
        "  k_closest = items_indexes[items_rated[sorted_similarities]][:k] # pegando apenas os top k itens\n",
        "\n",
        "  # agregração\n",
        "  ratings_k_closest = ratings.iloc[k_closest, user_index]\n",
        "  if aggregation=='mean':\n",
        "    prediction = np.mean(ratings_k_closest)\n",
        "  elif aggregation=='wmean':\n",
        "    similarities_k_closest = similarities[items_rated][sorted_similarities][:k]\n",
        "    prediction = np.dot(np.abs(similarities_k_closest),\n",
        "                        ratings_k_closest)/np.sum(np.abs(similarities_k_closest))\n",
        "  else:\n",
        "    raise ValueError(f\"{aggregation} is an invalid value for aggregation!\")\n",
        "  \n",
        "  # trata singularidades\n",
        "  prediction = prediction if not np.isnan(prediction) else 3.\n",
        "  \n",
        "  # verbose\n",
        "  print(f\"Predição para user_index={user_index}, item_index={item_index},\" \\\n",
        "        f\"k={k}, aggregation={aggregation} é: {prediction:.2f}\")\n",
        "  return prediction"
      ],
      "execution_count": null,
      "outputs": []
    },
    {
      "cell_type": "code",
      "metadata": {
        "colab": {
          "base_uri": "https://localhost:8080/"
        },
        "id": "4U84y2fhg5RG",
        "outputId": "6292169d-0228-4ad6-ed4b-c14c42511cf6"
      },
      "source": [
        "# previsão para o usuário = 4, item = 0, k = 2, aggregation = wmean\n",
        "prediction = estimate_rating(ratings,\n",
        "                             user_index=4,\n",
        "                             item_index=0,\n",
        "                             aggregation='wmean')"
      ],
      "execution_count": null,
      "outputs": [
        {
          "output_type": "stream",
          "name": "stdout",
          "text": [
            "Predição para user_index=4, item_index=0,k=2, aggregation=wmean é: 2.59\n"
          ]
        }
      ]
    },
    {
      "cell_type": "code",
      "metadata": {
        "colab": {
          "base_uri": "https://localhost:8080/"
        },
        "id": "c4w-sqUVhB2g",
        "outputId": "1f79fcce-2db8-4666-8c12-4bec6ec941ef"
      },
      "source": [
        "# previsão para o usuário = 10, item = 0, k = 2, aggregation = wmean\n",
        "prediction = estimate_rating(ratings,\n",
        "                             user_index=10,\n",
        "                             item_index=0,\n",
        "                             aggregation='wmean')"
      ],
      "execution_count": null,
      "outputs": [
        {
          "output_type": "stream",
          "name": "stdout",
          "text": [
            "Predição para user_index=10, item_index=0,k=2, aggregation=wmean é: 4.41\n"
          ]
        }
      ]
    },
    {
      "cell_type": "markdown",
      "metadata": {
        "id": "EwW1TRTNRjez"
      },
      "source": [
        "## Capítulo 7. Avaliação de sistemas de recomendação"
      ]
    },
    {
      "cell_type": "markdown",
      "metadata": {
        "id": "iITyvGGAYa0T"
      },
      "source": [
        "### Aula 7.2 - Validação de sistemas de recomendações"
      ]
    },
    {
      "cell_type": "code",
      "metadata": {
        "id": "1jpodquxVp1L",
        "colab": {
          "base_uri": "https://localhost:8080/",
          "height": 238
        },
        "outputId": "424b7971-800a-4aad-f469-c7bcb869ef73"
      },
      "source": [
        "# matriz de avaliações\n",
        "ratings"
      ],
      "execution_count": null,
      "outputs": [
        {
          "output_type": "execute_result",
          "data": {
            "text/plain": [
              "     U0   U1   U2   U3   U4   U5   U6   U7   U8   U9  U10  U11\n",
              "M0  1.0  0.0  3.0  0.0  0.0  5.0  0.0  0.0  5.0  0.0  4.0  0.0\n",
              "M1  0.0  0.0  5.0  4.0  0.0  0.0  4.0  0.0  0.0  2.0  1.0  3.0\n",
              "M2  2.0  4.0  0.0  1.0  2.0  0.0  3.0  0.0  4.0  3.0  5.0  0.0\n",
              "M3  0.0  2.0  4.0  0.0  5.0  0.0  0.0  4.0  0.0  0.0  2.0  0.0\n",
              "M4  0.0  0.0  4.0  3.0  4.0  2.0  0.0  0.0  0.0  0.0  2.0  5.0\n",
              "M5  1.0  0.0  3.0  0.0  3.0  0.0  0.0  2.0  0.0  0.0  4.0  0.0"
            ],
            "text/html": [
              "\n",
              "  <div id=\"df-258d6de7-25e6-40c0-89d1-593ca4e1d870\">\n",
              "    <div class=\"colab-df-container\">\n",
              "      <div>\n",
              "<style scoped>\n",
              "    .dataframe tbody tr th:only-of-type {\n",
              "        vertical-align: middle;\n",
              "    }\n",
              "\n",
              "    .dataframe tbody tr th {\n",
              "        vertical-align: top;\n",
              "    }\n",
              "\n",
              "    .dataframe thead th {\n",
              "        text-align: right;\n",
              "    }\n",
              "</style>\n",
              "<table border=\"1\" class=\"dataframe\">\n",
              "  <thead>\n",
              "    <tr style=\"text-align: right;\">\n",
              "      <th></th>\n",
              "      <th>U0</th>\n",
              "      <th>U1</th>\n",
              "      <th>U2</th>\n",
              "      <th>U3</th>\n",
              "      <th>U4</th>\n",
              "      <th>U5</th>\n",
              "      <th>U6</th>\n",
              "      <th>U7</th>\n",
              "      <th>U8</th>\n",
              "      <th>U9</th>\n",
              "      <th>U10</th>\n",
              "      <th>U11</th>\n",
              "    </tr>\n",
              "  </thead>\n",
              "  <tbody>\n",
              "    <tr>\n",
              "      <th>M0</th>\n",
              "      <td>1.0</td>\n",
              "      <td>0.0</td>\n",
              "      <td>3.0</td>\n",
              "      <td>0.0</td>\n",
              "      <td>0.0</td>\n",
              "      <td>5.0</td>\n",
              "      <td>0.0</td>\n",
              "      <td>0.0</td>\n",
              "      <td>5.0</td>\n",
              "      <td>0.0</td>\n",
              "      <td>4.0</td>\n",
              "      <td>0.0</td>\n",
              "    </tr>\n",
              "    <tr>\n",
              "      <th>M1</th>\n",
              "      <td>0.0</td>\n",
              "      <td>0.0</td>\n",
              "      <td>5.0</td>\n",
              "      <td>4.0</td>\n",
              "      <td>0.0</td>\n",
              "      <td>0.0</td>\n",
              "      <td>4.0</td>\n",
              "      <td>0.0</td>\n",
              "      <td>0.0</td>\n",
              "      <td>2.0</td>\n",
              "      <td>1.0</td>\n",
              "      <td>3.0</td>\n",
              "    </tr>\n",
              "    <tr>\n",
              "      <th>M2</th>\n",
              "      <td>2.0</td>\n",
              "      <td>4.0</td>\n",
              "      <td>0.0</td>\n",
              "      <td>1.0</td>\n",
              "      <td>2.0</td>\n",
              "      <td>0.0</td>\n",
              "      <td>3.0</td>\n",
              "      <td>0.0</td>\n",
              "      <td>4.0</td>\n",
              "      <td>3.0</td>\n",
              "      <td>5.0</td>\n",
              "      <td>0.0</td>\n",
              "    </tr>\n",
              "    <tr>\n",
              "      <th>M3</th>\n",
              "      <td>0.0</td>\n",
              "      <td>2.0</td>\n",
              "      <td>4.0</td>\n",
              "      <td>0.0</td>\n",
              "      <td>5.0</td>\n",
              "      <td>0.0</td>\n",
              "      <td>0.0</td>\n",
              "      <td>4.0</td>\n",
              "      <td>0.0</td>\n",
              "      <td>0.0</td>\n",
              "      <td>2.0</td>\n",
              "      <td>0.0</td>\n",
              "    </tr>\n",
              "    <tr>\n",
              "      <th>M4</th>\n",
              "      <td>0.0</td>\n",
              "      <td>0.0</td>\n",
              "      <td>4.0</td>\n",
              "      <td>3.0</td>\n",
              "      <td>4.0</td>\n",
              "      <td>2.0</td>\n",
              "      <td>0.0</td>\n",
              "      <td>0.0</td>\n",
              "      <td>0.0</td>\n",
              "      <td>0.0</td>\n",
              "      <td>2.0</td>\n",
              "      <td>5.0</td>\n",
              "    </tr>\n",
              "    <tr>\n",
              "      <th>M5</th>\n",
              "      <td>1.0</td>\n",
              "      <td>0.0</td>\n",
              "      <td>3.0</td>\n",
              "      <td>0.0</td>\n",
              "      <td>3.0</td>\n",
              "      <td>0.0</td>\n",
              "      <td>0.0</td>\n",
              "      <td>2.0</td>\n",
              "      <td>0.0</td>\n",
              "      <td>0.0</td>\n",
              "      <td>4.0</td>\n",
              "      <td>0.0</td>\n",
              "    </tr>\n",
              "  </tbody>\n",
              "</table>\n",
              "</div>\n",
              "      <button class=\"colab-df-convert\" onclick=\"convertToInteractive('df-258d6de7-25e6-40c0-89d1-593ca4e1d870')\"\n",
              "              title=\"Convert this dataframe to an interactive table.\"\n",
              "              style=\"display:none;\">\n",
              "        \n",
              "  <svg xmlns=\"http://www.w3.org/2000/svg\" height=\"24px\"viewBox=\"0 0 24 24\"\n",
              "       width=\"24px\">\n",
              "    <path d=\"M0 0h24v24H0V0z\" fill=\"none\"/>\n",
              "    <path d=\"M18.56 5.44l.94 2.06.94-2.06 2.06-.94-2.06-.94-.94-2.06-.94 2.06-2.06.94zm-11 1L8.5 8.5l.94-2.06 2.06-.94-2.06-.94L8.5 2.5l-.94 2.06-2.06.94zm10 10l.94 2.06.94-2.06 2.06-.94-2.06-.94-.94-2.06-.94 2.06-2.06.94z\"/><path d=\"M17.41 7.96l-1.37-1.37c-.4-.4-.92-.59-1.43-.59-.52 0-1.04.2-1.43.59L10.3 9.45l-7.72 7.72c-.78.78-.78 2.05 0 2.83L4 21.41c.39.39.9.59 1.41.59.51 0 1.02-.2 1.41-.59l7.78-7.78 2.81-2.81c.8-.78.8-2.07 0-2.86zM5.41 20L4 18.59l7.72-7.72 1.47 1.35L5.41 20z\"/>\n",
              "  </svg>\n",
              "      </button>\n",
              "      \n",
              "  <style>\n",
              "    .colab-df-container {\n",
              "      display:flex;\n",
              "      flex-wrap:wrap;\n",
              "      gap: 12px;\n",
              "    }\n",
              "\n",
              "    .colab-df-convert {\n",
              "      background-color: #E8F0FE;\n",
              "      border: none;\n",
              "      border-radius: 50%;\n",
              "      cursor: pointer;\n",
              "      display: none;\n",
              "      fill: #1967D2;\n",
              "      height: 32px;\n",
              "      padding: 0 0 0 0;\n",
              "      width: 32px;\n",
              "    }\n",
              "\n",
              "    .colab-df-convert:hover {\n",
              "      background-color: #E2EBFA;\n",
              "      box-shadow: 0px 1px 2px rgba(60, 64, 67, 0.3), 0px 1px 3px 1px rgba(60, 64, 67, 0.15);\n",
              "      fill: #174EA6;\n",
              "    }\n",
              "\n",
              "    [theme=dark] .colab-df-convert {\n",
              "      background-color: #3B4455;\n",
              "      fill: #D2E3FC;\n",
              "    }\n",
              "\n",
              "    [theme=dark] .colab-df-convert:hover {\n",
              "      background-color: #434B5C;\n",
              "      box-shadow: 0px 1px 3px 1px rgba(0, 0, 0, 0.15);\n",
              "      filter: drop-shadow(0px 1px 2px rgba(0, 0, 0, 0.3));\n",
              "      fill: #FFFFFF;\n",
              "    }\n",
              "  </style>\n",
              "\n",
              "      <script>\n",
              "        const buttonEl =\n",
              "          document.querySelector('#df-258d6de7-25e6-40c0-89d1-593ca4e1d870 button.colab-df-convert');\n",
              "        buttonEl.style.display =\n",
              "          google.colab.kernel.accessAllowed ? 'block' : 'none';\n",
              "\n",
              "        async function convertToInteractive(key) {\n",
              "          const element = document.querySelector('#df-258d6de7-25e6-40c0-89d1-593ca4e1d870');\n",
              "          const dataTable =\n",
              "            await google.colab.kernel.invokeFunction('convertToInteractive',\n",
              "                                                     [key], {});\n",
              "          if (!dataTable) return;\n",
              "\n",
              "          const docLinkHtml = 'Like what you see? Visit the ' +\n",
              "            '<a target=\"_blank\" href=https://colab.research.google.com/notebooks/data_table.ipynb>data table notebook</a>'\n",
              "            + ' to learn more about interactive tables.';\n",
              "          element.innerHTML = '';\n",
              "          dataTable['output_type'] = 'display_data';\n",
              "          await google.colab.output.renderOutput(dataTable, element);\n",
              "          const docLink = document.createElement('div');\n",
              "          docLink.innerHTML = docLinkHtml;\n",
              "          element.appendChild(docLink);\n",
              "        }\n",
              "      </script>\n",
              "    </div>\n",
              "  </div>\n",
              "  "
            ]
          },
          "metadata": {},
          "execution_count": 77
        }
      ]
    },
    {
      "cell_type": "markdown",
      "source": [
        "Para fazer o modelo, separaremos as avaliações que temos em mãos em TREINO e TESTE."
      ],
      "metadata": {
        "id": "gWb5xgb11LGt"
      }
    },
    {
      "cell_type": "code",
      "metadata": {
        "id": "dbNlbmasSQmq"
      },
      "source": [
        "# índices que possuem avaliação\n",
        "i, j = np.where(ratings > 0)"
      ],
      "execution_count": null,
      "outputs": []
    },
    {
      "cell_type": "code",
      "metadata": {
        "id": "7B6bXwjjTdjB"
      },
      "source": [
        "np.random.choice?"
      ],
      "execution_count": null,
      "outputs": []
    },
    {
      "cell_type": "code",
      "metadata": {
        "id": "vhAqVU3oTTOO"
      },
      "source": [
        "# seperando o conjunto de test: p% dos n itens com avaliações\n",
        "n = len(i)\n",
        "p = .1      # Separando 10% dos dados que temos para TESTE\n",
        "np.random.seed(25)\n",
        "idx_test = np.random.choice(n, size = int(p*n))"
      ],
      "execution_count": null,
      "outputs": []
    },
    {
      "cell_type": "markdown",
      "source": [
        "Agora que pegamos 10% das avaliações realizadas e separamos para serem utilizadas no teste, vou verificar como ficou a matriz.\n",
        "\n",
        "Para isso, deixarei a matriz original com o nome 'ratings' e a matriz alterada como 'ratings_train'."
      ],
      "metadata": {
        "id": "NkhxpWyj1W8G"
      }
    },
    {
      "cell_type": "code",
      "metadata": {
        "id": "otRnrmorTWff"
      },
      "source": [
        "# mascarando os dados\n",
        "ratings_train = ratings.copy()\n",
        "ratings_train.iloc[i[idx_test], j[idx_test]] = 0."
      ],
      "execution_count": null,
      "outputs": []
    },
    {
      "cell_type": "code",
      "metadata": {
        "colab": {
          "base_uri": "https://localhost:8080/"
        },
        "id": "C8FMhWL3UMCk",
        "outputId": "53edfec1-8eeb-4f29-cd80-ebd3b8e1d560"
      },
      "source": [
        "i[idx_test]"
      ],
      "execution_count": null,
      "outputs": [
        {
          "output_type": "execute_result",
          "data": {
            "text/plain": [
              "array([0, 4, 2])"
            ]
          },
          "metadata": {},
          "execution_count": 82
        }
      ]
    },
    {
      "cell_type": "code",
      "metadata": {
        "colab": {
          "base_uri": "https://localhost:8080/"
        },
        "id": "s-lw4hYGUNbj",
        "outputId": "7e4f1255-8bf2-4279-deb1-89522ed9fe17"
      },
      "source": [
        "j[idx_test]"
      ],
      "execution_count": null,
      "outputs": [
        {
          "output_type": "execute_result",
          "data": {
            "text/plain": [
              "array([10,  4,  6])"
            ]
          },
          "metadata": {},
          "execution_count": 83
        }
      ]
    },
    {
      "cell_type": "code",
      "metadata": {
        "colab": {
          "base_uri": "https://localhost:8080/",
          "height": 238
        },
        "id": "ca6up3s-UE_2",
        "outputId": "4a30168d-cc89-4f67-cdda-177b1e9e2919"
      },
      "source": [
        "ratings"
      ],
      "execution_count": null,
      "outputs": [
        {
          "output_type": "execute_result",
          "data": {
            "text/plain": [
              "     U0   U1   U2   U3   U4   U5   U6   U7   U8   U9  U10  U11\n",
              "M0  1.0  0.0  3.0  0.0  0.0  5.0  0.0  0.0  5.0  0.0  4.0  0.0\n",
              "M1  0.0  0.0  5.0  4.0  0.0  0.0  4.0  0.0  0.0  2.0  1.0  3.0\n",
              "M2  2.0  4.0  0.0  1.0  2.0  0.0  3.0  0.0  4.0  3.0  5.0  0.0\n",
              "M3  0.0  2.0  4.0  0.0  5.0  0.0  0.0  4.0  0.0  0.0  2.0  0.0\n",
              "M4  0.0  0.0  4.0  3.0  4.0  2.0  0.0  0.0  0.0  0.0  2.0  5.0\n",
              "M5  1.0  0.0  3.0  0.0  3.0  0.0  0.0  2.0  0.0  0.0  4.0  0.0"
            ],
            "text/html": [
              "\n",
              "  <div id=\"df-69c639e8-0bc3-478d-a49a-8a7aa3b5aa22\">\n",
              "    <div class=\"colab-df-container\">\n",
              "      <div>\n",
              "<style scoped>\n",
              "    .dataframe tbody tr th:only-of-type {\n",
              "        vertical-align: middle;\n",
              "    }\n",
              "\n",
              "    .dataframe tbody tr th {\n",
              "        vertical-align: top;\n",
              "    }\n",
              "\n",
              "    .dataframe thead th {\n",
              "        text-align: right;\n",
              "    }\n",
              "</style>\n",
              "<table border=\"1\" class=\"dataframe\">\n",
              "  <thead>\n",
              "    <tr style=\"text-align: right;\">\n",
              "      <th></th>\n",
              "      <th>U0</th>\n",
              "      <th>U1</th>\n",
              "      <th>U2</th>\n",
              "      <th>U3</th>\n",
              "      <th>U4</th>\n",
              "      <th>U5</th>\n",
              "      <th>U6</th>\n",
              "      <th>U7</th>\n",
              "      <th>U8</th>\n",
              "      <th>U9</th>\n",
              "      <th>U10</th>\n",
              "      <th>U11</th>\n",
              "    </tr>\n",
              "  </thead>\n",
              "  <tbody>\n",
              "    <tr>\n",
              "      <th>M0</th>\n",
              "      <td>1.0</td>\n",
              "      <td>0.0</td>\n",
              "      <td>3.0</td>\n",
              "      <td>0.0</td>\n",
              "      <td>0.0</td>\n",
              "      <td>5.0</td>\n",
              "      <td>0.0</td>\n",
              "      <td>0.0</td>\n",
              "      <td>5.0</td>\n",
              "      <td>0.0</td>\n",
              "      <td>4.0</td>\n",
              "      <td>0.0</td>\n",
              "    </tr>\n",
              "    <tr>\n",
              "      <th>M1</th>\n",
              "      <td>0.0</td>\n",
              "      <td>0.0</td>\n",
              "      <td>5.0</td>\n",
              "      <td>4.0</td>\n",
              "      <td>0.0</td>\n",
              "      <td>0.0</td>\n",
              "      <td>4.0</td>\n",
              "      <td>0.0</td>\n",
              "      <td>0.0</td>\n",
              "      <td>2.0</td>\n",
              "      <td>1.0</td>\n",
              "      <td>3.0</td>\n",
              "    </tr>\n",
              "    <tr>\n",
              "      <th>M2</th>\n",
              "      <td>2.0</td>\n",
              "      <td>4.0</td>\n",
              "      <td>0.0</td>\n",
              "      <td>1.0</td>\n",
              "      <td>2.0</td>\n",
              "      <td>0.0</td>\n",
              "      <td>3.0</td>\n",
              "      <td>0.0</td>\n",
              "      <td>4.0</td>\n",
              "      <td>3.0</td>\n",
              "      <td>5.0</td>\n",
              "      <td>0.0</td>\n",
              "    </tr>\n",
              "    <tr>\n",
              "      <th>M3</th>\n",
              "      <td>0.0</td>\n",
              "      <td>2.0</td>\n",
              "      <td>4.0</td>\n",
              "      <td>0.0</td>\n",
              "      <td>5.0</td>\n",
              "      <td>0.0</td>\n",
              "      <td>0.0</td>\n",
              "      <td>4.0</td>\n",
              "      <td>0.0</td>\n",
              "      <td>0.0</td>\n",
              "      <td>2.0</td>\n",
              "      <td>0.0</td>\n",
              "    </tr>\n",
              "    <tr>\n",
              "      <th>M4</th>\n",
              "      <td>0.0</td>\n",
              "      <td>0.0</td>\n",
              "      <td>4.0</td>\n",
              "      <td>3.0</td>\n",
              "      <td>4.0</td>\n",
              "      <td>2.0</td>\n",
              "      <td>0.0</td>\n",
              "      <td>0.0</td>\n",
              "      <td>0.0</td>\n",
              "      <td>0.0</td>\n",
              "      <td>2.0</td>\n",
              "      <td>5.0</td>\n",
              "    </tr>\n",
              "    <tr>\n",
              "      <th>M5</th>\n",
              "      <td>1.0</td>\n",
              "      <td>0.0</td>\n",
              "      <td>3.0</td>\n",
              "      <td>0.0</td>\n",
              "      <td>3.0</td>\n",
              "      <td>0.0</td>\n",
              "      <td>0.0</td>\n",
              "      <td>2.0</td>\n",
              "      <td>0.0</td>\n",
              "      <td>0.0</td>\n",
              "      <td>4.0</td>\n",
              "      <td>0.0</td>\n",
              "    </tr>\n",
              "  </tbody>\n",
              "</table>\n",
              "</div>\n",
              "      <button class=\"colab-df-convert\" onclick=\"convertToInteractive('df-69c639e8-0bc3-478d-a49a-8a7aa3b5aa22')\"\n",
              "              title=\"Convert this dataframe to an interactive table.\"\n",
              "              style=\"display:none;\">\n",
              "        \n",
              "  <svg xmlns=\"http://www.w3.org/2000/svg\" height=\"24px\"viewBox=\"0 0 24 24\"\n",
              "       width=\"24px\">\n",
              "    <path d=\"M0 0h24v24H0V0z\" fill=\"none\"/>\n",
              "    <path d=\"M18.56 5.44l.94 2.06.94-2.06 2.06-.94-2.06-.94-.94-2.06-.94 2.06-2.06.94zm-11 1L8.5 8.5l.94-2.06 2.06-.94-2.06-.94L8.5 2.5l-.94 2.06-2.06.94zm10 10l.94 2.06.94-2.06 2.06-.94-2.06-.94-.94-2.06-.94 2.06-2.06.94z\"/><path d=\"M17.41 7.96l-1.37-1.37c-.4-.4-.92-.59-1.43-.59-.52 0-1.04.2-1.43.59L10.3 9.45l-7.72 7.72c-.78.78-.78 2.05 0 2.83L4 21.41c.39.39.9.59 1.41.59.51 0 1.02-.2 1.41-.59l7.78-7.78 2.81-2.81c.8-.78.8-2.07 0-2.86zM5.41 20L4 18.59l7.72-7.72 1.47 1.35L5.41 20z\"/>\n",
              "  </svg>\n",
              "      </button>\n",
              "      \n",
              "  <style>\n",
              "    .colab-df-container {\n",
              "      display:flex;\n",
              "      flex-wrap:wrap;\n",
              "      gap: 12px;\n",
              "    }\n",
              "\n",
              "    .colab-df-convert {\n",
              "      background-color: #E8F0FE;\n",
              "      border: none;\n",
              "      border-radius: 50%;\n",
              "      cursor: pointer;\n",
              "      display: none;\n",
              "      fill: #1967D2;\n",
              "      height: 32px;\n",
              "      padding: 0 0 0 0;\n",
              "      width: 32px;\n",
              "    }\n",
              "\n",
              "    .colab-df-convert:hover {\n",
              "      background-color: #E2EBFA;\n",
              "      box-shadow: 0px 1px 2px rgba(60, 64, 67, 0.3), 0px 1px 3px 1px rgba(60, 64, 67, 0.15);\n",
              "      fill: #174EA6;\n",
              "    }\n",
              "\n",
              "    [theme=dark] .colab-df-convert {\n",
              "      background-color: #3B4455;\n",
              "      fill: #D2E3FC;\n",
              "    }\n",
              "\n",
              "    [theme=dark] .colab-df-convert:hover {\n",
              "      background-color: #434B5C;\n",
              "      box-shadow: 0px 1px 3px 1px rgba(0, 0, 0, 0.15);\n",
              "      filter: drop-shadow(0px 1px 2px rgba(0, 0, 0, 0.3));\n",
              "      fill: #FFFFFF;\n",
              "    }\n",
              "  </style>\n",
              "\n",
              "      <script>\n",
              "        const buttonEl =\n",
              "          document.querySelector('#df-69c639e8-0bc3-478d-a49a-8a7aa3b5aa22 button.colab-df-convert');\n",
              "        buttonEl.style.display =\n",
              "          google.colab.kernel.accessAllowed ? 'block' : 'none';\n",
              "\n",
              "        async function convertToInteractive(key) {\n",
              "          const element = document.querySelector('#df-69c639e8-0bc3-478d-a49a-8a7aa3b5aa22');\n",
              "          const dataTable =\n",
              "            await google.colab.kernel.invokeFunction('convertToInteractive',\n",
              "                                                     [key], {});\n",
              "          if (!dataTable) return;\n",
              "\n",
              "          const docLinkHtml = 'Like what you see? Visit the ' +\n",
              "            '<a target=\"_blank\" href=https://colab.research.google.com/notebooks/data_table.ipynb>data table notebook</a>'\n",
              "            + ' to learn more about interactive tables.';\n",
              "          element.innerHTML = '';\n",
              "          dataTable['output_type'] = 'display_data';\n",
              "          await google.colab.output.renderOutput(dataTable, element);\n",
              "          const docLink = document.createElement('div');\n",
              "          docLink.innerHTML = docLinkHtml;\n",
              "          element.appendChild(docLink);\n",
              "        }\n",
              "      </script>\n",
              "    </div>\n",
              "  </div>\n",
              "  "
            ]
          },
          "metadata": {},
          "execution_count": 84
        }
      ]
    },
    {
      "cell_type": "code",
      "metadata": {
        "colab": {
          "base_uri": "https://localhost:8080/",
          "height": 238
        },
        "id": "sk1cXPKMUI_a",
        "outputId": "f0bca12a-47cc-4dba-9657-5fc0530cb223"
      },
      "source": [
        "ratings_train"
      ],
      "execution_count": null,
      "outputs": [
        {
          "output_type": "execute_result",
          "data": {
            "text/plain": [
              "     U0   U1   U2   U3   U4   U5   U6   U7   U8   U9  U10  U11\n",
              "M0  1.0  0.0  3.0  0.0  0.0  5.0  0.0  0.0  5.0  0.0  0.0  0.0\n",
              "M1  0.0  0.0  5.0  4.0  0.0  0.0  4.0  0.0  0.0  2.0  1.0  3.0\n",
              "M2  2.0  4.0  0.0  1.0  0.0  0.0  0.0  0.0  4.0  3.0  0.0  0.0\n",
              "M3  0.0  2.0  4.0  0.0  5.0  0.0  0.0  4.0  0.0  0.0  2.0  0.0\n",
              "M4  0.0  0.0  4.0  3.0  0.0  2.0  0.0  0.0  0.0  0.0  0.0  5.0\n",
              "M5  1.0  0.0  3.0  0.0  3.0  0.0  0.0  2.0  0.0  0.0  4.0  0.0"
            ],
            "text/html": [
              "\n",
              "  <div id=\"df-9751ad06-6b97-4532-b008-b1c4b203ba34\">\n",
              "    <div class=\"colab-df-container\">\n",
              "      <div>\n",
              "<style scoped>\n",
              "    .dataframe tbody tr th:only-of-type {\n",
              "        vertical-align: middle;\n",
              "    }\n",
              "\n",
              "    .dataframe tbody tr th {\n",
              "        vertical-align: top;\n",
              "    }\n",
              "\n",
              "    .dataframe thead th {\n",
              "        text-align: right;\n",
              "    }\n",
              "</style>\n",
              "<table border=\"1\" class=\"dataframe\">\n",
              "  <thead>\n",
              "    <tr style=\"text-align: right;\">\n",
              "      <th></th>\n",
              "      <th>U0</th>\n",
              "      <th>U1</th>\n",
              "      <th>U2</th>\n",
              "      <th>U3</th>\n",
              "      <th>U4</th>\n",
              "      <th>U5</th>\n",
              "      <th>U6</th>\n",
              "      <th>U7</th>\n",
              "      <th>U8</th>\n",
              "      <th>U9</th>\n",
              "      <th>U10</th>\n",
              "      <th>U11</th>\n",
              "    </tr>\n",
              "  </thead>\n",
              "  <tbody>\n",
              "    <tr>\n",
              "      <th>M0</th>\n",
              "      <td>1.0</td>\n",
              "      <td>0.0</td>\n",
              "      <td>3.0</td>\n",
              "      <td>0.0</td>\n",
              "      <td>0.0</td>\n",
              "      <td>5.0</td>\n",
              "      <td>0.0</td>\n",
              "      <td>0.0</td>\n",
              "      <td>5.0</td>\n",
              "      <td>0.0</td>\n",
              "      <td>0.0</td>\n",
              "      <td>0.0</td>\n",
              "    </tr>\n",
              "    <tr>\n",
              "      <th>M1</th>\n",
              "      <td>0.0</td>\n",
              "      <td>0.0</td>\n",
              "      <td>5.0</td>\n",
              "      <td>4.0</td>\n",
              "      <td>0.0</td>\n",
              "      <td>0.0</td>\n",
              "      <td>4.0</td>\n",
              "      <td>0.0</td>\n",
              "      <td>0.0</td>\n",
              "      <td>2.0</td>\n",
              "      <td>1.0</td>\n",
              "      <td>3.0</td>\n",
              "    </tr>\n",
              "    <tr>\n",
              "      <th>M2</th>\n",
              "      <td>2.0</td>\n",
              "      <td>4.0</td>\n",
              "      <td>0.0</td>\n",
              "      <td>1.0</td>\n",
              "      <td>0.0</td>\n",
              "      <td>0.0</td>\n",
              "      <td>0.0</td>\n",
              "      <td>0.0</td>\n",
              "      <td>4.0</td>\n",
              "      <td>3.0</td>\n",
              "      <td>0.0</td>\n",
              "      <td>0.0</td>\n",
              "    </tr>\n",
              "    <tr>\n",
              "      <th>M3</th>\n",
              "      <td>0.0</td>\n",
              "      <td>2.0</td>\n",
              "      <td>4.0</td>\n",
              "      <td>0.0</td>\n",
              "      <td>5.0</td>\n",
              "      <td>0.0</td>\n",
              "      <td>0.0</td>\n",
              "      <td>4.0</td>\n",
              "      <td>0.0</td>\n",
              "      <td>0.0</td>\n",
              "      <td>2.0</td>\n",
              "      <td>0.0</td>\n",
              "    </tr>\n",
              "    <tr>\n",
              "      <th>M4</th>\n",
              "      <td>0.0</td>\n",
              "      <td>0.0</td>\n",
              "      <td>4.0</td>\n",
              "      <td>3.0</td>\n",
              "      <td>0.0</td>\n",
              "      <td>2.0</td>\n",
              "      <td>0.0</td>\n",
              "      <td>0.0</td>\n",
              "      <td>0.0</td>\n",
              "      <td>0.0</td>\n",
              "      <td>0.0</td>\n",
              "      <td>5.0</td>\n",
              "    </tr>\n",
              "    <tr>\n",
              "      <th>M5</th>\n",
              "      <td>1.0</td>\n",
              "      <td>0.0</td>\n",
              "      <td>3.0</td>\n",
              "      <td>0.0</td>\n",
              "      <td>3.0</td>\n",
              "      <td>0.0</td>\n",
              "      <td>0.0</td>\n",
              "      <td>2.0</td>\n",
              "      <td>0.0</td>\n",
              "      <td>0.0</td>\n",
              "      <td>4.0</td>\n",
              "      <td>0.0</td>\n",
              "    </tr>\n",
              "  </tbody>\n",
              "</table>\n",
              "</div>\n",
              "      <button class=\"colab-df-convert\" onclick=\"convertToInteractive('df-9751ad06-6b97-4532-b008-b1c4b203ba34')\"\n",
              "              title=\"Convert this dataframe to an interactive table.\"\n",
              "              style=\"display:none;\">\n",
              "        \n",
              "  <svg xmlns=\"http://www.w3.org/2000/svg\" height=\"24px\"viewBox=\"0 0 24 24\"\n",
              "       width=\"24px\">\n",
              "    <path d=\"M0 0h24v24H0V0z\" fill=\"none\"/>\n",
              "    <path d=\"M18.56 5.44l.94 2.06.94-2.06 2.06-.94-2.06-.94-.94-2.06-.94 2.06-2.06.94zm-11 1L8.5 8.5l.94-2.06 2.06-.94-2.06-.94L8.5 2.5l-.94 2.06-2.06.94zm10 10l.94 2.06.94-2.06 2.06-.94-2.06-.94-.94-2.06-.94 2.06-2.06.94z\"/><path d=\"M17.41 7.96l-1.37-1.37c-.4-.4-.92-.59-1.43-.59-.52 0-1.04.2-1.43.59L10.3 9.45l-7.72 7.72c-.78.78-.78 2.05 0 2.83L4 21.41c.39.39.9.59 1.41.59.51 0 1.02-.2 1.41-.59l7.78-7.78 2.81-2.81c.8-.78.8-2.07 0-2.86zM5.41 20L4 18.59l7.72-7.72 1.47 1.35L5.41 20z\"/>\n",
              "  </svg>\n",
              "      </button>\n",
              "      \n",
              "  <style>\n",
              "    .colab-df-container {\n",
              "      display:flex;\n",
              "      flex-wrap:wrap;\n",
              "      gap: 12px;\n",
              "    }\n",
              "\n",
              "    .colab-df-convert {\n",
              "      background-color: #E8F0FE;\n",
              "      border: none;\n",
              "      border-radius: 50%;\n",
              "      cursor: pointer;\n",
              "      display: none;\n",
              "      fill: #1967D2;\n",
              "      height: 32px;\n",
              "      padding: 0 0 0 0;\n",
              "      width: 32px;\n",
              "    }\n",
              "\n",
              "    .colab-df-convert:hover {\n",
              "      background-color: #E2EBFA;\n",
              "      box-shadow: 0px 1px 2px rgba(60, 64, 67, 0.3), 0px 1px 3px 1px rgba(60, 64, 67, 0.15);\n",
              "      fill: #174EA6;\n",
              "    }\n",
              "\n",
              "    [theme=dark] .colab-df-convert {\n",
              "      background-color: #3B4455;\n",
              "      fill: #D2E3FC;\n",
              "    }\n",
              "\n",
              "    [theme=dark] .colab-df-convert:hover {\n",
              "      background-color: #434B5C;\n",
              "      box-shadow: 0px 1px 3px 1px rgba(0, 0, 0, 0.15);\n",
              "      filter: drop-shadow(0px 1px 2px rgba(0, 0, 0, 0.3));\n",
              "      fill: #FFFFFF;\n",
              "    }\n",
              "  </style>\n",
              "\n",
              "      <script>\n",
              "        const buttonEl =\n",
              "          document.querySelector('#df-9751ad06-6b97-4532-b008-b1c4b203ba34 button.colab-df-convert');\n",
              "        buttonEl.style.display =\n",
              "          google.colab.kernel.accessAllowed ? 'block' : 'none';\n",
              "\n",
              "        async function convertToInteractive(key) {\n",
              "          const element = document.querySelector('#df-9751ad06-6b97-4532-b008-b1c4b203ba34');\n",
              "          const dataTable =\n",
              "            await google.colab.kernel.invokeFunction('convertToInteractive',\n",
              "                                                     [key], {});\n",
              "          if (!dataTable) return;\n",
              "\n",
              "          const docLinkHtml = 'Like what you see? Visit the ' +\n",
              "            '<a target=\"_blank\" href=https://colab.research.google.com/notebooks/data_table.ipynb>data table notebook</a>'\n",
              "            + ' to learn more about interactive tables.';\n",
              "          element.innerHTML = '';\n",
              "          dataTable['output_type'] = 'display_data';\n",
              "          await google.colab.output.renderOutput(dataTable, element);\n",
              "          const docLink = document.createElement('div');\n",
              "          docLink.innerHTML = docLinkHtml;\n",
              "          element.appendChild(docLink);\n",
              "        }\n",
              "      </script>\n",
              "    </div>\n",
              "  </div>\n",
              "  "
            ]
          },
          "metadata": {},
          "execution_count": 85
        }
      ]
    },
    {
      "cell_type": "code",
      "metadata": {
        "id": "gVq5RIZNUKRt"
      },
      "source": [
        "# valores reais\n",
        "y_true = ratings.values[i[idx_test], j[idx_test]]"
      ],
      "execution_count": null,
      "outputs": []
    },
    {
      "cell_type": "code",
      "metadata": {
        "colab": {
          "base_uri": "https://localhost:8080/"
        },
        "id": "4PVv6ZhrVA2y",
        "outputId": "124385a9-a055-4893-e39f-bf8e1fb73fee"
      },
      "source": [
        "y_true"
      ],
      "execution_count": null,
      "outputs": [
        {
          "output_type": "execute_result",
          "data": {
            "text/plain": [
              "array([4., 4., 3.])"
            ]
          },
          "metadata": {},
          "execution_count": 87
        }
      ]
    },
    {
      "cell_type": "code",
      "metadata": {
        "colab": {
          "base_uri": "https://localhost:8080/"
        },
        "id": "K2CMo1KhVByQ",
        "outputId": "46004115-da89-407d-af78-b3ab0be10fb8"
      },
      "source": [
        "# predição\n",
        "y_pred = []\n",
        "for k in range(len(idx_test)):\n",
        "  y_pred.append(estimate_rating(ratings_train,\n",
        "                user_index=j[idx_test][k],\n",
        "                item_index=i[idx_test][k],\n",
        "                aggregation='mean'))\n",
        "y_pred = np.array(y_pred)"
      ],
      "execution_count": null,
      "outputs": [
        {
          "output_type": "stream",
          "name": "stdout",
          "text": [
            "Predição para user_index=10, item_index=0,k=2, aggregation=mean é: 3.00\n",
            "Predição para user_index=4, item_index=4,k=2, aggregation=mean é: 4.00\n",
            "Predição para user_index=6, item_index=2,k=2, aggregation=mean é: 4.00\n"
          ]
        }
      ]
    },
    {
      "cell_type": "code",
      "metadata": {
        "colab": {
          "base_uri": "https://localhost:8080/"
        },
        "id": "r3TWdoc6WKyQ",
        "outputId": "6c0e5b72-e1ee-4a61-b9c9-03eb65586086"
      },
      "source": [
        "y_pred"
      ],
      "execution_count": null,
      "outputs": [
        {
          "output_type": "execute_result",
          "data": {
            "text/plain": [
              "array([3., 4., 4.])"
            ]
          },
          "metadata": {},
          "execution_count": 89
        }
      ]
    },
    {
      "cell_type": "code",
      "metadata": {
        "colab": {
          "base_uri": "https://localhost:8080/"
        },
        "id": "iRxzkPIPWT-e",
        "outputId": "9a670fee-69e6-4a2c-9b5f-53ce01a57f36"
      },
      "source": [
        "# RMSE\n",
        "rmse = np.sqrt(np.mean((y_true-y_pred)**2))\n",
        "print(f\"RMSE de teste FC agregando pela média simples: {rmse: .2f}\")"
      ],
      "execution_count": null,
      "outputs": [
        {
          "output_type": "stream",
          "name": "stdout",
          "text": [
            "RMSE de teste FC agregando pela média simples:  0.82\n"
          ]
        }
      ]
    },
    {
      "cell_type": "code",
      "metadata": {
        "colab": {
          "base_uri": "https://localhost:8080/"
        },
        "id": "mVu4TNMpXF0o",
        "outputId": "5ccfce37-80c2-4bc6-e996-720d0e5eb6bc"
      },
      "source": [
        "# predição\n",
        "y_pred = []\n",
        "for k in range(len(idx_test)):\n",
        "  y_pred.append(estimate_rating(ratings_train,\n",
        "                user_index=j[idx_test][k],\n",
        "                item_index=i[idx_test][k],\n",
        "                aggregation='wmean'))\n",
        "y_pred = np.array(y_pred)"
      ],
      "execution_count": null,
      "outputs": [
        {
          "output_type": "stream",
          "name": "stdout",
          "text": [
            "Predição para user_index=10, item_index=0,k=2, aggregation=wmean é: 3.87\n",
            "Predição para user_index=4, item_index=4,k=2, aggregation=wmean é: 4.12\n",
            "Predição para user_index=6, item_index=2,k=2, aggregation=wmean é: 4.00\n"
          ]
        }
      ]
    },
    {
      "cell_type": "code",
      "metadata": {
        "colab": {
          "base_uri": "https://localhost:8080/"
        },
        "id": "ogqDysdMYJTo",
        "outputId": "4df0f9fd-8361-4346-ed4f-486955cf5d7e"
      },
      "source": [
        "y_pred"
      ],
      "execution_count": null,
      "outputs": [
        {
          "output_type": "execute_result",
          "data": {
            "text/plain": [
              "array([3.87425191, 4.12078398, 4.        ])"
            ]
          },
          "metadata": {},
          "execution_count": 92
        }
      ]
    },
    {
      "cell_type": "code",
      "metadata": {
        "colab": {
          "base_uri": "https://localhost:8080/"
        },
        "id": "Orrnh-4dXyKC",
        "outputId": "0eae0c01-c0ae-4518-f9fc-3920dd49bee6"
      },
      "source": [
        "# RMSE\n",
        "rmse = np.sqrt(np.mean((y_true-y_pred)**2))\n",
        "print(f\"RMSE de teste FC agregando pela média ponderada das similaridades: {rmse: .2f}\")"
      ],
      "execution_count": null,
      "outputs": [
        {
          "output_type": "stream",
          "name": "stdout",
          "text": [
            "RMSE de teste FC agregando pela média ponderada das similaridades:  0.59\n"
          ]
        }
      ]
    }
  ]
}