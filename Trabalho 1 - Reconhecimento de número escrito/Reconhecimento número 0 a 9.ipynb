{
  "nbformat": 4,
  "nbformat_minor": 0,
  "metadata": {
    "colab": {
      "provenance": []
    },
    "kernelspec": {
      "name": "python3",
      "display_name": "Python 3"
    },
    "language_info": {
      "name": "python"
    },
    "accelerator": "GPU",
    "gpuClass": "standard"
  },
  "cells": [
    {
      "cell_type": "markdown",
      "source": [
        "## 1. Importando Bibliotecas e Dataset de imagens 'mnist'"
      ],
      "metadata": {
        "id": "SKsiZ4nmUbfy"
      }
    },
    {
      "cell_type": "code",
      "execution_count": 1,
      "metadata": {
        "id": "wZS1M3HdzoDK"
      },
      "outputs": [],
      "source": [
        "import numpy # importa biblioteca para manipulação de matrizes\n",
        "from matplotlib import pyplot as plt # importa biblioteca para criação de gráficos\n",
        "\n",
        "# Bibliotecas do keras (Para Deep Learning)\n",
        "from keras.datasets import mnist      # importa o dataset mnist\n",
        "from keras.models import Sequential   # importa um modelo sequencial\n",
        "from keras.layers import Dense        # importa camadas totalmente conectadas \n",
        "from keras.layers import Dropout      # importa a estrutura de dropout\n",
        "from keras.utils import np_utils      # importa biblioteca de utilidades do keras"
      ]
    },
    {
      "cell_type": "markdown",
      "source": [
        "## 2. Separação em Dados de Treino e de Teste"
      ],
      "metadata": {
        "id": "ZeGFjR1DUpZP"
      }
    },
    {
      "cell_type": "code",
      "source": [
        "(X_train, y_train), (X_test, y_test) = mnist.load_data() # importa o dataset Mnist da biblioteca Keras\n",
        "\n",
        "# imprime o tamanho do vetor\n",
        "print(X_train.shape)"
      ],
      "metadata": {
        "colab": {
          "base_uri": "https://localhost:8080/"
        },
        "id": "0xrDiY4g1i0T",
        "outputId": "75db6d30-3f36-410c-e147-f6e1d43aae13"
      },
      "execution_count": 2,
      "outputs": [
        {
          "output_type": "stream",
          "name": "stdout",
          "text": [
            "Downloading data from https://storage.googleapis.com/tensorflow/tf-keras-datasets/mnist.npz\n",
            "11490434/11490434 [==============================] - 2s 0us/step\n",
            "(60000, 28, 28)\n"
          ]
        }
      ]
    },
    {
      "cell_type": "markdown",
      "source": [
        "## 3. Exploração de dados "
      ],
      "metadata": {
        "id": "T_j3tb8zXvto"
      }
    },
    {
      "cell_type": "code",
      "source": [
        "first_image = X_train[100] # obtém a imagem de treino no índice 100 do vetor\n",
        "\n",
        "# realiza manipulação dos dados da imagem\n",
        "first_image = numpy.array(first_image, dtype ='float')\n",
        "pixels = first_image.reshape((28,28))\n",
        "\n",
        "# exibe a imagem do vetor\n",
        "plt.imshow(pixels, cmap='gray')\n",
        "plt.show()\n",
        "\n",
        "# imprime o label da imagem de treino do índice 100\n",
        "print('O número da imagem acima é:',y_train[100])"
      ],
      "metadata": {
        "colab": {
          "base_uri": "https://localhost:8080/",
          "height": 282
        },
        "id": "MT9IGtav3JsJ",
        "outputId": "d45d8ae5-c1b0-42e1-c5f9-9a868717d9e9"
      },
      "execution_count": 5,
      "outputs": [
        {
          "output_type": "display_data",
          "data": {
            "text/plain": [
              "<Figure size 432x288 with 1 Axes>"
            ],
            "image/png": "[encoded data removed]"
          },
          "metadata": {
            "needs_background": "light"
          }
        },
        {
          "output_type": "stream",
          "name": "stdout",
          "text": [
            "O número da imagem é: 5\n"
          ]
        }
      ]
    },
    {
      "cell_type": "markdown",
      "source": [
        "Preciso pegar a quantidade de pixels que cada imagem possui pois isso determinará a quantidade de Neurônios de Entrada (Input Layer) que teremos."
      ],
      "metadata": {
        "id": "GZNeEYpCVuMl"
      }
    },
    {
      "cell_type": "code",
      "source": [
        "# Calculando o total de pixels da imagem, multiplicando as suas dimensões\n",
        "num_pixels = X_train.shape[1] * X_train.shape[2]\n",
        "print('Número de pixels em cada imagem:',num_pixels)\n",
        "\n",
        "# Transforma os valores dos pixels para float32\n",
        "X_train2 = X_train.reshape(X_train.shape[0], num_pixels).astype('float32')\n",
        "X_test2 = X_test.reshape(X_test.shape[0], num_pixels).astype('float32')\n",
        "\n",
        "# Normalizando os valores dos pixels entre 0 e 1\n",
        "X_train2 = X_train2 / 255\n",
        "X_test2 = X_test2 / 255"
      ],
      "metadata": {
        "colab": {
          "base_uri": "https://localhost:8080/"
        },
        "id": "_5xWCH0x4biY",
        "outputId": "4157aadf-4471-4f91-bf83-771d180d6907"
      },
      "execution_count": 13,
      "outputs": [
        {
          "output_type": "stream",
          "name": "stdout",
          "text": [
            "Número de pixels em cada imagem: 784\n"
          ]
        }
      ]
    },
    {
      "cell_type": "code",
      "source": [
        "# Transformando nossos labels em categóricos para podermos usá-los como uma matriz\n",
        "# Em outras palavras, estamos transformando o y em ONE HOT VECTOR\n",
        "y_train_h = np_utils.to_categorical(y_train)\n",
        "y_test_h = np_utils.to_categorical(y_test)\n",
        "\n",
        "# Vamos ver um Exemplo: vimos anteriormente que o número no índice 100 é 5, agora veremos ele representado no formato de matriz\n",
        "print('O número do índice 100 é:',y_train[100])\n",
        "print('O número do índice 100 no formato de matriz é:',y_train_h[100])"
      ],
      "metadata": {
        "colab": {
          "base_uri": "https://localhost:8080/"
        },
        "id": "wh-z_XmK7Idl",
        "outputId": "4a1fc9f4-1d97-4f41-d38e-8392d27878e0"
      },
      "execution_count": 9,
      "outputs": [
        {
          "output_type": "stream",
          "name": "stdout",
          "text": [
            "O número do índice 100 é: 5\n",
            "O número do índice 100 no formato de matriz é: [0. 0. 0. 0. 0. 1. 0. 0. 0. 0.]\n"
          ]
        }
      ]
    },
    {
      "cell_type": "code",
      "source": [
        "# Obtendo o número de classes do problema, que será igual ao número de neurônios na camada de saída (output layer)\n",
        "num_classes = y_train_h.shape[1]\n",
        "\n",
        "print(num_classes)"
      ],
      "metadata": {
        "colab": {
          "base_uri": "https://localhost:8080/"
        },
        "id": "Zzz4vVu-gyjD",
        "outputId": "3eaa896f-e53b-45d4-f905-2a18f0bd1532"
      },
      "execution_count": 15,
      "outputs": [
        {
          "output_type": "stream",
          "name": "stdout",
          "text": [
            "10\n"
          ]
        }
      ]
    },
    {
      "cell_type": "markdown",
      "source": [
        "## 4. Criação do modelo de Rede Neural"
      ],
      "metadata": {
        "id": "3UrWVeJGYKAQ"
      }
    },
    {
      "cell_type": "code",
      "source": [
        "# Criando o Modelo Sequencial de RNA\n",
        "model = Sequential([\n",
        "    Dense(units=1024, kernel_initializer='normal', input_dim=num_pixels, activation='relu'), # 1ª camada\n",
        "    Dense(units=2048, kernel_initializer='normal', activation='relu'), # 2ª camada\n",
        "    Dense(units=num_classes,kernel_initializer='normal', activation='softmax') # Camada de Saída\n",
        "])\n",
        "\n",
        "model.summary()"
      ],
      "metadata": {
        "colab": {
          "base_uri": "https://localhost:8080/"
        },
        "id": "8yGkhOK8kLHt",
        "outputId": "e5b8c9ce-310d-49af-efce-0e4d683e0fca"
      },
      "execution_count": 16,
      "outputs": [
        {
          "output_type": "stream",
          "name": "stdout",
          "text": [
            "Model: \"sequential\"\n",
            "_________________________________________________________________\n",
            " Layer (type)                Output Shape              Param #   \n",
            "=================================================================\n",
            " dense (Dense)               (None, 1024)              803840    \n",
            "                                                                 \n",
            " dense_1 (Dense)             (None, 2048)              2099200   \n",
            "                                                                 \n",
            " dense_2 (Dense)             (None, 10)                20490     \n",
            "                                                                 \n",
            "=================================================================\n",
            "Total params: 2,923,530\n",
            "Trainable params: 2,923,530\n",
            "Non-trainable params: 0\n",
            "_________________________________________________________________\n"
          ]
        }
      ]
    },
    {
      "cell_type": "markdown",
      "source": [
        "## 5. Treinamento do modelo"
      ],
      "metadata": {
        "id": "egVsuGVCaCfr"
      }
    },
    {
      "cell_type": "code",
      "source": [
        "model.compile(loss='categorical_crossentropy', optimizer='adam', metrics=['accuracy']) # compila o modelo criado\n",
        "result = model.fit(X_train2, y_train_h, validation_data=(X_test2,y_test_h), epochs=20, verbose=1, batch_size = 100) # executa o treinamento"
      ],
      "metadata": {
        "colab": {
          "base_uri": "https://localhost:8080/"
        },
        "id": "Iy0ORI1zrgov",
        "outputId": "82666f7b-d65b-40fa-b604-4b6f44a1738e"
      },
      "execution_count": 17,
      "outputs": [
        {
          "output_type": "stream",
          "name": "stdout",
          "text": [
            "Epoch 1/20\n",
            "600/600 [==============================] - 8s 4ms/step - loss: 0.1808 - accuracy: 0.9454 - val_loss: 0.1043 - val_accuracy: 0.9676\n",
            "Epoch 2/20\n",
            "600/600 [==============================] - 2s 4ms/step - loss: 0.0696 - accuracy: 0.9785 - val_loss: 0.0749 - val_accuracy: 0.9767\n",
            "Epoch 3/20\n",
            "600/600 [==============================] - 2s 4ms/step - loss: 0.0460 - accuracy: 0.9851 - val_loss: 0.0732 - val_accuracy: 0.9791\n",
            "Epoch 4/20\n",
            "600/600 [==============================] - 2s 4ms/step - loss: 0.0347 - accuracy: 0.9885 - val_loss: 0.0893 - val_accuracy: 0.9733\n",
            "Epoch 5/20\n",
            "600/600 [==============================] - 3s 5ms/step - loss: 0.0285 - accuracy: 0.9906 - val_loss: 0.0711 - val_accuracy: 0.9798\n",
            "Epoch 6/20\n",
            "600/600 [==============================] - 2s 4ms/step - loss: 0.0229 - accuracy: 0.9928 - val_loss: 0.0782 - val_accuracy: 0.9813\n",
            "Epoch 7/20\n",
            "600/600 [==============================] - 2s 4ms/step - loss: 0.0256 - accuracy: 0.9919 - val_loss: 0.0991 - val_accuracy: 0.9744\n",
            "Epoch 8/20\n",
            "600/600 [==============================] - 3s 6ms/step - loss: 0.0182 - accuracy: 0.9943 - val_loss: 0.1105 - val_accuracy: 0.9762\n",
            "Epoch 9/20\n",
            "600/600 [==============================] - 3s 4ms/step - loss: 0.0179 - accuracy: 0.9943 - val_loss: 0.0877 - val_accuracy: 0.9809\n",
            "Epoch 10/20\n",
            "600/600 [==============================] - 4s 7ms/step - loss: 0.0186 - accuracy: 0.9944 - val_loss: 0.1081 - val_accuracy: 0.9789\n",
            "Epoch 11/20\n",
            "600/600 [==============================] - 2s 4ms/step - loss: 0.0157 - accuracy: 0.9953 - val_loss: 0.1300 - val_accuracy: 0.9751\n",
            "Epoch 12/20\n",
            "600/600 [==============================] - 2s 4ms/step - loss: 0.0139 - accuracy: 0.9956 - val_loss: 0.1171 - val_accuracy: 0.9775\n",
            "Epoch 13/20\n",
            "600/600 [==============================] - 2s 4ms/step - loss: 0.0180 - accuracy: 0.9949 - val_loss: 0.0847 - val_accuracy: 0.9822\n",
            "Epoch 14/20\n",
            "600/600 [==============================] - 5s 8ms/step - loss: 0.0100 - accuracy: 0.9970 - val_loss: 0.1161 - val_accuracy: 0.9776\n",
            "Epoch 15/20\n",
            "600/600 [==============================] - 4s 7ms/step - loss: 0.0164 - accuracy: 0.9952 - val_loss: 0.1104 - val_accuracy: 0.9785\n",
            "Epoch 16/20\n",
            "600/600 [==============================] - 3s 5ms/step - loss: 0.0107 - accuracy: 0.9971 - val_loss: 0.0958 - val_accuracy: 0.9837\n",
            "Epoch 17/20\n",
            "600/600 [==============================] - 4s 7ms/step - loss: 0.0093 - accuracy: 0.9974 - val_loss: 0.1169 - val_accuracy: 0.9813\n",
            "Epoch 18/20\n",
            "600/600 [==============================] - 3s 5ms/step - loss: 0.0122 - accuracy: 0.9966 - val_loss: 0.1298 - val_accuracy: 0.9793\n",
            "Epoch 19/20\n",
            "600/600 [==============================] - 2s 4ms/step - loss: 0.0117 - accuracy: 0.9968 - val_loss: 0.1231 - val_accuracy: 0.9799\n",
            "Epoch 20/20\n",
            "600/600 [==============================] - 2s 4ms/step - loss: 0.0111 - accuracy: 0.9971 - val_loss: 0.1245 - val_accuracy: 0.9813\n"
          ]
        }
      ]
    },
    {
      "cell_type": "markdown",
      "source": [
        "A partir do modelo já treinado, farei um teste vendo o resultado que ele me gera para a imagem de índice 100, que vimos anteriormente ser o número 5."
      ],
      "metadata": {
        "id": "EPPQF-TLaJny"
      }
    },
    {
      "cell_type": "code",
      "source": [
        "# obtém a imagem número 100\n",
        "x = X_train2[100]\n",
        "print(x.shape)\n",
        "\n",
        "# Transformando em 2 dimensões (vetor)\n",
        "x = numpy.expand_dims(x, axis=0)\n",
        "print(x.shape)\n",
        "\n",
        "print('-'*60)\n",
        "\n",
        "# Usaremos o .predict para prever qual o número que o modelo achará para esse índice 100\n",
        "# OBS.: Precisamos passar um vetor para essa função, por isso usamos o numpy para transformar a imagem em vetor\n",
        "print('Resultado em formato de matriz:',model.predict(x))\n",
        "\n",
        "print('-'*60)\n",
        "\n",
        "# Função argmax abaixo pega o maior valor de um conjunto que eu passo para ele. Com essa função veremos o número que o modelo achou\n",
        "print('Resultado para o índice 100:',numpy.argmax(model.predict(x))) "
      ],
      "metadata": {
        "colab": {
          "base_uri": "https://localhost:8080/"
        },
        "id": "Bua6WhwSvmvo",
        "outputId": "472c60ab-8a3e-4ad4-ad1c-ba6a00cd0381"
      },
      "execution_count": 22,
      "outputs": [
        {
          "output_type": "stream",
          "name": "stdout",
          "text": [
            "(784,)\n",
            "(1, 784)\n",
            "------------------------------------------------------------\n",
            "1/1 [==============================] - 0s 23ms/step\n",
            "Resultado em formato de matriz: [[5.6034882e-11 2.0244221e-12 2.6173508e-11 3.9535903e-09 2.7833211e-17\n",
            "  9.9973160e-01 5.2156149e-05 1.3772785e-14 2.1501111e-04 1.1754117e-06]]\n",
            "------------------------------------------------------------\n",
            "1/1 [==============================] - 0s 22ms/step\n",
            "Resultado para o índice 100: 5\n"
          ]
        }
      ]
    },
    {
      "cell_type": "markdown",
      "source": [
        "Nota-se que o resultado do modelo pode ser interpretado como a probabilidade de uma imagem pertencer a uma das 10 classes disponíveis (números de 0 a 9).\n",
        "\n",
        "Neste caso, ao colhermos o resultado do modelo para o índice 100, ele nos retorna com uma matriz onde a 6ª casa (correspondente ao número 5) possui o maior valor."
      ],
      "metadata": {
        "id": "I-GEgI8ObKHc"
      }
    }
  ]
}